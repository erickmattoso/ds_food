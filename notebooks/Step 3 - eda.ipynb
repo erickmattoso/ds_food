{
 "cells": [
  {
   "cell_type": "code",
   "execution_count": 67,
   "metadata": {
    "ExecuteTime": {
     "end_time": "2019-08-05T13:40:09.530227Z",
     "start_time": "2019-08-05T13:40:09.513445Z"
    }
   },
   "outputs": [],
   "source": [
    "import spacy\n",
    "import pandas as pd\n",
    "import numpy as np\n",
    "import matplotlib.pyplot as plt\n",
    "import itertools\n",
    "import ast\n",
    "from ast import literal_eval\n",
    "%matplotlib inline\n",
    "from spacy.lang.pt.examples import sentences \n"
   ]
  },
  {
   "cell_type": "code",
   "execution_count": 68,
   "metadata": {
    "ExecuteTime": {
     "end_time": "2019-08-05T13:40:15.108006Z",
     "start_time": "2019-08-05T13:40:15.022647Z"
    }
   },
   "outputs": [],
   "source": [
    "data = pd.read_csv('data/data_clr.csv',index_col=0)"
   ]
  },
  {
   "cell_type": "code",
   "execution_count": 69,
   "metadata": {
    "ExecuteTime": {
     "end_time": "2019-08-05T13:40:20.371423Z",
     "start_time": "2019-08-05T13:40:20.363979Z"
    }
   },
   "outputs": [
    {
     "data": {
      "text/plain": [
       "str"
      ]
     },
     "execution_count": 69,
     "metadata": {},
     "output_type": "execute_result"
    }
   ],
   "source": [
    "type(data['instrucoes'][2])"
   ]
  },
  {
   "cell_type": "code",
   "execution_count": 70,
   "metadata": {
    "ExecuteTime": {
     "end_time": "2019-08-05T13:40:25.640755Z",
     "start_time": "2019-08-05T13:40:25.630564Z"
    }
   },
   "outputs": [
    {
     "data": {
      "text/plain": [
       "(283, 9)"
      ]
     },
     "execution_count": 70,
     "metadata": {},
     "output_type": "execute_result"
    }
   ],
   "source": [
    "eval_df = data[2613:]\n",
    "eval_df.shape"
   ]
  },
  {
   "cell_type": "code",
   "execution_count": 71,
   "metadata": {
    "ExecuteTime": {
     "end_time": "2019-08-05T13:40:30.781698Z",
     "start_time": "2019-08-05T13:40:30.767135Z"
    }
   },
   "outputs": [
    {
     "data": {
      "text/plain": [
       "(2613, 9)"
      ]
     },
     "execution_count": 71,
     "metadata": {},
     "output_type": "execute_result"
    }
   ],
   "source": [
    "data = data[:2613]\n",
    "data.shape"
   ]
  },
  {
   "cell_type": "code",
   "execution_count": 72,
   "metadata": {
    "ExecuteTime": {
     "end_time": "2019-08-05T13:40:37.257216Z",
     "start_time": "2019-08-05T13:40:36.850832Z"
    }
   },
   "outputs": [],
   "source": [
    "import spacy\n",
    "nlp = spacy.load('pt_core_news_sm', disable=['parser', 'tagger', 'ner'])"
   ]
  },
  {
   "cell_type": "code",
   "execution_count": 73,
   "metadata": {
    "ExecuteTime": {
     "end_time": "2019-08-05T13:41:01.090640Z",
     "start_time": "2019-08-05T13:40:43.122241Z"
    }
   },
   "outputs": [],
   "source": [
    "tokenized = [nlp(t) for t in data['instrucoes'].values]"
   ]
  },
  {
   "cell_type": "code",
   "execution_count": 74,
   "metadata": {
    "ExecuteTime": {
     "end_time": "2019-08-05T13:41:06.393298Z",
     "start_time": "2019-08-05T13:41:05.764203Z"
    }
   },
   "outputs": [
    {
     "name": "stdout",
     "output_type": "stream",
     "text": [
      "Number of unique tokens: 10737\n"
     ]
    }
   ],
   "source": [
    "vocab = {\"<UNK>\": 1, \"<PAD>\": 0}\n",
    "for txt in tokenized:\n",
    "    for token in txt:\n",
    "        if token.text not in vocab.keys():\n",
    "            vocab[token.text] = len(vocab)\n",
    "print(\"Number of unique tokens: {}\".format(len(vocab)))"
   ]
  },
  {
   "cell_type": "code",
   "execution_count": 75,
   "metadata": {
    "ExecuteTime": {
     "end_time": "2019-08-05T13:41:12.496036Z",
     "start_time": "2019-08-05T13:41:12.479340Z"
    }
   },
   "outputs": [
    {
     "data": {
      "text/plain": [
       "numpy.ndarray"
      ]
     },
     "execution_count": 75,
     "metadata": {},
     "output_type": "execute_result"
    }
   ],
   "source": [
    "type(data['ingredientes'].values)"
   ]
  },
  {
   "cell_type": "code",
   "execution_count": 76,
   "metadata": {
    "ExecuteTime": {
     "end_time": "2019-08-05T13:41:18.231176Z",
     "start_time": "2019-08-05T13:41:17.998550Z"
    }
   },
   "outputs": [
    {
     "data": {
      "text/plain": [
       "list"
      ]
     },
     "execution_count": 76,
     "metadata": {},
     "output_type": "execute_result"
    }
   ],
   "source": [
    "ingredients = data['ingredientes'].apply(lambda x: literal_eval(str(x)))\n",
    "ingredients = ingredients.apply(lambda ingredients: list(itertools.chain(*ingredients)))\n",
    "type(ingredients[0])\n"
   ]
  },
  {
   "cell_type": "code",
   "execution_count": 11,
   "metadata": {
    "ExecuteTime": {
     "end_time": "2019-08-05T13:09:45.115794Z",
     "start_time": "2019-08-05T13:09:45.079183Z"
    }
   },
   "outputs": [
    {
     "name": "stdout",
     "output_type": "stream",
     "text": [
      "5 unidades de jabuticaba\n",
      "50ml de cachaça (1 dose)\n",
      "gelo à gosto\n"
     ]
    }
   ],
   "source": [
    "for i in ingredients[0]:\n",
    "#     for t in nlp(i):\n",
    "#         if _filter(t) and len(_clean(t.text)) >= 2:\n",
    "#             _clean(t.text)\n",
    "    print(i)"
   ]
  },
  {
   "cell_type": "code",
   "execution_count": 12,
   "metadata": {
    "ExecuteTime": {
     "end_time": "2019-08-05T13:09:45.150826Z",
     "start_time": "2019-08-05T13:09:45.129165Z"
    }
   },
   "outputs": [],
   "source": [
    "def _filter(token):\n",
    "    if len(token) < 2:\n",
    "        return False\n",
    "    if token.is_stop:\n",
    "        return False\n",
    "    if token.is_digit:\n",
    "        return False\n",
    "    if token.like_num:\n",
    "        return False\n",
    "    return True"
   ]
  },
  {
   "cell_type": "code",
   "execution_count": 13,
   "metadata": {
    "ExecuteTime": {
     "end_time": "2019-08-05T13:09:45.192177Z",
     "start_time": "2019-08-05T13:09:45.162351Z"
    }
   },
   "outputs": [],
   "source": [
    "def _clean(text):\n",
    "    text = text.replace(\"(\", \"\")\n",
    "#     text = text.split(\"/\")[0]\n",
    "    return text"
   ]
  },
  {
   "cell_type": "code",
   "execution_count": 14,
   "metadata": {
    "ExecuteTime": {
     "end_time": "2019-08-05T13:09:45.238893Z",
     "start_time": "2019-08-05T13:09:45.210606Z"
    }
   },
   "outputs": [
    {
     "data": {
      "text/plain": [
       "['unidades', 'jabuticaba', '50ml', 'cachaça', 'dose', 'gelo', 'gosto']"
      ]
     },
     "execution_count": 14,
     "metadata": {},
     "output_type": "execute_result"
    }
   ],
   "source": [
    "clean = [_clean(t.text) for i in ingredients[0] for t in nlp(i) if _filter(t) and len(_clean(t.text)) >= 2]\n",
    "clean"
   ]
  },
  {
   "cell_type": "code",
   "execution_count": 15,
   "metadata": {
    "ExecuteTime": {
     "end_time": "2019-08-05T13:10:30.525296Z",
     "start_time": "2019-08-05T13:09:45.249898Z"
    }
   },
   "outputs": [
    {
     "name": "stderr",
     "output_type": "stream",
     "text": [
      "/Users/mattosoerick/anaconda3/lib/python3.6/site-packages/h5py/__init__.py:36: FutureWarning: Conversion of the second argument of issubdtype from `float` to `np.floating` is deprecated. In future, it will be treated as `np.float64 == np.dtype(float).type`.\n",
      "  from ._conv import register_converters as _register_converters\n",
      "Using TensorFlow backend.\n",
      "WARNING: Logging before flag parsing goes to stderr.\n",
      "W0805 10:10:27.906954 4626490816 deprecation.py:506] From /Users/mattosoerick/anaconda3/lib/python3.6/site-packages/tensorflow/python/keras/initializers.py:119: calling RandomUniform.__init__ (from tensorflow.python.ops.init_ops) with dtype is deprecated and will be removed in a future version.\n",
      "Instructions for updating:\n",
      "Call initializer instance with the dtype argument instead of passing it to the constructor\n",
      "W0805 10:10:28.043475 4626490816 deprecation.py:506] From /Users/mattosoerick/anaconda3/lib/python3.6/site-packages/tensorflow/python/ops/init_ops.py:1251: calling VarianceScaling.__init__ (from tensorflow.python.ops.init_ops) with dtype is deprecated and will be removed in a future version.\n",
      "Instructions for updating:\n",
      "Call initializer instance with the dtype argument instead of passing it to the constructor\n",
      "W0805 10:10:28.051802 4626490816 deprecation.py:506] From /Users/mattosoerick/anaconda3/lib/python3.6/site-packages/tensorflow/python/ops/init_ops.py:97: calling GlorotUniform.__init__ (from tensorflow.python.ops.init_ops) with dtype is deprecated and will be removed in a future version.\n",
      "Instructions for updating:\n",
      "Call initializer instance with the dtype argument instead of passing it to the constructor\n",
      "W0805 10:10:28.053889 4626490816 deprecation.py:506] From /Users/mattosoerick/anaconda3/lib/python3.6/site-packages/tensorflow/python/ops/init_ops.py:97: calling Orthogonal.__init__ (from tensorflow.python.ops.init_ops) with dtype is deprecated and will be removed in a future version.\n",
      "Instructions for updating:\n",
      "Call initializer instance with the dtype argument instead of passing it to the constructor\n",
      "W0805 10:10:28.055843 4626490816 deprecation.py:506] From /Users/mattosoerick/anaconda3/lib/python3.6/site-packages/tensorflow/python/ops/init_ops.py:97: calling Zeros.__init__ (from tensorflow.python.ops.init_ops) with dtype is deprecated and will be removed in a future version.\n",
      "Instructions for updating:\n",
      "Call initializer instance with the dtype argument instead of passing it to the constructor\n"
     ]
    },
    {
     "name": "stdout",
     "output_type": "stream",
     "text": [
      "1.14.0\n",
      "2.2.4-tf\n"
     ]
    },
    {
     "name": "stderr",
     "output_type": "stream",
     "text": [
      "W0805 10:10:28.511855 4626490816 deprecation.py:323] From /Users/mattosoerick/anaconda3/lib/python3.6/site-packages/tensorflow/python/keras/backend.py:3794: add_dispatch_support.<locals>.wrapper (from tensorflow.python.ops.array_ops) is deprecated and will be removed in a future version.\n",
      "Instructions for updating:\n",
      "Use tf.where in 2.0, which has the same broadcast rule as np.where\n"
     ]
    },
    {
     "name": "stdout",
     "output_type": "stream",
     "text": [
      "Model: \"sequential\"\n",
      "_________________________________________________________________\n",
      "Layer (type)                 Output Shape              Param #   \n",
      "=================================================================\n",
      "embedding (Embedding)        (None, None, 50)          536850    \n",
      "_________________________________________________________________\n",
      "spatial_dropout1d (SpatialDr (None, None, 50)          0         \n",
      "_________________________________________________________________\n",
      "bidirectional (Bidirectional (None, None, 128)         58880     \n",
      "_________________________________________________________________\n",
      "spatial_dropout1d_1 (Spatial (None, None, 128)         0         \n",
      "_________________________________________________________________\n",
      "bidirectional_1 (Bidirection (None, None, 128)         98816     \n",
      "_________________________________________________________________\n",
      "time_distributed (TimeDistri (None, None, 1)           129       \n",
      "=================================================================\n",
      "Total params: 694,675\n",
      "Trainable params: 694,675\n",
      "Non-trainable params: 0\n",
      "_________________________________________________________________\n"
     ]
    },
    {
     "data": {
      "image/png": "[encoded data removed]",
      "text/plain": [
       "<Figure size 432x288 with 1 Axes>"
      ]
     },
     "metadata": {},
     "output_type": "display_data"
    }
   ],
   "source": [
    "def get_labels(ingredients, tokenized_instructions):\n",
    "    labels = []\n",
    "    for ing, ti in zip(ingredients, tokenized_instructions):\n",
    "        l_i = []\n",
    "        ci = [_clean(t.text) for i in ing for t in nlp(i) if _filter(t) and len(_clean(t.text)) >= 2]\n",
    "        label = []\n",
    "        for token in ti:\n",
    "            l_i.append(any((c == token.text or c == token.text[:-1] or c[:-1] == token.text) for c in ci))\n",
    "        labels.append(l_i)\n",
    "    return labels\n",
    "\n",
    "labels = get_labels(ingredients, tokenized)\n",
    "\n",
    "set([t.text for t, l in zip(tokenized[214], labels[214]) if l])\n",
    "\n",
    "import matplotlib.pyplot as plt\n",
    "%matplotlib inline\n",
    "\n",
    "plt.hist([len([t for t in tokens]) for tokens in tokenized], bins=20);\n",
    "\n",
    "MAX_LEN = 400\n",
    "\n",
    "from keras.preprocessing.sequence import pad_sequences\n",
    "\n",
    "def prepare_sequences(texts, max_len, vocab={\"<UNK>\": 1, \"<PAD>\": 0}):\n",
    "    X = [[vocab.get(w.text, vocab[\"<UNK>\"]) for w in s] for s in texts]\n",
    "    return pad_sequences(maxlen=max_len, sequences=X, padding=\"post\", value=vocab[\"<PAD>\"])\n",
    "\n",
    "X_seq = prepare_sequences(tokenized, max_len=MAX_LEN, vocab=vocab)\n",
    "\n",
    "X_seq[1]\n",
    "\n",
    "y_seq = []\n",
    "for l in labels:\n",
    "    y_i = []\n",
    "    for i in range(MAX_LEN):\n",
    "        try:\n",
    "            y_i.append(float(l[i]))\n",
    "        except:\n",
    "            y_i.append(0.0)\n",
    "    y_seq.append(np.array(y_i))\n",
    "y_seq = np.array(y_seq)\n",
    "y_seq = y_seq.reshape(y_seq.shape[0], y_seq.shape[1], 1)\n",
    "\n",
    "import tensorflow as tf\n",
    "from tensorflow.keras import layers\n",
    "\n",
    "print(tf.VERSION)\n",
    "print(tf.keras.__version__)\n",
    "\n",
    "\n",
    "model = tf.keras.Sequential()\n",
    "model.add(layers.Embedding(input_dim=len(vocab), mask_zero=True, output_dim=50))\n",
    "model.add(layers.SpatialDropout1D(0.2))\n",
    "model.add(layers.Bidirectional(layers.LSTM(units=64, return_sequences=True)))\n",
    "model.add(layers.SpatialDropout1D(0.2))\n",
    "model.add(layers.Bidirectional(layers.LSTM(units=64, return_sequences=True)))\n",
    "model.add(layers.TimeDistributed(layers.Dense(1, activation='sigmoid')))\n",
    "\n",
    "\n",
    "model.compile(optimizer=tf.train.AdamOptimizer(0.001),\n",
    "              loss='binary_crossentropy',\n",
    "              metrics=['accuracy'])\n",
    "\n",
    "model.summary()\n"
   ]
  },
  {
   "cell_type": "code",
   "execution_count": 16,
   "metadata": {
    "ExecuteTime": {
     "end_time": "2019-08-05T13:26:23.453035Z",
     "start_time": "2019-08-05T13:10:30.530268Z"
    }
   },
   "outputs": [
    {
     "name": "stdout",
     "output_type": "stream",
     "text": [
      "Train on 2351 samples, validate on 262 samples\n",
      "Epoch 1/10\n",
      "2351/2351 [==============================] - 109s 46ms/sample - loss: 0.2450 - acc: 0.8365 - val_loss: 0.1640 - val_acc: 0.9078\n",
      "Epoch 2/10\n",
      "2351/2351 [==============================] - 79s 33ms/sample - loss: 0.1441 - acc: 0.9015 - val_loss: 0.1551 - val_acc: 0.9078\n",
      "Epoch 3/10\n",
      "2351/2351 [==============================] - 85s 36ms/sample - loss: 0.1342 - acc: 0.9015 - val_loss: 0.1485 - val_acc: 0.9078\n",
      "Epoch 4/10\n",
      "2351/2351 [==============================] - 85s 36ms/sample - loss: 0.1295 - acc: 0.9015 - val_loss: 0.1456 - val_acc: 0.9078\n",
      "Epoch 5/10\n",
      "2351/2351 [==============================] - 83s 35ms/sample - loss: 0.1256 - acc: 0.9015 - val_loss: 0.1412 - val_acc: 0.9078\n",
      "Epoch 6/10\n",
      "2351/2351 [==============================] - 111s 47ms/sample - loss: 0.1204 - acc: 0.9015 - val_loss: 0.1334 - val_acc: 0.9078\n",
      "Epoch 7/10\n",
      "2351/2351 [==============================] - 98s 42ms/sample - loss: 0.1145 - acc: 0.9010 - val_loss: 0.1290 - val_acc: 0.9060\n",
      "Epoch 8/10\n",
      "2351/2351 [==============================] - 99s 42ms/sample - loss: 0.1105 - acc: 0.9005 - val_loss: 0.1242 - val_acc: 0.9069\n",
      "Epoch 9/10\n",
      "2351/2351 [==============================] - 97s 41ms/sample - loss: 0.1060 - acc: 0.9012 - val_loss: 0.1183 - val_acc: 0.9080\n",
      "Epoch 10/10\n",
      "2351/2351 [==============================] - 100s 43ms/sample - loss: 0.1011 - acc: 0.9017 - val_loss: 0.1120 - val_acc: 0.9088\n"
     ]
    }
   ],
   "source": [
    "history = model.fit(X_seq, y_seq, epochs=10, batch_size=256, validation_split=0.1)\n"
   ]
  },
  {
   "cell_type": "code",
   "execution_count": 17,
   "metadata": {
    "ExecuteTime": {
     "end_time": "2019-08-05T13:26:23.974318Z",
     "start_time": "2019-08-05T13:26:23.474214Z"
    }
   },
   "outputs": [
    {
     "data": {
      "image/png": "[encoded data removed]",
      "text/plain": [
       "<Figure size 432x288 with 1 Axes>"
      ]
     },
     "metadata": {},
     "output_type": "display_data"
    }
   ],
   "source": [
    "plt.plot(history.history[\"loss\"], label=\"trn_loss\");\n",
    "plt.plot(history.history[\"val_loss\"], label=\"val_loss\");\n",
    "plt.legend();\n",
    "plt.title(\"Loss\");"
   ]
  },
  {
   "cell_type": "code",
   "execution_count": 18,
   "metadata": {
    "ExecuteTime": {
     "end_time": "2019-08-05T13:26:24.504066Z",
     "start_time": "2019-08-05T13:26:23.979753Z"
    }
   },
   "outputs": [
    {
     "data": {
      "image/png": "[encoded data removed]",
      "text/plain": [
       "<Figure size 432x288 with 1 Axes>"
      ]
     },
     "metadata": {},
     "output_type": "display_data"
    }
   ],
   "source": [
    "plt.plot(history.history[\"acc\"], label=\"trn_acc\");\n",
    "plt.plot(history.history[\"val_acc\"], label=\"val_acc\");\n",
    "plt.legend();\n",
    "plt.title(\"Accuracy\");\n"
   ]
  },
  {
   "cell_type": "code",
   "execution_count": 19,
   "metadata": {
    "ExecuteTime": {
     "end_time": "2019-08-05T13:26:48.751624Z",
     "start_time": "2019-08-05T13:26:24.511239Z"
    }
   },
   "outputs": [
    {
     "name": "stdout",
     "output_type": "stream",
     "text": [
      "2613/2613 [==============================] - 24s 9ms/sample\n"
     ]
    }
   ],
   "source": [
    "y_pred = model.predict(X_seq, verbose=1, batch_size=1024)\n"
   ]
  },
  {
   "cell_type": "code",
   "execution_count": 20,
   "metadata": {
    "ExecuteTime": {
     "end_time": "2019-08-05T13:26:48.768161Z",
     "start_time": "2019-08-05T13:26:48.756599Z"
    }
   },
   "outputs": [],
   "source": [
    "i = 334\n",
    "pred_i = y_pred[i] > 0.05"
   ]
  },
  {
   "cell_type": "code",
   "execution_count": 21,
   "metadata": {
    "ExecuteTime": {
     "end_time": "2019-08-05T13:26:48.798912Z",
     "start_time": "2019-08-05T13:26:48.776499Z"
    }
   },
   "outputs": [
    {
     "name": "stdout",
     "output_type": "stream",
     "text": [
      "{'trigo', 'passe', 'em', '20', 'na', 'coloque', 'Misture', ':', 'Em', 'batidos', '180º', 'creme', '50ml', 'pretas', 'filé', '40', 'e', 'por', '.', 'a', 'gorgonzola', ']', 'Refogue', 'acrescente', 'rosca', 'catupiry', 'mergulhe', 'os', 'queijos', 'cebola', '2', 'Leve', 'medalhão', 'as', 'Sobre', 'tudo', 'restante', 'molho', 'o', 'mozarela', 'ele', \"'\", '50', 'empanar', 'já', '25', 'no', '[', 'leite', 'fritas', 'seguida', 'parmesão', 'quatro', 'arroz', 'branco', 'de', 'sal', 'ovos', 'tempere', 'Frite', 'com', 'farinha', 'cima', 'feito', 'do', 'manteiga', ',', 'azeitonas', 'batatas', 'frito', 'óleo', 'g', 'dissolva'}\n"
     ]
    }
   ],
   "source": [
    "ingreds = [t.text for t, p in zip(tokenized[i], pred_i) if p]\n",
    "print(set(ingreds))"
   ]
  },
  {
   "cell_type": "code",
   "execution_count": 22,
   "metadata": {
    "ExecuteTime": {
     "end_time": "2019-08-05T13:26:48.819236Z",
     "start_time": "2019-08-05T13:26:48.803337Z"
    }
   },
   "outputs": [
    {
     "data": {
      "text/plain": [
       "{'50ml',\n",
       " 'azeitonas',\n",
       " 'catupiry',\n",
       " 'cebola',\n",
       " 'creme',\n",
       " 'empanar',\n",
       " 'farinha',\n",
       " 'filé',\n",
       " 'gorgonzola',\n",
       " 'leite',\n",
       " 'manteiga',\n",
       " 'medalhão',\n",
       " 'mozarela',\n",
       " 'ovos',\n",
       " 'parmesão',\n",
       " 'pretas',\n",
       " 'rosca',\n",
       " 'trigo'}"
      ]
     },
     "execution_count": 22,
     "metadata": {},
     "output_type": "execute_result"
    }
   ],
   "source": [
    "ingreds = [t.text for t, p in zip(tokenized[i], y_seq[i]) if p]\n",
    "set(ingreds)"
   ]
  },
  {
   "cell_type": "code",
   "execution_count": 23,
   "metadata": {
    "ExecuteTime": {
     "end_time": "2019-08-05T13:26:48.846916Z",
     "start_time": "2019-08-05T13:26:48.824244Z"
    }
   },
   "outputs": [
    {
     "data": {
      "text/plain": [
       "['180g medalhão de filé-mignon',\n",
       " '2 unidades ovo',\n",
       " 'farinha de trigo e de rosca para empanar a gosto',\n",
       " '150g mozarela',\n",
       " '75g parmesão',\n",
       " '60g gorgonzola',\n",
       " '120g catupiry',\n",
       " '10g azeitonas pretas sem caroço',\n",
       " '20g cebola picada',\n",
       " '1 colher (sopa) manteiga',\n",
       " '50ml creme de leite']"
      ]
     },
     "execution_count": 23,
     "metadata": {},
     "output_type": "execute_result"
    }
   ],
   "source": [
    "ingredients[i]\n"
   ]
  },
  {
   "cell_type": "code",
   "execution_count": 24,
   "metadata": {
    "ExecuteTime": {
     "end_time": "2019-08-05T13:27:56.421945Z",
     "start_time": "2019-08-05T13:26:48.851020Z"
    }
   },
   "outputs": [],
   "source": [
    "new_labels = []\n",
    "for pred_i, ti in zip(y_pred, tokenized):\n",
    "    l_i = []\n",
    "    ci = [t.text for t, p in zip(tokenized[i], pred_i > 0.05) if p]\n",
    "    label = []\n",
    "    for token in ti:\n",
    "        l_i.append(any((c == token.text or c == token.text[:-1] or c[:-1] == token.text) for c in ci))\n",
    "    new_labels.append(l_i)"
   ]
  },
  {
   "cell_type": "code",
   "execution_count": 25,
   "metadata": {
    "ExecuteTime": {
     "end_time": "2019-08-05T13:27:57.339909Z",
     "start_time": "2019-08-05T13:27:56.425362Z"
    }
   },
   "outputs": [],
   "source": [
    "y_seq_new = []\n",
    "for l in new_labels:\n",
    "    y_i = []\n",
    "    for i in range(MAX_LEN):\n",
    "        try:\n",
    "            y_i.append(float(l[i]))\n",
    "        except:\n",
    "            y_i.append(0.0)\n",
    "    y_seq_new.append(np.array(y_i))\n",
    "y_seq_new = np.array(y_seq_new)\n",
    "y_seq_new = y_seq.reshape(y_seq_new.shape[0], y_seq_new.shape[1], 1)"
   ]
  },
  {
   "cell_type": "code",
   "execution_count": 26,
   "metadata": {
    "ExecuteTime": {
     "end_time": "2019-08-05T13:30:00.307955Z",
     "start_time": "2019-08-05T13:27:57.343109Z"
    }
   },
   "outputs": [
    {
     "name": "stdout",
     "output_type": "stream",
     "text": [
      "Train on 2351 samples, validate on 262 samples\n",
      "2351/2351 [==============================] - 123s 52ms/sample - loss: 0.0956 - acc: 0.9027 - val_loss: 0.1041 - val_acc: 0.9094\n"
     ]
    }
   ],
   "source": [
    "history = model.fit(X_seq, y_seq_new, epochs=1, batch_size=256, validation_split=0.1)\n"
   ]
  },
  {
   "cell_type": "code",
   "execution_count": 78,
   "metadata": {
    "ExecuteTime": {
     "end_time": "2019-08-05T13:42:56.755143Z",
     "start_time": "2019-08-05T13:42:56.748862Z"
    }
   },
   "outputs": [],
   "source": [
    "eval_df = eval_df.reset_index(drop=True)"
   ]
  },
  {
   "cell_type": "code",
   "execution_count": 79,
   "metadata": {
    "ExecuteTime": {
     "end_time": "2019-08-05T13:43:16.042686Z",
     "start_time": "2019-08-05T13:43:15.998229Z"
    }
   },
   "outputs": [
    {
     "data": {
      "text/plain": [
       "list"
      ]
     },
     "execution_count": 79,
     "metadata": {},
     "output_type": "execute_result"
    }
   ],
   "source": [
    "ingredients_eval_df = eval_df['ingredientes'].apply(lambda x: literal_eval(str(x)))\n",
    "ingredients_eval_df = ingredients_eval_df.apply(lambda ingredients_eval_df: list(itertools.chain(*ingredients_eval_df)))\n",
    "type(ingredients_eval_df[0])\n",
    "\n"
   ]
  },
  {
   "cell_type": "code",
   "execution_count": null,
   "metadata": {},
   "outputs": [],
   "source": []
  },
  {
   "cell_type": "code",
   "execution_count": 80,
   "metadata": {
    "ExecuteTime": {
     "end_time": "2019-08-05T13:43:23.311565Z",
     "start_time": "2019-08-05T13:43:21.769536Z"
    }
   },
   "outputs": [],
   "source": [
    "eval_tokenized = [nlp(t) for t in eval_df['instrucoes'].values]\n",
    "X_seq_test = prepare_sequences(eval_tokenized, max_len=MAX_LEN, vocab=vocab)"
   ]
  },
  {
   "cell_type": "code",
   "execution_count": 81,
   "metadata": {
    "ExecuteTime": {
     "end_time": "2019-08-05T13:43:31.401023Z",
     "start_time": "2019-08-05T13:43:28.507454Z"
    }
   },
   "outputs": [
    {
     "name": "stdout",
     "output_type": "stream",
     "text": [
      "\r",
      "283/283 [==============================] - 3s 10ms/sample\n"
     ]
    }
   ],
   "source": [
    "y_pred_test = model.predict(X_seq_test, verbose=1, batch_size=1024)\n"
   ]
  },
  {
   "cell_type": "code",
   "execution_count": 82,
   "metadata": {
    "ExecuteTime": {
     "end_time": "2019-08-05T13:43:36.916181Z",
     "start_time": "2019-08-05T13:43:36.893316Z"
    }
   },
   "outputs": [
    {
     "name": "stdout",
     "output_type": "stream",
     "text": [
      "[['Afervente o bacalhau por uns 20 minutos. Escorra e corte-o em cubos pequenos. Aqueça o azeite e adicione o peixe e a maçã. Refogue. Junte o cream cheese, o vinho branco e o creme de leite. Deixe cozinhar por cinco minutos em fogo brando. Tempere com sal e pimenta a gosto. Recheie os folhados com a mistura. Coloque-os numa assadeira e leve ao forno preaquecido por uns cinco minutos ou até os folhados dourarem ligeiramente. Retire do forno, salpique com cebolinha picada e sirva-os como entrada, acompanhados com salada.'], ['', 'Dica:', ' O gelo dessalga o bacalhau mais rápido. Um dia antes de usá-lo, corte-o em pedaços e deixe de molho numa tigela com água e gelo, dentro da geladeira. Troque ambos a cada três horas.']]\n",
      "\n",
      "['750g de bacalhau dessalgado', '100ml de azeite extravirgem', '300g de maçãs verdes ácidas, sem casca, em cubos pequenos', '120g de cream cheese', '100ml de vinho branco', '200ml de creme de leite fresco', '1 pitada de sal e pimenta-do-reino a gosto', '10 vol-au-vent (folhados) tamanho 7', '1 talo de cebolinha picada a gosto']\n",
      "\n",
      "{'em', 'pedaços', 'gelo', 'rápido', 'creme', 'cebolinha', 'vinho', 'salpique', 'mais', 'por', 'e', '.', 'bacalhau', 'a', 'cream', 'Refogue', 'deixe', 'os', 'dessalga', 'Recheie', 'Junte', 'molho', 'o', 'cozinhar', 'sirva', 'Aqueça', 'pimenta', 'peixe', '[', 'gosto', 'folhados', 'leite', 'maçã', 'Tempere', 'água', 'branco', 'de', 'cubos', 'sal', 'cheese', 'pequenos', 'Deixe', 'com', 'picada', ',', 'O', 'adicione', 'azeite', 'numa'}\n"
     ]
    }
   ],
   "source": [
    "i = 0\n",
    "pred_i = y_pred_test[i] > 0.05\n",
    "print(eval_tokenized[i])\n",
    "print()\n",
    "print(ingredients_eval_df[i])\n",
    "print()\n",
    "ingreds = [t.text for t, p in zip(eval_tokenized[i], pred_i) if p]\n",
    "print(set(ingreds))"
   ]
  },
  {
   "cell_type": "code",
   "execution_count": 92,
   "metadata": {
    "ExecuteTime": {
     "end_time": "2019-08-05T13:48:15.423688Z",
     "start_time": "2019-08-05T13:48:15.410571Z"
    }
   },
   "outputs": [
    {
     "data": {
      "text/plain": [
       "\"[['Afervente o bacalhau por uns 20 minutos. Escorra e corte-o em cubos pequenos. Aqueça o azeite e adicione o peixe e a maçã. Refogue. Junte o cream cheese, o vinho branco e o creme de leite. Deixe cozinhar por cinco minutos em fogo brando. Tempere com sal e pimenta a gosto. Recheie os folhados com a mistura. Coloque-os numa assadeira e leve ao forno preaquecido por uns cinco minutos ou até os folhados dourarem ligeiramente. Retire do forno, salpique com cebolinha picada e sirva-os como entrada, acompanhados com salada.'], ['', 'Dica:', ' O gelo dessalga o bacalhau mais rápido. Um dia antes de usá-lo, corte-o em pedaços e deixe de molho numa tigela com água e gelo, dentro da geladeira. Troque ambos a cada três horas.']]\""
      ]
     },
     "execution_count": 92,
     "metadata": {},
     "output_type": "execute_result"
    }
   ],
   "source": [
    "data[filtoriz]['instrucoes'][2613]"
   ]
  },
  {
   "cell_type": "code",
   "execution_count": 93,
   "metadata": {
    "ExecuteTime": {
     "end_time": "2019-08-05T13:49:21.921551Z",
     "start_time": "2019-08-05T13:49:21.911235Z"
    }
   },
   "outputs": [
    {
     "data": {
      "text/plain": [
       "\"[['750g de bacalhau dessalgado'], ['100ml de azeite extravirgem'], ['300g de maçãs verdes ácidas, sem casca, em cubos pequenos'], ['120g de cream cheese'], ['100ml de vinho branco'], ['200ml de creme de leite fresco'], ['1 pitada de sal e pimenta-do-reino a gosto'], ['10 vol-au-vent (folhados) tamanho 7'], ['1 talo de cebolinha picada a gosto']]\""
      ]
     },
     "execution_count": 93,
     "metadata": {},
     "output_type": "execute_result"
    }
   ],
   "source": [
    "data[filtoriz]['ingredientes'][2613]"
   ]
  },
  {
   "cell_type": "code",
   "execution_count": 87,
   "metadata": {
    "ExecuteTime": {
     "end_time": "2019-08-05T13:47:02.977206Z",
     "start_time": "2019-08-05T13:47:02.883471Z"
    }
   },
   "outputs": [],
   "source": [
    "data = pd.read_csv('data/data_clr.csv',index_col=0)"
   ]
  },
  {
   "cell_type": "code",
   "execution_count": 89,
   "metadata": {
    "ExecuteTime": {
     "end_time": "2019-08-05T13:47:17.120654Z",
     "start_time": "2019-08-05T13:47:17.102118Z"
    }
   },
   "outputs": [],
   "source": [
    "filtoriz = data['instrucoes'].str.contains('Afervente o bacalhau por uns 20 minutos')"
   ]
  },
  {
   "cell_type": "code",
   "execution_count": null,
   "metadata": {},
   "outputs": [],
   "source": []
  }
 ],
 "metadata": {
  "kernelspec": {
   "display_name": "Python 3",
   "language": "python",
   "name": "python3"
  },
  "language_info": {
   "codemirror_mode": {
    "name": "ipython",
    "version": 3
   },
   "file_extension": ".py",
   "mimetype": "text/x-python",
   "name": "python",
   "nbconvert_exporter": "python",
   "pygments_lexer": "ipython3",
   "version": "3.6.4"
  },
  "toc": {
   "base_numbering": 1,
   "nav_menu": {},
   "number_sections": true,
   "sideBar": true,
   "skip_h1_title": false,
   "title_cell": "Table of Contents",
   "title_sidebar": "Contents",
   "toc_cell": false,
   "toc_position": {},
   "toc_section_display": true,
   "toc_window_display": false
  },
  "varInspector": {
   "cols": {
    "lenName": 16,
    "lenType": 16,
    "lenVar": 40
   },
   "kernels_config": {
    "python": {
     "delete_cmd_postfix": "",
     "delete_cmd_prefix": "del ",
     "library": "var_list.py",
     "varRefreshCmd": "print(var_dic_list())"
    },
    "r": {
     "delete_cmd_postfix": ") ",
     "delete_cmd_prefix": "rm(",
     "library": "var_list.r",
     "varRefreshCmd": "cat(var_dic_list()) "
    }
   },
   "types_to_exclude": [
    "module",
    "function",
    "builtin_function_or_method",
    "instance",
    "_Feature"
   ],
   "window_display": false
  }
 },
 "nbformat": 4,
 "nbformat_minor": 2
}
