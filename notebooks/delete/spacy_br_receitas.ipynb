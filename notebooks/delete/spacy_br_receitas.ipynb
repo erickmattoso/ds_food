{
 "cells": [
  {
   "cell_type": "code",
   "execution_count": 32,
   "metadata": {
    "ExecuteTime": {
     "end_time": "2019-07-28T15:51:37.512965Z",
     "start_time": "2019-07-28T15:51:37.014641Z"
    }
   },
   "outputs": [],
   "source": [
    "# https://leportella.com/pt-br/2017/11/30/brincando-de-nlp-com-spacy.html\n",
    "import spacy\n",
    "import pandas as pd\n",
    "from spacy.lang.pt import Portuguese\n",
    "import numpy as np\n",
    "import pandas as pd\n",
    "import spacy\n",
    "import matplotlib.pyplot as plt\n",
    "%matplotlib inline"
   ]
  },
  {
   "cell_type": "code",
   "execution_count": 2,
   "metadata": {
    "ExecuteTime": {
     "end_time": "2019-07-28T15:43:05.657682Z",
     "start_time": "2019-07-28T15:43:05.445418Z"
    }
   },
   "outputs": [],
   "source": [
    "# doc = nlp(u'Você encontrou o livro que eu te falei, Carla?')\n",
    "# doc.text.split()\n",
    "df = pd.read_csv(\"../input/receitas.csv\")"
   ]
  },
  {
   "cell_type": "code",
   "execution_count": 15,
   "metadata": {
    "ExecuteTime": {
     "end_time": "2019-07-28T15:44:18.477111Z",
     "start_time": "2019-07-28T15:44:17.358038Z"
    }
   },
   "outputs": [
    {
     "data": {
      "text/plain": [
       "[\"['1/2\",\n",
       " 'kg',\n",
       " 'de',\n",
       " \"',\",\n",
       " \"'bacalhau\",\n",
       " \"dessalgado',\",\n",
       " \"'\",\n",
       " 'e',\n",
       " \"desfiado',\",\n",
       " \"'4\",\n",
       " 'batatas',\n",
       " \"grandes',\",\n",
       " \"'1\",\n",
       " \"',\",\n",
       " \"'requeijão',\",\n",
       " \"'1\",\n",
       " 'creme',\n",
       " 'de',\n",
       " \"leite',\",\n",
       " \"'1\",\n",
       " 'cebola',\n",
       " 'pequena',\n",
       " \"(ralada)',\",\n",
       " \"'coentro\",\n",
       " \"picadinho',\",\n",
       " \"'2\",\n",
       " 'dentes',\n",
       " 'de',\n",
       " 'alho',\n",
       " \"amassados',\",\n",
       " \"'300\",\n",
       " 'gr',\n",
       " 'de',\n",
       " 'queijo',\n",
       " 'mussarela',\n",
       " '(pode',\n",
       " 'substituir',\n",
       " 'por',\n",
       " \"prato)',\",\n",
       " \"'meio\",\n",
       " 'pacote',\n",
       " 'de',\n",
       " 'queijo',\n",
       " \"ralado',\",\n",
       " \"'3\",\n",
       " 'colheres',\n",
       " 'de',\n",
       " 'leite',\n",
       " 'em',\n",
       " \"pó',\",\n",
       " \"'2\",\n",
       " 'colheres',\n",
       " 'de',\n",
       " \"margarina',\",\n",
       " \"'orégano\",\n",
       " 'à',\n",
       " \"gosto.',\",\n",
       " \"'azeite\",\n",
       " 'para',\n",
       " 'refogar',\n",
       " 'o',\n",
       " \"bacalhau']\"]"
      ]
     },
     "execution_count": 15,
     "metadata": {},
     "output_type": "execute_result"
    }
   ],
   "source": [
    "nlp = spacy.load('pt')\n",
    "doc = nlp(df['ingredientes'][1])\n",
    "doc.text.split()"
   ]
  },
  {
   "cell_type": "code",
   "execution_count": 4,
   "metadata": {
    "ExecuteTime": {
     "end_time": "2019-07-28T15:43:07.084271Z",
     "start_time": "2019-07-28T15:43:07.060865Z"
    }
   },
   "outputs": [
    {
     "data": {
      "text/plain": [
       "[[,\n",
       " ',\n",
       " 1/2,\n",
       " kg,\n",
       " de,\n",
       " ',\n",
       " ,,\n",
       " ',\n",
       " bacalhau,\n",
       " dessalgado,\n",
       " ',\n",
       " ,,\n",
       " ',\n",
       " e,\n",
       " desfiado,\n",
       " ',\n",
       " ,,\n",
       " ',\n",
       " 4,\n",
       " batatas,\n",
       " grandes,\n",
       " ',\n",
       " ,,\n",
       " ',\n",
       " 1,\n",
       " ',\n",
       " ,,\n",
       " ',\n",
       " requeijão,\n",
       " ',\n",
       " ,,\n",
       " ',\n",
       " 1,\n",
       " creme,\n",
       " de,\n",
       " leite,\n",
       " ',\n",
       " ,,\n",
       " ',\n",
       " 1,\n",
       " cebola,\n",
       " pequena,\n",
       " (,\n",
       " ralada,\n",
       " ),\n",
       " ',\n",
       " ,,\n",
       " ',\n",
       " coentro,\n",
       " picadinho,\n",
       " ',\n",
       " ,,\n",
       " ',\n",
       " 2,\n",
       " dentes,\n",
       " de,\n",
       " alho,\n",
       " amassados,\n",
       " ',\n",
       " ,,\n",
       " ',\n",
       " 300,\n",
       " gr,\n",
       " de,\n",
       " queijo,\n",
       " mussarela,\n",
       " (,\n",
       " pode,\n",
       " substituir,\n",
       " por,\n",
       " prato,\n",
       " ),\n",
       " ',\n",
       " ,,\n",
       " ',\n",
       " meio,\n",
       " pacote,\n",
       " de,\n",
       " queijo,\n",
       " ralado,\n",
       " ',\n",
       " ,,\n",
       " ',\n",
       " 3,\n",
       " colheres,\n",
       " de,\n",
       " leite,\n",
       " em,\n",
       " pó,\n",
       " ',\n",
       " ,,\n",
       " ',\n",
       " 2,\n",
       " colheres,\n",
       " de,\n",
       " margarina,\n",
       " ',\n",
       " ,,\n",
       " ',\n",
       " orégano,\n",
       " à,\n",
       " gosto,\n",
       " .,\n",
       " ',\n",
       " ,,\n",
       " ',\n",
       " azeite,\n",
       " para,\n",
       " refogar,\n",
       " o,\n",
       " bacalhau,\n",
       " ',\n",
       " ]]"
      ]
     },
     "execution_count": 4,
     "metadata": {},
     "output_type": "execute_result"
    }
   ],
   "source": [
    "[token for token in doc]"
   ]
  },
  {
   "cell_type": "code",
   "execution_count": 5,
   "metadata": {
    "ExecuteTime": {
     "end_time": "2019-07-28T15:43:07.162893Z",
     "start_time": "2019-07-28T15:43:07.095110Z"
    },
    "scrolled": true
   },
   "outputs": [
    {
     "data": {
      "text/plain": [
       "['[',\n",
       " \"'\",\n",
       " '1/2',\n",
       " 'kg',\n",
       " 'de',\n",
       " \"'\",\n",
       " ',',\n",
       " \"'\",\n",
       " 'bacalhau',\n",
       " 'dessalgado',\n",
       " \"'\",\n",
       " ',',\n",
       " \"'\",\n",
       " 'e',\n",
       " 'desfiado',\n",
       " \"'\",\n",
       " ',',\n",
       " \"'\",\n",
       " '4',\n",
       " 'batatas',\n",
       " 'grandes',\n",
       " \"'\",\n",
       " ',',\n",
       " \"'\",\n",
       " '1',\n",
       " \"'\",\n",
       " ',',\n",
       " \"'\",\n",
       " 'requeijão',\n",
       " \"'\",\n",
       " ',',\n",
       " \"'\",\n",
       " '1',\n",
       " 'creme',\n",
       " 'de',\n",
       " 'leite',\n",
       " \"'\",\n",
       " ',',\n",
       " \"'\",\n",
       " '1',\n",
       " 'cebola',\n",
       " 'pequena',\n",
       " '(',\n",
       " 'ralada',\n",
       " ')',\n",
       " \"'\",\n",
       " ',',\n",
       " \"'\",\n",
       " 'coentro',\n",
       " 'picadinho',\n",
       " \"'\",\n",
       " ',',\n",
       " \"'\",\n",
       " '2',\n",
       " 'dentes',\n",
       " 'de',\n",
       " 'alho',\n",
       " 'amassados',\n",
       " \"'\",\n",
       " ',',\n",
       " \"'\",\n",
       " '300',\n",
       " 'gr',\n",
       " 'de',\n",
       " 'queijo',\n",
       " 'mussarela',\n",
       " '(',\n",
       " 'pode',\n",
       " 'substituir',\n",
       " 'por',\n",
       " 'prato',\n",
       " ')',\n",
       " \"'\",\n",
       " ',',\n",
       " \"'\",\n",
       " 'meio',\n",
       " 'pacote',\n",
       " 'de',\n",
       " 'queijo',\n",
       " 'ralado',\n",
       " \"'\",\n",
       " ',',\n",
       " \"'\",\n",
       " '3',\n",
       " 'colheres',\n",
       " 'de',\n",
       " 'leite',\n",
       " 'em',\n",
       " 'pó',\n",
       " \"'\",\n",
       " ',',\n",
       " \"'\",\n",
       " '2',\n",
       " 'colheres',\n",
       " 'de',\n",
       " 'margarina',\n",
       " \"'\",\n",
       " ',',\n",
       " \"'\",\n",
       " 'orégano',\n",
       " 'à',\n",
       " 'gosto',\n",
       " '.',\n",
       " \"'\",\n",
       " ',',\n",
       " \"'\",\n",
       " 'azeite',\n",
       " 'para',\n",
       " 'refogar',\n",
       " 'o',\n",
       " 'bacalhau',\n",
       " \"'\",\n",
       " ']']"
      ]
     },
     "execution_count": 5,
     "metadata": {},
     "output_type": "execute_result"
    }
   ],
   "source": [
    "[token.orth_ for token in doc]"
   ]
  },
  {
   "cell_type": "code",
   "execution_count": 6,
   "metadata": {
    "ExecuteTime": {
     "end_time": "2019-07-28T15:43:07.193978Z",
     "start_time": "2019-07-28T15:43:07.168409Z"
    }
   },
   "outputs": [
    {
     "data": {
      "text/plain": [
       "['1/2',\n",
       " 'kg',\n",
       " 'de',\n",
       " 'bacalhau',\n",
       " 'dessalgado',\n",
       " 'e',\n",
       " 'desfiado',\n",
       " '4',\n",
       " 'batatas',\n",
       " 'grandes',\n",
       " '1',\n",
       " 'requeijão',\n",
       " '1',\n",
       " 'creme',\n",
       " 'de',\n",
       " 'leite',\n",
       " '1',\n",
       " 'cebola',\n",
       " 'pequena',\n",
       " 'ralada',\n",
       " 'coentro',\n",
       " 'picadinho',\n",
       " '2',\n",
       " 'dentes',\n",
       " 'de',\n",
       " 'alho',\n",
       " 'amassados',\n",
       " '300',\n",
       " 'gr',\n",
       " 'de',\n",
       " 'queijo',\n",
       " 'mussarela',\n",
       " 'pode',\n",
       " 'substituir',\n",
       " 'por',\n",
       " 'prato',\n",
       " 'meio',\n",
       " 'pacote',\n",
       " 'de',\n",
       " 'queijo',\n",
       " 'ralado',\n",
       " '3',\n",
       " 'colheres',\n",
       " 'de',\n",
       " 'leite',\n",
       " 'em',\n",
       " 'pó',\n",
       " '2',\n",
       " 'colheres',\n",
       " 'de',\n",
       " 'margarina',\n",
       " 'orégano',\n",
       " 'à',\n",
       " 'gosto',\n",
       " 'azeite',\n",
       " 'para',\n",
       " 'refogar',\n",
       " 'o',\n",
       " 'bacalhau']"
      ]
     },
     "execution_count": 6,
     "metadata": {},
     "output_type": "execute_result"
    }
   ],
   "source": [
    "[token.orth_ for token in doc if not token.is_punct]"
   ]
  },
  {
   "cell_type": "code",
   "execution_count": 7,
   "metadata": {
    "ExecuteTime": {
     "end_time": "2019-07-28T15:43:07.214819Z",
     "start_time": "2019-07-28T15:43:07.204759Z"
    }
   },
   "outputs": [],
   "source": [
    "tokens = [token for token in doc]"
   ]
  },
  {
   "cell_type": "code",
   "execution_count": 8,
   "metadata": {
    "ExecuteTime": {
     "end_time": "2019-07-28T15:43:07.831532Z",
     "start_time": "2019-07-28T15:43:07.226364Z"
    }
   },
   "outputs": [
    {
     "ename": "TypeError",
     "evalue": "'spacy.tokens.token.Token' object does not support indexing",
     "output_type": "error",
     "traceback": [
      "\u001b[0;31m---------------------------------------------------------------------------\u001b[0m",
      "\u001b[0;31mTypeError\u001b[0m                                 Traceback (most recent call last)",
      "\u001b[0;32m<ipython-input-8-d8d2f6eedd6e>\u001b[0m in \u001b[0;36m<module>\u001b[0;34m()\u001b[0m\n\u001b[0;32m----> 1\u001b[0;31m \u001b[0mtokens\u001b[0m\u001b[0;34m[\u001b[0m\u001b[0;36m0\u001b[0m\u001b[0;34m]\u001b[0m\u001b[0;34m.\u001b[0m\u001b[0msimilarity\u001b[0m\u001b[0;34m(\u001b[0m\u001b[0mtokens\u001b[0m\u001b[0;34m[\u001b[0m\u001b[0;36m5\u001b[0m\u001b[0;34m]\u001b[0m\u001b[0;34m)\u001b[0m\u001b[0;34m\u001b[0m\u001b[0m\n\u001b[0m",
      "\u001b[0;32mtoken.pyx\u001b[0m in \u001b[0;36mspacy.tokens.token.Token.similarity\u001b[0;34m()\u001b[0m\n",
      "\u001b[0;31mTypeError\u001b[0m: 'spacy.tokens.token.Token' object does not support indexing"
     ]
    }
   ],
   "source": [
    "tokens[0].similarity(tokens[5])"
   ]
  },
  {
   "cell_type": "code",
   "execution_count": 9,
   "metadata": {
    "ExecuteTime": {
     "end_time": "2019-07-28T15:43:34.032386Z",
     "start_time": "2019-07-28T15:43:34.012060Z"
    }
   },
   "outputs": [
    {
     "data": {
      "text/plain": [
       "[('[', 'PUNCT'),\n",
       " (\"'\", 'PUNCT'),\n",
       " ('1/2', 'NUM'),\n",
       " ('kg', 'SYM'),\n",
       " ('de', 'ADP'),\n",
       " (\"'\", 'PUNCT'),\n",
       " (',', 'PUNCT'),\n",
       " (\"'\", 'PUNCT'),\n",
       " ('bacalhau', 'NOUN'),\n",
       " ('dessalgado', 'VERB'),\n",
       " (\"'\", 'PUNCT'),\n",
       " (',', 'PUNCT'),\n",
       " (\"'\", 'PUNCT'),\n",
       " ('e', 'CCONJ'),\n",
       " ('desfiado', 'VERB'),\n",
       " (\"'\", 'PUNCT'),\n",
       " (',', 'PUNCT'),\n",
       " (\"'\", 'PUNCT'),\n",
       " ('4', 'NUM'),\n",
       " ('batatas', 'SYM'),\n",
       " ('grandes', 'ADJ'),\n",
       " (\"'\", 'PUNCT'),\n",
       " (',', 'PUNCT'),\n",
       " (\"'\", 'PUNCT'),\n",
       " ('1', 'NUM'),\n",
       " (\"'\", 'PUNCT'),\n",
       " (',', 'PUNCT'),\n",
       " (\"'\", 'PUNCT'),\n",
       " ('requeijão', 'NOUN'),\n",
       " (\"'\", 'PUNCT'),\n",
       " (',', 'PUNCT'),\n",
       " (\"'\", 'PUNCT'),\n",
       " ('1', 'DET'),\n",
       " ('creme', 'NOUN'),\n",
       " ('de', 'ADP'),\n",
       " ('leite', 'NOUN'),\n",
       " (\"'\", 'PUNCT'),\n",
       " (',', 'PUNCT'),\n",
       " (\"'\", 'PUNCT'),\n",
       " ('1', 'DET'),\n",
       " ('cebola', 'ADJ'),\n",
       " ('pequena', 'ADJ'),\n",
       " ('(', 'PUNCT'),\n",
       " ('ralada', 'VERB'),\n",
       " (')', 'PUNCT'),\n",
       " (\"'\", 'PUNCT'),\n",
       " (',', 'PUNCT'),\n",
       " (\"'\", 'PUNCT'),\n",
       " ('coentro', 'NOUN'),\n",
       " ('picadinho', 'ADJ'),\n",
       " (\"'\", 'PUNCT'),\n",
       " (',', 'PUNCT'),\n",
       " (\"'\", 'PUNCT'),\n",
       " ('2', 'NUM'),\n",
       " ('dentes', 'SYM'),\n",
       " ('de', 'ADP'),\n",
       " ('alho', 'NOUN'),\n",
       " ('amassados', 'VERB'),\n",
       " (\"'\", 'PUNCT'),\n",
       " (',', 'PUNCT'),\n",
       " (\"'\", 'PUNCT'),\n",
       " ('300', 'NUM'),\n",
       " ('gr', 'PROPN'),\n",
       " ('de', 'ADP'),\n",
       " ('queijo', 'NOUN'),\n",
       " ('mussarela', 'NOUN'),\n",
       " ('(', 'PUNCT'),\n",
       " ('pode', 'AUX'),\n",
       " ('substituir', 'VERB'),\n",
       " ('por', 'ADP'),\n",
       " ('prato', 'NOUN'),\n",
       " (')', 'PUNCT'),\n",
       " (\"'\", 'PUNCT'),\n",
       " (',', 'PUNCT'),\n",
       " (\"'\", 'PUNCT'),\n",
       " ('meio', 'ADJ'),\n",
       " ('pacote', 'NOUN'),\n",
       " ('de', 'ADP'),\n",
       " ('queijo', 'AUX'),\n",
       " ('ralado', 'VERB'),\n",
       " (\"'\", 'PUNCT'),\n",
       " (',', 'PUNCT'),\n",
       " (\"'\", 'PUNCT'),\n",
       " ('3', 'NUM'),\n",
       " ('colheres', 'SYM'),\n",
       " ('de', 'ADP'),\n",
       " ('leite', 'NOUN'),\n",
       " ('em', 'ADP'),\n",
       " ('pó', 'NOUN'),\n",
       " (\"'\", 'PUNCT'),\n",
       " (',', 'PUNCT'),\n",
       " (\"'\", 'PUNCT'),\n",
       " ('2', 'NUM'),\n",
       " ('colheres', 'SYM'),\n",
       " ('de', 'ADP'),\n",
       " ('margarina', 'NOUN'),\n",
       " (\"'\", 'PUNCT'),\n",
       " (',', 'PUNCT'),\n",
       " (\"'\", 'PUNCT'),\n",
       " ('orégano', 'NOUN'),\n",
       " ('à', 'ADP'),\n",
       " ('gosto', 'NOUN'),\n",
       " ('.', 'PUNCT'),\n",
       " (\"'\", 'PUNCT'),\n",
       " (',', 'PUNCT'),\n",
       " (\"'\", 'PUNCT'),\n",
       " ('azeite', 'NOUN'),\n",
       " ('para', 'ADP'),\n",
       " ('refogar', 'VERB'),\n",
       " ('o', 'DET'),\n",
       " ('bacalhau', 'NOUN'),\n",
       " (\"'\", 'PUNCT'),\n",
       " (']', 'PUNCT')]"
      ]
     },
     "execution_count": 9,
     "metadata": {},
     "output_type": "execute_result"
    }
   ],
   "source": [
    "[(token.orth_, token.pos_) for token in doc]"
   ]
  },
  {
   "cell_type": "code",
   "execution_count": 10,
   "metadata": {
    "ExecuteTime": {
     "end_time": "2019-07-28T15:43:50.588821Z",
     "start_time": "2019-07-28T15:43:50.564367Z"
    }
   },
   "outputs": [
    {
     "data": {
      "text/plain": [
       "['dessalgar', 'desfiar', 'ralar', 'amassar', 'substituir', 'ralar', 'refogar']"
      ]
     },
     "execution_count": 10,
     "metadata": {},
     "output_type": "execute_result"
    }
   ],
   "source": [
    "[token.lemma_ for token in doc if token.pos_ == 'VERB']"
   ]
  },
  {
   "cell_type": "code",
   "execution_count": 12,
   "metadata": {
    "ExecuteTime": {
     "end_time": "2019-07-28T15:44:01.510783Z",
     "start_time": "2019-07-28T15:44:01.459565Z"
    }
   },
   "outputs": [
    {
     "data": {
      "text/plain": [
       "True"
      ]
     },
     "execution_count": 12,
     "metadata": {},
     "output_type": "execute_result"
    }
   ],
   "source": [
    "# doc = nlp(u'encontrar encontrei')\n",
    "# tokens = [token for token in doc]\n",
    "# tokens[0].is_ancestor(tokens[1])"
   ]
  },
  {
   "cell_type": "code",
   "execution_count": 22,
   "metadata": {
    "ExecuteTime": {
     "end_time": "2019-07-28T15:45:57.479244Z",
     "start_time": "2019-07-28T15:45:57.413636Z"
    }
   },
   "outputs": [
    {
     "data": {
      "text/plain": [
       "(Machado de Assis, Brasil, Academia Brasileira de Letras)"
      ]
     },
     "execution_count": 22,
     "metadata": {},
     "output_type": "execute_result"
    }
   ],
   "source": [
    "doc2 = nlp(u'Machado de Assis um dos melhores escritores do Brasil, foi o primeiro presidente da Academia Brasileira de Letras')\n",
    "doc2.ents"
   ]
  },
  {
   "cell_type": "code",
   "execution_count": 33,
   "metadata": {
    "ExecuteTime": {
     "end_time": "2019-07-28T15:51:53.334492Z",
     "start_time": "2019-07-28T15:51:53.301259Z"
    }
   },
   "outputs": [],
   "source": [
    "def _filter(token):\n",
    "    if len(token) < 2:\n",
    "        return False\n",
    "    if token.is_stop:\n",
    "        return False\n",
    "    if token.text[0].islower():\n",
    "        return False\n",
    "    if token.is_digit:\n",
    "        return False\n",
    "    if token.like_num:\n",
    "        return False\n",
    "    return True\n",
    "\n",
    "def _clean(text):\n",
    "    text = text.replace(\"(\", \"\")\n",
    "    text = text.split(\"/\")[0]\n",
    "    return text"
   ]
  },
  {
   "cell_type": "code",
   "execution_count": 40,
   "metadata": {
    "ExecuteTime": {
     "end_time": "2019-07-28T15:53:01.668543Z",
     "start_time": "2019-07-28T15:53:01.645104Z"
    }
   },
   "outputs": [
    {
     "data": {
      "text/plain": [
       "True"
      ]
     },
     "execution_count": 40,
     "metadata": {},
     "output_type": "execute_result"
    }
   ],
   "source": []
  },
  {
   "cell_type": "code",
   "execution_count": 24,
   "metadata": {
    "ExecuteTime": {
     "end_time": "2019-07-28T15:46:06.205983Z",
     "start_time": "2019-07-28T15:46:06.195039Z"
    }
   },
   "outputs": [
    {
     "data": {
      "text/plain": [
       "[]"
      ]
     },
     "execution_count": 24,
     "metadata": {},
     "output_type": "execute_result"
    }
   ],
   "source": [
    "[(entity, entity.label_) for entity in doc.ents]\n"
   ]
  },
  {
   "cell_type": "code",
   "execution_count": 25,
   "metadata": {
    "ExecuteTime": {
     "end_time": "2019-07-28T15:46:10.993493Z",
     "start_time": "2019-07-28T15:46:09.450772Z"
    }
   },
   "outputs": [
    {
     "data": {
      "text/plain": [
       "[(Barack Obama, 'PERSON'), (American, 'NORP'), (\n",
       "       , 'PERSON'), (44th, 'ORDINAL'), (the United States,\n",
       "  'GPE'), (2009 to 2017, 'DATE'), (first, 'ORDINAL'), (\n",
       "       African American, 'NORP'), (\n",
       "       , 'PERSON'), (first, 'ORDINAL'), (United States, 'GPE')]"
      ]
     },
     "execution_count": 25,
     "metadata": {},
     "output_type": "execute_result"
    }
   ],
   "source": [
    "wiki_obama = \"\"\"Barack Obama is an American politician who served as\n",
    "     the 44th President of the United States from 2009 to 2017. He is the first\n",
    "     African American to have served as president,\n",
    "     as well as the first born outside the contiguous United States.\"\"\"\n",
    "nlp = spacy.load('en')\n",
    "nlp_obama = nlp(wiki_obama)\n",
    "[(i, i.label_) for i in nlp_obama.ents]"
   ]
  },
  {
   "cell_type": "code",
   "execution_count": null,
   "metadata": {},
   "outputs": [],
   "source": []
  }
 ],
 "metadata": {
  "kernelspec": {
   "display_name": "Python 3",
   "language": "python",
   "name": "python3"
  },
  "language_info": {
   "codemirror_mode": {
    "name": "ipython",
    "version": 3
   },
   "file_extension": ".py",
   "mimetype": "text/x-python",
   "name": "python",
   "nbconvert_exporter": "python",
   "pygments_lexer": "ipython3",
   "version": "3.6.4"
  },
  "toc": {
   "base_numbering": 1,
   "nav_menu": {},
   "number_sections": true,
   "sideBar": true,
   "skip_h1_title": false,
   "title_cell": "Table of Contents",
   "title_sidebar": "Contents",
   "toc_cell": false,
   "toc_position": {},
   "toc_section_display": true,
   "toc_window_display": false
  },
  "varInspector": {
   "cols": {
    "lenName": 16,
    "lenType": 16,
    "lenVar": 40
   },
   "kernels_config": {
    "python": {
     "delete_cmd_postfix": "",
     "delete_cmd_prefix": "del ",
     "library": "var_list.py",
     "varRefreshCmd": "print(var_dic_list())"
    },
    "r": {
     "delete_cmd_postfix": ") ",
     "delete_cmd_prefix": "rm(",
     "library": "var_list.r",
     "varRefreshCmd": "cat(var_dic_list()) "
    }
   },
   "types_to_exclude": [
    "module",
    "function",
    "builtin_function_or_method",
    "instance",
    "_Feature"
   ],
   "window_display": false
  }
 },
 "nbformat": 4,
 "nbformat_minor": 2
}
