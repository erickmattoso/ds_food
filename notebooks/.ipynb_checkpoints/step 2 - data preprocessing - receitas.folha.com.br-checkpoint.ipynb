{
 "cells": [
  {
   "cell_type": "code",
   "execution_count": 1,
   "metadata": {
    "ExecuteTime": {
     "end_time": "2019-08-02T17:38:23.322459Z",
     "start_time": "2019-08-02T17:38:22.336693Z"
    }
   },
   "outputs": [],
   "source": [
    "import pandas as pd\n",
    "import re\n",
    "# pd.set_option(\"display.max_rows\",     150)\n",
    "# pd.set_option('display.max_colwidth', 100)"
   ]
  },
  {
   "cell_type": "code",
   "execution_count": 2,
   "metadata": {
    "ExecuteTime": {
     "end_time": "2019-08-02T17:38:23.457864Z",
     "start_time": "2019-08-02T17:38:23.327246Z"
    }
   },
   "outputs": [],
   "source": [
    "data = pd.read_csv('data.csv')\n",
    "data = data.drop(['Unnamed: 0'], axis=1)"
   ]
  },
  {
   "cell_type": "code",
   "execution_count": 3,
   "metadata": {
    "ExecuteTime": {
     "end_time": "2019-08-02T17:38:25.165114Z",
     "start_time": "2019-08-02T17:38:23.462084Z"
    }
   },
   "outputs": [],
   "source": [
    "def remove_char(char_to_remove):\n",
    "    return data.replace(char_to_remove,'', regex=True, inplace= True)\n",
    "def remove_comma(char1):\n",
    "    return data['caracteristicas'].replace(char1,',', regex=True, inplace= True)\n",
    "def remove_brackets(char1):\n",
    "    return data['caracteristicas'].replace(char1,'[', regex=True, inplace= True)\n",
    "\n",
    "remove_char(r\"\"\"\\\\n|<b>|</b>|<br/>|<span itemprop=\"recipeYield\">|</span>|\\' \\'|<meta content=\"PT30M\" itemprop=\"prepTime\"/>|, , |\"\"\")\n",
    "remove_char(r\" , , | , '', | '|'', \")\n",
    "remove_char(r\"'|Grau de dificuldade:|Tempo de preparo:|Rendimento:|, ,\")\n",
    "remove_char(r\"\"\"<meta content=\"PT1H\" itemprop=\"prepTime\"/>\"\"\")\n",
    "remove_char(r\"\"\"<span itemprop=\"nutrition\" itemscope=\"\" itemtype=\"http://schema.org/NutritionInformation\">Valor nutricional: <span itemprop=\"calories\">\"\"\")\n",
    "remove_comma(r\", , |,,|, \")\n",
    "remove_brackets(r\"\\[,\")"
   ]
  },
  {
   "cell_type": "code",
   "execution_count": 4,
   "metadata": {
    "ExecuteTime": {
     "end_time": "2019-08-02T17:38:25.356094Z",
     "start_time": "2019-08-02T17:38:25.168113Z"
    }
   },
   "outputs": [
    {
     "name": "stderr",
     "output_type": "stream",
     "text": [
      "/Users/mattosoerick/anaconda3/lib/python3.6/site-packages/pandas/core/indexing.py:190: SettingWithCopyWarning: \n",
      "A value is trying to be set on a copy of a slice from a DataFrame\n",
      "\n",
      "See the caveats in the documentation: http://pandas.pydata.org/pandas-docs/stable/indexing.html#indexing-view-versus-copy\n",
      "  self._setitem_with_indexer(indexer, value)\n"
     ]
    }
   ],
   "source": [
    "data['caracteristicas'].iloc[1599] = '[Fácil,Mais de uma hora,2 pães]'\n",
    "data['caracteristicas'].iloc[2187] = '[Fácil,Até meia hora]'\n",
    "data['caracteristicas'].iloc[2427] = '[Fácil,Até meia hora]'\n",
    "data['caracteristicas'].iloc[2467] = '[Fácil,Até meia hora]'"
   ]
  },
  {
   "cell_type": "code",
   "execution_count": 5,
   "metadata": {
    "ExecuteTime": {
     "end_time": "2019-08-02T17:38:25.399604Z",
     "start_time": "2019-08-02T17:38:25.362174Z"
    }
   },
   "outputs": [
    {
     "data": {
      "text/plain": [
       "'1 porção]'"
      ]
     },
     "execution_count": 5,
     "metadata": {},
     "output_type": "execute_result"
    }
   ],
   "source": [
    "data.values.tolist()[3][3].split(\",\")[2]"
   ]
  },
  {
   "cell_type": "code",
   "execution_count": 6,
   "metadata": {
    "ExecuteTime": {
     "end_time": "2019-08-02T17:38:25.670477Z",
     "start_time": "2019-08-02T17:38:25.407665Z"
    }
   },
   "outputs": [],
   "source": [
    "data.to_csv('data_clr.csv')"
   ]
  },
  {
   "cell_type": "code",
   "execution_count": null,
   "metadata": {},
   "outputs": [],
   "source": []
  }
 ],
 "metadata": {
  "kernelspec": {
   "display_name": "Python 3",
   "language": "python",
   "name": "python3"
  },
  "language_info": {
   "codemirror_mode": {
    "name": "ipython",
    "version": 3
   },
   "file_extension": ".py",
   "mimetype": "text/x-python",
   "name": "python",
   "nbconvert_exporter": "python",
   "pygments_lexer": "ipython3",
   "version": "3.6.4"
  },
  "toc": {
   "base_numbering": 1,
   "nav_menu": {},
   "number_sections": true,
   "sideBar": true,
   "skip_h1_title": false,
   "title_cell": "Table of Contents",
   "title_sidebar": "Contents",
   "toc_cell": false,
   "toc_position": {},
   "toc_section_display": true,
   "toc_window_display": false
  },
  "varInspector": {
   "cols": {
    "lenName": 16,
    "lenType": 16,
    "lenVar": 40
   },
   "kernels_config": {
    "python": {
     "delete_cmd_postfix": "",
     "delete_cmd_prefix": "del ",
     "library": "var_list.py",
     "varRefreshCmd": "print(var_dic_list())"
    },
    "r": {
     "delete_cmd_postfix": ") ",
     "delete_cmd_prefix": "rm(",
     "library": "var_list.r",
     "varRefreshCmd": "cat(var_dic_list()) "
    }
   },
   "types_to_exclude": [
    "module",
    "function",
    "builtin_function_or_method",
    "instance",
    "_Feature"
   ],
   "window_display": false
  }
 },
 "nbformat": 4,
 "nbformat_minor": 2
}
