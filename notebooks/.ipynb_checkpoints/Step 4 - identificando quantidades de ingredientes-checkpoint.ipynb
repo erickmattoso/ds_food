{
 "cells": [
  {
   "cell_type": "code",
   "execution_count": 31,
   "metadata": {
    "ExecuteTime": {
     "end_time": "2019-08-05T20:13:15.850053Z",
     "start_time": "2019-08-05T20:13:15.843359Z"
    }
   },
   "outputs": [],
   "source": [
    "import pandas as pd\n",
    "import re\n",
    "import spacy\n",
    "from spacy.lang.pt import Portuguese\n",
    "from ast import literal_eval\n",
    "import itertools\n",
    "import ast"
   ]
  },
  {
   "cell_type": "code",
   "execution_count": 32,
   "metadata": {
    "ExecuteTime": {
     "end_time": "2019-08-05T20:13:17.666120Z",
     "start_time": "2019-08-05T20:13:17.581758Z"
    }
   },
   "outputs": [],
   "source": [
    "pd.set_option('display.max_colwidth', 100)\n",
    "pd.set_option(\"display.max_rows\",    1000)\n",
    "data = pd.read_csv('data/data_clr.csv',index_col=0)"
   ]
  },
  {
   "cell_type": "code",
   "execution_count": 50,
   "metadata": {
    "ExecuteTime": {
     "end_time": "2019-08-05T20:15:08.024695Z",
     "start_time": "2019-08-05T20:15:07.801539Z"
    }
   },
   "outputs": [
    {
     "data": {
      "text/plain": [
       "pandas.core.series.Series"
      ]
     },
     "execution_count": 50,
     "metadata": {},
     "output_type": "execute_result"
    }
   ],
   "source": [
    "ingredients = data['ingredientes'].apply(lambda x: literal_eval(str(x)))\n",
    "ingredients = ingredients.apply(lambda ingredients: list(itertools.chain(*ingredients)))\n",
    "type(ingredients[0])\n",
    "type(ingredients[:5])"
   ]
  },
  {
   "cell_type": "code",
   "execution_count": 34,
   "metadata": {
    "ExecuteTime": {
     "end_time": "2019-08-05T20:13:22.493835Z",
     "start_time": "2019-08-05T20:13:21.434468Z"
    }
   },
   "outputs": [],
   "source": [
    "nlp = spacy.load('pt')\n"
   ]
  },
  {
   "cell_type": "code",
   "execution_count": 35,
   "metadata": {
    "ExecuteTime": {
     "end_time": "2019-08-05T20:13:24.423270Z",
     "start_time": "2019-08-05T20:13:24.413734Z"
    }
   },
   "outputs": [],
   "source": [
    "ingredients_sliced = ingredients[:5]"
   ]
  },
  {
   "cell_type": "code",
   "execution_count": 47,
   "metadata": {
    "ExecuteTime": {
     "end_time": "2019-08-05T20:14:38.635274Z",
     "start_time": "2019-08-05T20:14:38.615229Z"
    }
   },
   "outputs": [
    {
     "ename": "AttributeError",
     "evalue": "'generator' object has no attribute 'text'",
     "output_type": "error",
     "traceback": [
      "\u001b[0;31m---------------------------------------------------------------------------\u001b[0m",
      "\u001b[0;31mAttributeError\u001b[0m                            Traceback (most recent call last)",
      "\u001b[0;32m<ipython-input-47-aa1e28654e76>\u001b[0m in \u001b[0;36m<module>\u001b[0;34m()\u001b[0m\n\u001b[1;32m      1\u001b[0m \u001b[0mdoc\u001b[0m \u001b[0;34m=\u001b[0m \u001b[0mnlp\u001b[0m\u001b[0;34m.\u001b[0m\u001b[0mpipe\u001b[0m\u001b[0;34m(\u001b[0m\u001b[0mingredients_sliced\u001b[0m\u001b[0;34m.\u001b[0m\u001b[0mastype\u001b[0m\u001b[0;34m(\u001b[0m\u001b[0;34m'unicode'\u001b[0m\u001b[0;34m)\u001b[0m\u001b[0;34m.\u001b[0m\u001b[0mvalues\u001b[0m\u001b[0;34m)\u001b[0m\u001b[0;34m\u001b[0m\u001b[0m\n\u001b[1;32m      2\u001b[0m \u001b[0;31m# doc = nlp(u'Você encontrou o livro que eu te falei, Carla?')\u001b[0m\u001b[0;34m\u001b[0m\u001b[0;34m\u001b[0m\u001b[0m\n\u001b[0;32m----> 3\u001b[0;31m \u001b[0mdoc\u001b[0m\u001b[0;34m.\u001b[0m\u001b[0mtext\u001b[0m\u001b[0;34m.\u001b[0m\u001b[0msplit\u001b[0m\u001b[0;34m(\u001b[0m\u001b[0;34m)\u001b[0m\u001b[0;34m\u001b[0m\u001b[0m\n\u001b[0m",
      "\u001b[0;31mAttributeError\u001b[0m: 'generator' object has no attribute 'text'"
     ]
    }
   ],
   "source": [
    "doc = nlp.pipe(ingredients_sliced.astype('unicode').values)\n",
    "# doc = nlp(u'Você encontrou o livro que eu te falei, Carla?')\n",
    "doc.text.split()"
   ]
  },
  {
   "cell_type": "code",
   "execution_count": 37,
   "metadata": {
    "ExecuteTime": {
     "end_time": "2019-08-05T20:13:28.049148Z",
     "start_time": "2019-08-05T20:13:27.923380Z"
    }
   },
   "outputs": [
    {
     "data": {
      "text/plain": [
       "[['5 unidades de jabuticaba', '50ml de cachaça (1 dose)', 'gelo à gosto'],\n",
       " ['1 unidade de tangerina', '1 colher de polpa de maracujá natural com semente', '50ml de cachaça (1 dose)', '1 colher de sopa de açúcar'],\n",
       " ['60ml de cachaça (1 dose + 1 colher de sopa)', '1 unidade de limão brilhante e sem machucados na casca', '2 colheres de sopa de xarope de açúcar (pode ser substituído por açúcar comum)', 'muito gelo'],\n",
       " ['50ml de cachaça', '2 cubos de tangerina', '4 fatias de caju', '3 fatias de finas de lima da pérsia', '1 colher de açúcar', 'gelo'],\n",
       " ['2 xícaras arroz cru', '4 xícaras caldo escuro de porco (feito com mirepoix e aparas de porco)', '2 xícaras folha de mostarda picada', '2 colheres sopa de manteiga', '4 unidades costelinhas dessalgadas', '1 xícara vinho branco seco', '1 unidade bouquet grani (conjunto de ervas aromáticas)', '500g sobrepaleta de porco', '200g linguiça calabresa', '50g bacon', '1 unidade cebola picada', '4 dentes alho picados', '4 unidades ovos']]"
      ]
     },
     "execution_count": 37,
     "metadata": {},
     "output_type": "execute_result"
    }
   ],
   "source": [
    "teste1 = [token for token in doc]\n",
    "teste1"
   ]
  },
  {
   "cell_type": "code",
   "execution_count": 40,
   "metadata": {
    "ExecuteTime": {
     "end_time": "2019-08-05T20:13:35.510507Z",
     "start_time": "2019-08-05T20:13:35.500822Z"
    }
   },
   "outputs": [
    {
     "data": {
      "text/plain": [
       "[]"
      ]
     },
     "execution_count": 40,
     "metadata": {},
     "output_type": "execute_result"
    }
   ],
   "source": [
    "teste2 = [token.orth_ for token in doc]\n",
    "teste2"
   ]
  },
  {
   "cell_type": "code",
   "execution_count": 41,
   "metadata": {
    "ExecuteTime": {
     "end_time": "2019-08-05T20:13:46.781120Z",
     "start_time": "2019-08-05T20:13:46.774719Z"
    }
   },
   "outputs": [],
   "source": [
    "teste3 = [token.orth_ for token in doc if not token.is_punct]"
   ]
  },
  {
   "cell_type": "code",
   "execution_count": 42,
   "metadata": {
    "ExecuteTime": {
     "end_time": "2019-08-05T20:13:48.598953Z",
     "start_time": "2019-08-05T20:13:48.589713Z"
    }
   },
   "outputs": [
    {
     "data": {
      "text/plain": [
       "[]"
      ]
     },
     "execution_count": 42,
     "metadata": {},
     "output_type": "execute_result"
    }
   ],
   "source": [
    "teste3"
   ]
  },
  {
   "cell_type": "code",
   "execution_count": 43,
   "metadata": {
    "ExecuteTime": {
     "end_time": "2019-08-05T20:13:50.367329Z",
     "start_time": "2019-08-05T20:13:50.360650Z"
    }
   },
   "outputs": [],
   "source": [
    "tokens = [token for token in doc]"
   ]
  },
  {
   "cell_type": "code",
   "execution_count": 44,
   "metadata": {
    "ExecuteTime": {
     "end_time": "2019-08-05T20:13:52.235470Z",
     "start_time": "2019-08-05T20:13:52.218848Z"
    }
   },
   "outputs": [
    {
     "ename": "IndexError",
     "evalue": "list index out of range",
     "output_type": "error",
     "traceback": [
      "\u001b[0;31m---------------------------------------------------------------------------\u001b[0m",
      "\u001b[0;31mIndexError\u001b[0m                                Traceback (most recent call last)",
      "\u001b[0;32m<ipython-input-44-d8d2f6eedd6e>\u001b[0m in \u001b[0;36m<module>\u001b[0;34m()\u001b[0m\n\u001b[0;32m----> 1\u001b[0;31m \u001b[0mtokens\u001b[0m\u001b[0;34m[\u001b[0m\u001b[0;36m0\u001b[0m\u001b[0;34m]\u001b[0m\u001b[0;34m.\u001b[0m\u001b[0msimilarity\u001b[0m\u001b[0;34m(\u001b[0m\u001b[0mtokens\u001b[0m\u001b[0;34m[\u001b[0m\u001b[0;36m5\u001b[0m\u001b[0;34m]\u001b[0m\u001b[0;34m)\u001b[0m\u001b[0;34m\u001b[0m\u001b[0m\n\u001b[0m",
      "\u001b[0;31mIndexError\u001b[0m: list index out of range"
     ]
    }
   ],
   "source": [
    "tokens[0].similarity(tokens[5])"
   ]
  },
  {
   "cell_type": "code",
   "execution_count": 45,
   "metadata": {
    "ExecuteTime": {
     "end_time": "2019-08-05T20:13:54.670818Z",
     "start_time": "2019-08-05T20:13:54.662457Z"
    },
    "scrolled": false
   },
   "outputs": [
    {
     "data": {
      "text/plain": [
       "[]"
      ]
     },
     "execution_count": 45,
     "metadata": {},
     "output_type": "execute_result"
    }
   ],
   "source": [
    "[(token.orth_, token.pos_) for token in doc]"
   ]
  },
  {
   "cell_type": "code",
   "execution_count": 46,
   "metadata": {
    "ExecuteTime": {
     "end_time": "2019-08-05T20:13:56.478171Z",
     "start_time": "2019-08-05T20:13:56.467825Z"
    }
   },
   "outputs": [
    {
     "data": {
      "text/plain": [
       "[]"
      ]
     },
     "execution_count": 46,
     "metadata": {},
     "output_type": "execute_result"
    }
   ],
   "source": [
    "[token.lemma_ for token in doc if token.pos_ == 'PUNCT']"
   ]
  },
  {
   "cell_type": "code",
   "execution_count": null,
   "metadata": {},
   "outputs": [],
   "source": []
  }
 ],
 "metadata": {
  "kernelspec": {
   "display_name": "Python 3",
   "language": "python",
   "name": "python3"
  },
  "toc": {
   "base_numbering": 1,
   "nav_menu": {},
   "number_sections": true,
   "sideBar": true,
   "skip_h1_title": false,
   "title_cell": "Table of Contents",
   "title_sidebar": "Contents",
   "toc_cell": false,
   "toc_position": {},
   "toc_section_display": true,
   "toc_window_display": false
  },
  "varInspector": {
   "cols": {
    "lenName": 16,
    "lenType": 16,
    "lenVar": 40
   },
   "kernels_config": {
    "python": {
     "delete_cmd_postfix": "",
     "delete_cmd_prefix": "del ",
     "library": "var_list.py",
     "varRefreshCmd": "print(var_dic_list())"
    },
    "r": {
     "delete_cmd_postfix": ") ",
     "delete_cmd_prefix": "rm(",
     "library": "var_list.r",
     "varRefreshCmd": "cat(var_dic_list()) "
    }
   },
   "types_to_exclude": [
    "module",
    "function",
    "builtin_function_or_method",
    "instance",
    "_Feature"
   ],
   "window_display": false
  }
 },
 "nbformat": 4,
 "nbformat_minor": 2
}
