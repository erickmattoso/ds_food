{
 "cells": [
  {
   "cell_type": "code",
   "execution_count": 1,
   "metadata": {
    "ExecuteTime": {
     "end_time": "2019-07-28T02:40:10.570726Z",
     "start_time": "2019-07-28T02:40:08.166727Z"
    }
   },
   "outputs": [],
   "source": [
    "# https://leportella.com/pt-br/2017/11/30/brincando-de-nlp-com-spacy.html\n",
    "import spacy\n",
    "from spacy.lang.pt import Portuguese\n",
    "nlp = spacy.load('pt')\n"
   ]
  },
  {
   "cell_type": "code",
   "execution_count": 2,
   "metadata": {
    "ExecuteTime": {
     "end_time": "2019-07-28T02:40:10.612161Z",
     "start_time": "2019-07-28T02:40:10.573272Z"
    }
   },
   "outputs": [
    {
     "data": {
      "text/plain": [
       "['Você', 'encontrou', 'o', 'livro', 'que', 'eu', 'te', 'falei,', 'Carla?']"
      ]
     },
     "execution_count": 2,
     "metadata": {},
     "output_type": "execute_result"
    }
   ],
   "source": [
    "doc = nlp(u'Você encontrou o livro que eu te falei, Carla?')\n",
    "doc.text.split()"
   ]
  },
  {
   "cell_type": "code",
   "execution_count": 3,
   "metadata": {
    "ExecuteTime": {
     "end_time": "2019-07-28T02:40:10.629721Z",
     "start_time": "2019-07-28T02:40:10.615939Z"
    }
   },
   "outputs": [
    {
     "data": {
      "text/plain": [
       "[Você, encontrou, o, livro, que, eu, te, falei, ,, Carla, ?]"
      ]
     },
     "execution_count": 3,
     "metadata": {},
     "output_type": "execute_result"
    }
   ],
   "source": [
    "[token for token in doc]"
   ]
  },
  {
   "cell_type": "code",
   "execution_count": 4,
   "metadata": {
    "ExecuteTime": {
     "end_time": "2019-07-28T02:40:10.653308Z",
     "start_time": "2019-07-28T02:40:10.634774Z"
    }
   },
   "outputs": [
    {
     "data": {
      "text/plain": [
       "['Você',\n",
       " 'encontrou',\n",
       " 'o',\n",
       " 'livro',\n",
       " 'que',\n",
       " 'eu',\n",
       " 'te',\n",
       " 'falei',\n",
       " ',',\n",
       " 'Carla',\n",
       " '?']"
      ]
     },
     "execution_count": 4,
     "metadata": {},
     "output_type": "execute_result"
    }
   ],
   "source": [
    "[token.orth_ for token in doc]"
   ]
  },
  {
   "cell_type": "code",
   "execution_count": 5,
   "metadata": {
    "ExecuteTime": {
     "end_time": "2019-07-28T02:40:10.678810Z",
     "start_time": "2019-07-28T02:40:10.662500Z"
    }
   },
   "outputs": [
    {
     "data": {
      "text/plain": [
       "['Você', 'encontrou', 'o', 'livro', 'que', 'eu', 'te', 'falei', 'Carla']"
      ]
     },
     "execution_count": 5,
     "metadata": {},
     "output_type": "execute_result"
    }
   ],
   "source": [
    "[token.orth_ for token in doc if not token.is_punct]"
   ]
  },
  {
   "cell_type": "code",
   "execution_count": 6,
   "metadata": {
    "ExecuteTime": {
     "end_time": "2019-07-28T02:40:10.691619Z",
     "start_time": "2019-07-28T02:40:10.685590Z"
    }
   },
   "outputs": [],
   "source": [
    "tokens = [token for token in doc]"
   ]
  },
  {
   "cell_type": "code",
   "execution_count": 7,
   "metadata": {
    "ExecuteTime": {
     "end_time": "2019-07-28T02:40:10.716460Z",
     "start_time": "2019-07-28T02:40:10.697520Z"
    }
   },
   "outputs": [
    {
     "data": {
      "text/plain": [
       "0.29921815"
      ]
     },
     "execution_count": 7,
     "metadata": {},
     "output_type": "execute_result"
    }
   ],
   "source": [
    "tokens[0].similarity(tokens[5])"
   ]
  },
  {
   "cell_type": "code",
   "execution_count": 8,
   "metadata": {
    "ExecuteTime": {
     "end_time": "2019-07-28T02:40:10.735159Z",
     "start_time": "2019-07-28T02:40:10.720826Z"
    }
   },
   "outputs": [
    {
     "data": {
      "text/plain": [
       "[('Você', 'PRON'),\n",
       " ('encontrou', 'VERB'),\n",
       " ('o', 'DET'),\n",
       " ('livro', 'NOUN'),\n",
       " ('que', 'PRON'),\n",
       " ('eu', 'PRON'),\n",
       " ('te', 'PRON'),\n",
       " ('falei', 'VERB'),\n",
       " (',', 'PUNCT'),\n",
       " ('Carla', 'PROPN'),\n",
       " ('?', 'PUNCT')]"
      ]
     },
     "execution_count": 8,
     "metadata": {},
     "output_type": "execute_result"
    }
   ],
   "source": [
    "[(token.orth_, token.pos_) for token in doc]"
   ]
  },
  {
   "cell_type": "code",
   "execution_count": 9,
   "metadata": {
    "ExecuteTime": {
     "end_time": "2019-07-28T02:40:10.750906Z",
     "start_time": "2019-07-28T02:40:10.739143Z"
    }
   },
   "outputs": [
    {
     "data": {
      "text/plain": [
       "['encontrar', 'falar']"
      ]
     },
     "execution_count": 9,
     "metadata": {},
     "output_type": "execute_result"
    }
   ],
   "source": [
    "[token.lemma_ for token in doc if token.pos_ == 'VERB']"
   ]
  },
  {
   "cell_type": "code",
   "execution_count": 10,
   "metadata": {
    "ExecuteTime": {
     "end_time": "2019-07-28T02:40:10.800308Z",
     "start_time": "2019-07-28T02:40:10.758896Z"
    }
   },
   "outputs": [
    {
     "data": {
      "text/plain": [
       "['encontrar', 'encontrar', 'encontrar', 'encontrar']"
      ]
     },
     "execution_count": 10,
     "metadata": {},
     "output_type": "execute_result"
    }
   ],
   "source": [
    "doc = nlp(u'encontrei, encontraram, encontrarão, encontrariam')\n",
    "[token.lemma_ for token in doc if token.pos_ == 'VERB']"
   ]
  },
  {
   "cell_type": "code",
   "execution_count": 11,
   "metadata": {
    "ExecuteTime": {
     "end_time": "2019-07-28T02:40:10.851562Z",
     "start_time": "2019-07-28T02:40:10.803914Z"
    }
   },
   "outputs": [
    {
     "data": {
      "text/plain": [
       "True"
      ]
     },
     "execution_count": 11,
     "metadata": {},
     "output_type": "execute_result"
    }
   ],
   "source": [
    "doc = nlp(u'encontrar encontrei')\n",
    "tokens = [token for token in doc]\n",
    "tokens[0].is_ancestor(tokens[1])"
   ]
  },
  {
   "cell_type": "code",
   "execution_count": 12,
   "metadata": {
    "ExecuteTime": {
     "end_time": "2019-07-28T02:40:10.896858Z",
     "start_time": "2019-07-28T02:40:10.857036Z"
    }
   },
   "outputs": [],
   "source": [
    "doc = nlp(u'Machado de Assis um dos melhores escritores do Brasil, foi o primeiro presidente da Academia Brasileira de Letras')"
   ]
  },
  {
   "cell_type": "code",
   "execution_count": 13,
   "metadata": {
    "ExecuteTime": {
     "end_time": "2019-07-28T02:40:10.912252Z",
     "start_time": "2019-07-28T02:40:10.901336Z"
    }
   },
   "outputs": [
    {
     "data": {
      "text/plain": [
       "(Machado de Assis, Brasil, Academia Brasileira de Letras)"
      ]
     },
     "execution_count": 13,
     "metadata": {},
     "output_type": "execute_result"
    }
   ],
   "source": [
    "doc.ents"
   ]
  },
  {
   "cell_type": "code",
   "execution_count": 14,
   "metadata": {
    "ExecuteTime": {
     "end_time": "2019-07-28T02:40:10.928314Z",
     "start_time": "2019-07-28T02:40:10.918077Z"
    }
   },
   "outputs": [
    {
     "data": {
      "text/plain": [
       "[(Machado de Assis, 'PER'),\n",
       " (Brasil, 'LOC'),\n",
       " (Academia Brasileira de Letras, 'ORG')]"
      ]
     },
     "execution_count": 14,
     "metadata": {},
     "output_type": "execute_result"
    }
   ],
   "source": [
    "[(entity, entity.label_) for entity in doc.ents]\n"
   ]
  },
  {
   "cell_type": "code",
   "execution_count": 15,
   "metadata": {
    "ExecuteTime": {
     "end_time": "2019-07-28T02:40:12.290509Z",
     "start_time": "2019-07-28T02:40:10.936691Z"
    }
   },
   "outputs": [
    {
     "data": {
      "text/plain": [
       "[(Barack Obama, 'PERSON'), (American, 'NORP'), (\n",
       "       , 'PERSON'), (44th, 'ORDINAL'), (the United States,\n",
       "  'GPE'), (2009 to 2017, 'DATE'), (first, 'ORDINAL'), (\n",
       "       African American, 'NORP'), (\n",
       "       , 'PERSON'), (first, 'ORDINAL'), (United States, 'GPE')]"
      ]
     },
     "execution_count": 15,
     "metadata": {},
     "output_type": "execute_result"
    }
   ],
   "source": [
    "wiki_obama = \"\"\"Barack Obama is an American politician who served as\n",
    "     the 44th President of the United States from 2009 to 2017. He is the first\n",
    "     African American to have served as president,\n",
    "     as well as the first born outside the contiguous United States.\"\"\"\n",
    "nlp = spacy.load('en')\n",
    "nlp_obama = nlp(wiki_obama)\n",
    "[(i, i.label_) for i in nlp_obama.ents]"
   ]
  },
  {
   "cell_type": "code",
   "execution_count": null,
   "metadata": {},
   "outputs": [],
   "source": []
  }
 ],
 "metadata": {
  "kernelspec": {
   "display_name": "Python 3",
   "language": "python",
   "name": "python3"
  },
  "language_info": {
   "codemirror_mode": {
    "name": "ipython",
    "version": 3
   },
   "file_extension": ".py",
   "mimetype": "text/x-python",
   "name": "python",
   "nbconvert_exporter": "python",
   "pygments_lexer": "ipython3",
   "version": "3.6.4"
  },
  "toc": {
   "base_numbering": 1,
   "nav_menu": {},
   "number_sections": true,
   "sideBar": true,
   "skip_h1_title": false,
   "title_cell": "Table of Contents",
   "title_sidebar": "Contents",
   "toc_cell": false,
   "toc_position": {},
   "toc_section_display": true,
   "toc_window_display": false
  },
  "varInspector": {
   "cols": {
    "lenName": 16,
    "lenType": 16,
    "lenVar": 40
   },
   "kernels_config": {
    "python": {
     "delete_cmd_postfix": "",
     "delete_cmd_prefix": "del ",
     "library": "var_list.py",
     "varRefreshCmd": "print(var_dic_list())"
    },
    "r": {
     "delete_cmd_postfix": ") ",
     "delete_cmd_prefix": "rm(",
     "library": "var_list.r",
     "varRefreshCmd": "cat(var_dic_list()) "
    }
   },
   "types_to_exclude": [
    "module",
    "function",
    "builtin_function_or_method",
    "instance",
    "_Feature"
   ],
   "window_display": false
  }
 },
 "nbformat": 4,
 "nbformat_minor": 2
}
