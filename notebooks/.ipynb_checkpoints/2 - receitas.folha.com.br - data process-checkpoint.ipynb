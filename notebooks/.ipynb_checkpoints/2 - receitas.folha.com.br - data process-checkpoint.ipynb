{
 "cells": [
  {
   "cell_type": "code",
   "execution_count": 1,
   "metadata": {
    "ExecuteTime": {
     "end_time": "2019-08-01T21:04:53.996205Z",
     "start_time": "2019-08-01T21:04:53.040279Z"
    }
   },
   "outputs": [],
   "source": [
    "import pandas as pd\n",
    "import re\n",
    "\n",
    "pd.set_option(\"display.max_rows\",     60)\n",
    "pd.set_option('display.max_colwidth', 60)\n"
   ]
  },
  {
   "cell_type": "code",
   "execution_count": 2,
   "metadata": {
    "ExecuteTime": {
     "end_time": "2019-08-01T21:04:54.178812Z",
     "start_time": "2019-08-01T21:04:54.000655Z"
    }
   },
   "outputs": [],
   "source": [
    "data = pd.read_csv('data.csv')"
   ]
  },
  {
   "cell_type": "code",
   "execution_count": 3,
   "metadata": {
    "ExecuteTime": {
     "end_time": "2019-08-01T21:04:54.242961Z",
     "start_time": "2019-08-01T21:04:54.182004Z"
    }
   },
   "outputs": [
    {
     "data": {
      "text/html": [
       "<div>\n",
       "<style scoped>\n",
       "    .dataframe tbody tr th:only-of-type {\n",
       "        vertical-align: middle;\n",
       "    }\n",
       "\n",
       "    .dataframe tbody tr th {\n",
       "        vertical-align: top;\n",
       "    }\n",
       "\n",
       "    .dataframe thead th {\n",
       "        text-align: right;\n",
       "    }\n",
       "</style>\n",
       "<table border=\"1\" class=\"dataframe\">\n",
       "  <thead>\n",
       "    <tr style=\"text-align: right;\">\n",
       "      <th></th>\n",
       "      <th>Unnamed: 0</th>\n",
       "      <th>id</th>\n",
       "      <th>receita</th>\n",
       "      <th>tipo</th>\n",
       "      <th>caracteristicas</th>\n",
       "      <th>descricao</th>\n",
       "      <th>ingredientes</th>\n",
       "      <th>instrucoes</th>\n",
       "      <th>veggie</th>\n",
       "      <th>keyword</th>\n",
       "    </tr>\n",
       "  </thead>\n",
       "  <tbody>\n",
       "    <tr>\n",
       "      <th>0</th>\n",
       "      <td>0</td>\n",
       "      <td>2950</td>\n",
       "      <td>['Caipirinha de Jabuticaba']</td>\n",
       "      <td>['brasileira | bebidas']</td>\n",
       "      <td>['\\n', &lt;b&gt;Grau de dificuldade:&lt;/b&gt;, ' Fácil', &lt;br/&gt;, '\\n...</td>\n",
       "      <td>['\\n\\nReceita de \"Caipirinha de Jabuticaba\" elaborada pe...</td>\n",
       "      <td>[['5 unidades de jabuticaba'], ['50ml de cachaça (1 dose...</td>\n",
       "      <td>[['\\n- Colocar no copo as jabuticabas e o açúcar e macer...</td>\n",
       "      <td>[]</td>\n",
       "      <td>['Palavras-chave: veloso, bar, caipirinha, caipirinha de...</td>\n",
       "    </tr>\n",
       "    <tr>\n",
       "      <th>1</th>\n",
       "      <td>1</td>\n",
       "      <td>2949</td>\n",
       "      <td>['Caipirinha Onça Pintada']</td>\n",
       "      <td>['brasileira | bebidas']</td>\n",
       "      <td>['\\n', &lt;b&gt;Grau de dificuldade:&lt;/b&gt;, ' Fácil', &lt;br/&gt;, '\\n...</td>\n",
       "      <td>['\\n\\nReceita da \"Caipirinha Onça Pintada\", servida no B...</td>\n",
       "      <td>[['1 unidade de tangerina'], ['1 colher de polpa de mara...</td>\n",
       "      <td>[['\\n- Em um copo, macere a polpa de maracujá, a tangeri...</td>\n",
       "      <td>[]</td>\n",
       "      <td>['Palavras-chave: bar da dona onça, caipirinha']</td>\n",
       "    </tr>\n",
       "    <tr>\n",
       "      <th>2</th>\n",
       "      <td>2</td>\n",
       "      <td>2947</td>\n",
       "      <td>['Caipirinha tradicional']</td>\n",
       "      <td>['brasileira | bebidas']</td>\n",
       "      <td>['\\n', &lt;b&gt;Grau de dificuldade:&lt;/b&gt;, ' Médio', &lt;br/&gt;, '\\n...</td>\n",
       "      <td>['\\n\\nReceita de caipirinha tradicional, elaborada pelo ...</td>\n",
       "      <td>[['60ml de cachaça (1 dose + 1 colher de sopa)'], ['1 un...</td>\n",
       "      <td>[['\\n- Em uma tábua, tire as duas pontinhas do limão\\n']...</td>\n",
       "      <td>[]</td>\n",
       "      <td>['Palavras-chave: caipirinha, jean ponce']</td>\n",
       "    </tr>\n",
       "    <tr>\n",
       "      <th>3</th>\n",
       "      <td>3</td>\n",
       "      <td>2946</td>\n",
       "      <td>['Cajurina']</td>\n",
       "      <td>['brasileira | bebidas']</td>\n",
       "      <td>['\\n', &lt;b&gt;Grau de dificuldade:&lt;/b&gt;, ' Fácil', &lt;br/&gt;, '\\n...</td>\n",
       "      <td>['\\n\\nReceita de Cajurina, um tipo de caipirinha, elabor...</td>\n",
       "      <td>[['50ml de cachaça'], ['2 cubos de tangerina'], ['4 fati...</td>\n",
       "      <td>[['\\n- Em um copo baixo, coloque o caju, a tangerina, a ...</td>\n",
       "      <td>[]</td>\n",
       "      <td>['Palavras-chave: bar numero, derivan, caipirinha, cajur...</td>\n",
       "    </tr>\n",
       "    <tr>\n",
       "      <th>4</th>\n",
       "      <td>4</td>\n",
       "      <td>2945</td>\n",
       "      <td>['Arroz de porco com folhas de mostarda']</td>\n",
       "      <td>['brasileira | outros']</td>\n",
       "      <td>['\\n', &lt;b&gt;Grau de dificuldade:&lt;/b&gt;, ' Médio', &lt;br/&gt;, '\\n...</td>\n",
       "      <td>['\\n\\nO arroz de porco com folhas de mostarda é uma rece...</td>\n",
       "      <td>[['2 xícaras arroz cru'], ['4 xícaras caldo escuro de po...</td>\n",
       "      <td>[['\\n- Para o caldo, doure a sobrepaleta, bacon e costel...</td>\n",
       "      <td>[]</td>\n",
       "      <td>['Palavras-chave: arroz de porco, marcelo tanus, astor']</td>\n",
       "    </tr>\n",
       "  </tbody>\n",
       "</table>\n",
       "</div>"
      ],
      "text/plain": [
       "   Unnamed: 0    id                                    receita  \\\n",
       "0           0  2950               ['Caipirinha de Jabuticaba']   \n",
       "1           1  2949                ['Caipirinha Onça Pintada']   \n",
       "2           2  2947                 ['Caipirinha tradicional']   \n",
       "3           3  2946                               ['Cajurina']   \n",
       "4           4  2945  ['Arroz de porco com folhas de mostarda']   \n",
       "\n",
       "                       tipo  \\\n",
       "0  ['brasileira | bebidas']   \n",
       "1  ['brasileira | bebidas']   \n",
       "2  ['brasileira | bebidas']   \n",
       "3  ['brasileira | bebidas']   \n",
       "4   ['brasileira | outros']   \n",
       "\n",
       "                                               caracteristicas  \\\n",
       "0  ['\\n', <b>Grau de dificuldade:</b>, ' Fácil', <br/>, '\\n...   \n",
       "1  ['\\n', <b>Grau de dificuldade:</b>, ' Fácil', <br/>, '\\n...   \n",
       "2  ['\\n', <b>Grau de dificuldade:</b>, ' Médio', <br/>, '\\n...   \n",
       "3  ['\\n', <b>Grau de dificuldade:</b>, ' Fácil', <br/>, '\\n...   \n",
       "4  ['\\n', <b>Grau de dificuldade:</b>, ' Médio', <br/>, '\\n...   \n",
       "\n",
       "                                                     descricao  \\\n",
       "0  ['\\n\\nReceita de \"Caipirinha de Jabuticaba\" elaborada pe...   \n",
       "1  ['\\n\\nReceita da \"Caipirinha Onça Pintada\", servida no B...   \n",
       "2  ['\\n\\nReceita de caipirinha tradicional, elaborada pelo ...   \n",
       "3  ['\\n\\nReceita de Cajurina, um tipo de caipirinha, elabor...   \n",
       "4  ['\\n\\nO arroz de porco com folhas de mostarda é uma rece...   \n",
       "\n",
       "                                                  ingredientes  \\\n",
       "0  [['5 unidades de jabuticaba'], ['50ml de cachaça (1 dose...   \n",
       "1  [['1 unidade de tangerina'], ['1 colher de polpa de mara...   \n",
       "2  [['60ml de cachaça (1 dose + 1 colher de sopa)'], ['1 un...   \n",
       "3  [['50ml de cachaça'], ['2 cubos de tangerina'], ['4 fati...   \n",
       "4  [['2 xícaras arroz cru'], ['4 xícaras caldo escuro de po...   \n",
       "\n",
       "                                                    instrucoes veggie  \\\n",
       "0  [['\\n- Colocar no copo as jabuticabas e o açúcar e macer...     []   \n",
       "1  [['\\n- Em um copo, macere a polpa de maracujá, a tangeri...     []   \n",
       "2  [['\\n- Em uma tábua, tire as duas pontinhas do limão\\n']...     []   \n",
       "3  [['\\n- Em um copo baixo, coloque o caju, a tangerina, a ...     []   \n",
       "4  [['\\n- Para o caldo, doure a sobrepaleta, bacon e costel...     []   \n",
       "\n",
       "                                                       keyword  \n",
       "0  ['Palavras-chave: veloso, bar, caipirinha, caipirinha de...  \n",
       "1             ['Palavras-chave: bar da dona onça, caipirinha']  \n",
       "2                   ['Palavras-chave: caipirinha, jean ponce']  \n",
       "3  ['Palavras-chave: bar numero, derivan, caipirinha, cajur...  \n",
       "4     ['Palavras-chave: arroz de porco, marcelo tanus, astor']  "
      ]
     },
     "execution_count": 3,
     "metadata": {},
     "output_type": "execute_result"
    }
   ],
   "source": [
    "data.head()"
   ]
  },
  {
   "cell_type": "code",
   "execution_count": 4,
   "metadata": {
    "ExecuteTime": {
     "end_time": "2019-08-01T21:04:54.288453Z",
     "start_time": "2019-08-01T21:04:54.253252Z"
    }
   },
   "outputs": [
    {
     "data": {
      "text/html": [
       "<div>\n",
       "<style scoped>\n",
       "    .dataframe tbody tr th:only-of-type {\n",
       "        vertical-align: middle;\n",
       "    }\n",
       "\n",
       "    .dataframe tbody tr th {\n",
       "        vertical-align: top;\n",
       "    }\n",
       "\n",
       "    .dataframe thead th {\n",
       "        text-align: right;\n",
       "    }\n",
       "</style>\n",
       "<table border=\"1\" class=\"dataframe\">\n",
       "  <thead>\n",
       "    <tr style=\"text-align: right;\">\n",
       "      <th></th>\n",
       "      <th>Unnamed: 0</th>\n",
       "      <th>id</th>\n",
       "    </tr>\n",
       "  </thead>\n",
       "  <tbody>\n",
       "    <tr>\n",
       "      <th>count</th>\n",
       "      <td>2896.000000</td>\n",
       "      <td>2896.000000</td>\n",
       "    </tr>\n",
       "    <tr>\n",
       "      <th>mean</th>\n",
       "      <td>1447.500000</td>\n",
       "      <td>1489.715470</td>\n",
       "    </tr>\n",
       "    <tr>\n",
       "      <th>std</th>\n",
       "      <td>836.147515</td>\n",
       "      <td>844.767557</td>\n",
       "    </tr>\n",
       "    <tr>\n",
       "      <th>min</th>\n",
       "      <td>0.000000</td>\n",
       "      <td>20.000000</td>\n",
       "    </tr>\n",
       "    <tr>\n",
       "      <th>25%</th>\n",
       "      <td>723.750000</td>\n",
       "      <td>759.750000</td>\n",
       "    </tr>\n",
       "    <tr>\n",
       "      <th>50%</th>\n",
       "      <td>1447.500000</td>\n",
       "      <td>1493.500000</td>\n",
       "    </tr>\n",
       "    <tr>\n",
       "      <th>75%</th>\n",
       "      <td>2171.250000</td>\n",
       "      <td>2220.250000</td>\n",
       "    </tr>\n",
       "    <tr>\n",
       "      <th>max</th>\n",
       "      <td>2895.000000</td>\n",
       "      <td>2950.000000</td>\n",
       "    </tr>\n",
       "  </tbody>\n",
       "</table>\n",
       "</div>"
      ],
      "text/plain": [
       "        Unnamed: 0           id\n",
       "count  2896.000000  2896.000000\n",
       "mean   1447.500000  1489.715470\n",
       "std     836.147515   844.767557\n",
       "min       0.000000    20.000000\n",
       "25%     723.750000   759.750000\n",
       "50%    1447.500000  1493.500000\n",
       "75%    2171.250000  2220.250000\n",
       "max    2895.000000  2950.000000"
      ]
     },
     "execution_count": 4,
     "metadata": {},
     "output_type": "execute_result"
    }
   ],
   "source": [
    "data.describe()"
   ]
  },
  {
   "cell_type": "code",
   "execution_count": 5,
   "metadata": {
    "ExecuteTime": {
     "end_time": "2019-08-01T21:04:54.315179Z",
     "start_time": "2019-08-01T21:04:54.292289Z"
    }
   },
   "outputs": [
    {
     "name": "stdout",
     "output_type": "stream",
     "text": [
      "<class 'pandas.core.frame.DataFrame'>\n",
      "RangeIndex: 2896 entries, 0 to 2895\n",
      "Data columns (total 10 columns):\n",
      "Unnamed: 0         2896 non-null int64\n",
      "id                 2896 non-null int64\n",
      "receita            2896 non-null object\n",
      "tipo               2896 non-null object\n",
      "caracteristicas    2896 non-null object\n",
      "descricao          2896 non-null object\n",
      "ingredientes       2896 non-null object\n",
      "instrucoes         2896 non-null object\n",
      "veggie             2896 non-null object\n",
      "keyword            2896 non-null object\n",
      "dtypes: int64(2), object(8)\n",
      "memory usage: 226.3+ KB\n"
     ]
    }
   ],
   "source": [
    "data.info()"
   ]
  },
  {
   "cell_type": "code",
   "execution_count": 7,
   "metadata": {
    "ExecuteTime": {
     "end_time": "2019-08-01T21:05:23.685805Z",
     "start_time": "2019-08-01T21:05:22.289758Z"
    }
   },
   "outputs": [],
   "source": [
    "def remove_char(char_to_remove):\n",
    "    return data.replace(char_to_remove,'', regex=True, inplace= True)\n",
    "def remove_comma(char1):\n",
    "    return data['caracteristicas'].replace(char1,',', regex=True, inplace= True)\n",
    "def remove_brackets(char1):\n",
    "    return data['caracteristicas'].replace(char1,'[', regex=True, inplace= True)\n",
    "\n",
    "remove_char(r'\\\\n|<b>|</b>|<br/>|<span itemprop=\"recipeYield\">|</span>|\\' \\'|<meta content=\"PT30M\" itemprop=\"prepTime\"/>|, , |')\n",
    "remove_char(r\" , , | , '', | '|'', \")\n",
    "remove_char(r\"'|Grau de dificuldade:|Tempo de preparo:|Rendimento:|, ,\")\n",
    "remove_char(r\"\"\"<meta content=\"PT1H\" itemprop=\"prepTime\"/>\"\"\")\n",
    "remove_char(r\"\"\"<span itemprop=\"nutrition\" itemscope=\"\" itemtype=\"http://schema.org/NutritionInformation\">Valor nutricional: <span itemprop=\"calories\">\"\"\")\n",
    "(remove_comma(r\", , |,,|, \"))\n",
    "(remove_brackets(r\"\\[,\"))"
   ]
  },
  {
   "cell_type": "code",
   "execution_count": 9,
   "metadata": {
    "ExecuteTime": {
     "end_time": "2019-08-01T21:05:35.999379Z",
     "start_time": "2019-08-01T21:05:35.981541Z"
    }
   },
   "outputs": [
    {
     "data": {
      "text/plain": [
       "1599    [<p>http://media.folha.com.br/comida/2008/05/07/noticiar...\n",
       "2187    [<p>http://storage.mais.uol.com.br/embed_v2.swf?mediaId=...\n",
       "2427    [<p>http://media.folha.uol.com.br/ilustrada/2008/02/19/n...\n",
       "2467    [<p>http://storage.mais.uol.com.br/embed_v2.swf?mediaId=...\n",
       "Name: caracteristicas, dtype: object"
      ]
     },
     "execution_count": 9,
     "metadata": {},
     "output_type": "execute_result"
    }
   ],
   "source": [
    "remove_http = data['caracteristicas'].str.contains(\"\"\"http\"\"\")\n",
    "data.loc[remove_http,'caracteristicas']"
   ]
  },
  {
   "cell_type": "code",
   "execution_count": 10,
   "metadata": {
    "ExecuteTime": {
     "end_time": "2019-08-01T21:05:43.959290Z",
     "start_time": "2019-08-01T21:05:43.912046Z"
    }
   },
   "outputs": [],
   "source": [
    "iloc_1599 = data['caracteristicas'].iloc[1599]\n",
    "iloc_2187 = data['caracteristicas'].iloc[2187]\n",
    "iloc_2427 = data['caracteristicas'].iloc[2427]\n",
    "iloc_2467 = data['caracteristicas'].iloc[2467]\n",
    "\n",
    "data.loc[iloc_1599,'caracteristicas'] = '[Fácil,Mais de uma hora,2 pães]'\n",
    "data.loc[iloc_2187,'caracteristicas'] = '[Fácil,Até meia hora]'\n",
    "data.loc[iloc_2427,'caracteristicas'] = '[Fácil,Até meia hora]'\n",
    "data.loc[iloc_2467,'caracteristicas'] = '[Fácil,Até meia hora]'"
   ]
  },
  {
   "cell_type": "code",
   "execution_count": 11,
   "metadata": {
    "ExecuteTime": {
     "end_time": "2019-08-01T21:05:47.422905Z",
     "start_time": "2019-08-01T21:05:47.412809Z"
    }
   },
   "outputs": [
    {
     "data": {
      "text/plain": [
       "'[<p>http://media.folha.com.br/comida/2008/05/07/noticiario-preparo_pao_challah.wmv</p>,FácilMais de uma hora2 pães]'"
      ]
     },
     "execution_count": 11,
     "metadata": {},
     "output_type": "execute_result"
    }
   ],
   "source": [
    "data['caracteristicas'].iloc[1599]"
   ]
  },
  {
   "cell_type": "code",
   "execution_count": null,
   "metadata": {},
   "outputs": [],
   "source": []
  }
 ],
 "metadata": {
  "kernelspec": {
   "display_name": "Python 3",
   "language": "python",
   "name": "python3"
  },
  "language_info": {
   "codemirror_mode": {
    "name": "ipython",
    "version": 3
   },
   "file_extension": ".py",
   "mimetype": "text/x-python",
   "name": "python",
   "nbconvert_exporter": "python",
   "pygments_lexer": "ipython3",
   "version": "3.6.4"
  },
  "toc": {
   "base_numbering": 1,
   "nav_menu": {},
   "number_sections": true,
   "sideBar": true,
   "skip_h1_title": false,
   "title_cell": "Table of Contents",
   "title_sidebar": "Contents",
   "toc_cell": false,
   "toc_position": {},
   "toc_section_display": true,
   "toc_window_display": false
  },
  "varInspector": {
   "cols": {
    "lenName": 16,
    "lenType": 16,
    "lenVar": 40
   },
   "kernels_config": {
    "python": {
     "delete_cmd_postfix": "",
     "delete_cmd_prefix": "del ",
     "library": "var_list.py",
     "varRefreshCmd": "print(var_dic_list())"
    },
    "r": {
     "delete_cmd_postfix": ") ",
     "delete_cmd_prefix": "rm(",
     "library": "var_list.r",
     "varRefreshCmd": "cat(var_dic_list()) "
    }
   },
   "types_to_exclude": [
    "module",
    "function",
    "builtin_function_or_method",
    "instance",
    "_Feature"
   ],
   "window_display": false
  }
 },
 "nbformat": 4,
 "nbformat_minor": 2
}
