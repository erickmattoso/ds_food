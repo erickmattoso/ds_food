{
 "cells": [
  {
   "cell_type": "markdown",
   "metadata": {},
   "source": [
    "# Learn To Identify Ingredients With Neural Networks\n",
    "[Source](https://www.depends-on-the-definition.com/identify-ingredients-with-neural-networks/)\n"
   ]
  },
  {
   "cell_type": "code",
   "execution_count": 5,
   "metadata": {
    "ExecuteTime": {
     "end_time": "2019-07-28T23:36:28.301700Z",
     "start_time": "2019-07-28T23:36:26.714968Z"
    }
   },
   "outputs": [],
   "source": [
    "import numpy as np\n",
    "import pandas as pd\n",
    "import spacy\n",
    "import matplotlib.pyplot as plt\n",
    "%matplotlib inline"
   ]
  },
  {
   "cell_type": "code",
   "execution_count": 17,
   "metadata": {
    "ExecuteTime": {
     "end_time": "2019-07-29T00:52:30.983987Z",
     "start_time": "2019-07-29T00:52:30.837010Z"
    }
   },
   "outputs": [],
   "source": [
    "datas = (\"../input/afrodite.json\")\n",
    "from pprint import pprint\n",
    "\n",
    "with open(datas) as f:\n",
    "    data = json.load(f)"
   ]
  },
  {
   "cell_type": "code",
   "execution_count": 20,
   "metadata": {
    "ExecuteTime": {
     "end_time": "2019-07-29T00:52:45.230909Z",
     "start_time": "2019-07-29T00:52:45.205573Z"
    }
   },
   "outputs": [],
   "source": [
    "dataframe = pd.DataFrame(data).head()"
   ]
  },
  {
   "cell_type": "code",
   "execution_count": 39,
   "metadata": {
    "ExecuteTime": {
     "end_time": "2019-07-29T01:02:31.557082Z",
     "start_time": "2019-07-29T01:02:31.544329Z"
    }
   },
   "outputs": [
    {
     "name": "stdout",
     "output_type": "stream",
     "text": [
      "<class 'list'>\n",
      "3\n"
     ]
    },
    {
     "data": {
      "text/plain": [
       "[{'conteudo': ['50 g farinha de milho fina',\n",
       "   '10 g de cacau em pó',\n",
       "   '250 g de chocolate meio amargo',\n",
       "   '200 g de manteiga sem sal cortada em cubos',\n",
       "   '20 ml de suco de gengibre',\n",
       "   '5 ovos',\n",
       "   '200 g de açúcar',\n",
       "   '1 colher (chá) de fermento em pó',\n",
       "   '100 g de nozes picadas grosseiramente',\n",
       "   '\\xa0'],\n",
       "  'nome': ' Ingredientes'},\n",
       " {'conteudo': ['1 - Coloque numa tigela a farinha de milho fina e o cacau em pó.',\n",
       "   '2 - Misture e reserve.',\n",
       "   '3 - Numa panela, em banho-maria, derreta o chocolate meio amargo picado com a manteiga sem sal cortada em cubos.',\n",
       "   '4 - Retire do fogo.',\n",
       "   '5 - Adicione o suco de gengibre e misture.',\n",
       "   '6 - Acrescente a mistura de farinha com cacau em pó (reservada acima). Misture bem e reserve.',\n",
       "   '7 - Numa batedeira, coloque os ovos e o açúcar. Bata bem até dobrar de volume.',\n",
       "   '8 - Com a batedeira ainda ligada, adicione o fermento em pó e bata até misturar.',\n",
       "   '9 - Desligue a batedeira. Acrescente a mistura de chocolate (reservada acima) e as nozes picadas. Misture.',\n",
       "   '10 - Transfira a massa para uma assadeira retangular (18 cm X 30 cm) untada e forrada com papel manteiga.',\n",
       "   '11 - Leve para assar em forno médio pré-aquecido a 180°C por +/- 40 minutos.',\n",
       "   '12 - Retire do forno.',\n",
       "   '13 - Cubra o brownie com papel manteiga.',\n",
       "   '14 - Coloque outra assadeira do mesmo tamanho pressionando levemente o brownie para que fique mais compacto e úmido',\n",
       "   '15 - Deixe por +/- 4 horas na geladeira.',\n",
       "   '16 - Retire a assadeira de cima do brownie, desenforme, corte em quadrados e sirva em seguida.',\n",
       "   '\\xa0'],\n",
       "  'nome': ' Modo de Preparo'},\n",
       " {'conteudo': ['Rendimento: 20 porções\\xa0'], 'nome': ' Outras informações'}]"
      ]
     },
     "execution_count": 39,
     "metadata": {},
     "output_type": "execute_result"
    }
   ],
   "source": [
    "print(type(dataframe['secao'][0]))\n",
    "print(len(dataframe['secao'][0]))\n",
    "(dataframe['secao'][0])"
   ]
  },
  {
   "cell_type": "code",
   "execution_count": 38,
   "metadata": {
    "ExecuteTime": {
     "end_time": "2019-07-29T01:01:27.893654Z",
     "start_time": "2019-07-29T01:01:27.886451Z"
    }
   },
   "outputs": [
    {
     "data": {
      "text/plain": [
       "{'conteudo': ['50 g farinha de milho fina',\n",
       "  '10 g de cacau em pó',\n",
       "  '250 g de chocolate meio amargo',\n",
       "  '200 g de manteiga sem sal cortada em cubos',\n",
       "  '20 ml de suco de gengibre',\n",
       "  '5 ovos',\n",
       "  '200 g de açúcar',\n",
       "  '1 colher (chá) de fermento em pó',\n",
       "  '100 g de nozes picadas grosseiramente',\n",
       "  '\\xa0'],\n",
       " 'nome': ' Ingredientes'}"
      ]
     },
     "execution_count": 38,
     "metadata": {},
     "output_type": "execute_result"
    }
   ],
   "source": [
    "dataframe['secao'][0][0]"
   ]
  },
  {
   "cell_type": "code",
   "execution_count": 86,
   "metadata": {
    "ExecuteTime": {
     "end_time": "2019-07-29T01:38:55.028784Z",
     "start_time": "2019-07-29T01:38:55.023891Z"
    }
   },
   "outputs": [],
   "source": [
    "teste = (dataframe['secao'][0])"
   ]
  },
  {
   "cell_type": "code",
   "execution_count": 88,
   "metadata": {
    "ExecuteTime": {
     "end_time": "2019-07-29T01:39:51.016429Z",
     "start_time": "2019-07-29T01:39:51.007971Z"
    }
   },
   "outputs": [
    {
     "data": {
      "text/plain": [
       "[{'conteudo': ['50 g farinha de milho fina',\n",
       "   '10 g de cacau em pó',\n",
       "   '250 g de chocolate meio amargo',\n",
       "   '200 g de manteiga sem sal cortada em cubos',\n",
       "   '20 ml de suco de gengibre',\n",
       "   '5 ovos',\n",
       "   '200 g de açúcar',\n",
       "   '1 colher (chá) de fermento em pó',\n",
       "   '100 g de nozes picadas grosseiramente',\n",
       "   '\\xa0'],\n",
       "  'nome': ' Ingredientes'},\n",
       " {'conteudo': ['1 - Coloque numa tigela a farinha de milho fina e o cacau em pó.',\n",
       "   '2 - Misture e reserve.',\n",
       "   '3 - Numa panela, em banho-maria, derreta o chocolate meio amargo picado com a manteiga sem sal cortada em cubos.',\n",
       "   '4 - Retire do fogo.',\n",
       "   '5 - Adicione o suco de gengibre e misture.',\n",
       "   '6 - Acrescente a mistura de farinha com cacau em pó (reservada acima). Misture bem e reserve.',\n",
       "   '7 - Numa batedeira, coloque os ovos e o açúcar. Bata bem até dobrar de volume.',\n",
       "   '8 - Com a batedeira ainda ligada, adicione o fermento em pó e bata até misturar.',\n",
       "   '9 - Desligue a batedeira. Acrescente a mistura de chocolate (reservada acima) e as nozes picadas. Misture.',\n",
       "   '10 - Transfira a massa para uma assadeira retangular (18 cm X 30 cm) untada e forrada com papel manteiga.',\n",
       "   '11 - Leve para assar em forno médio pré-aquecido a 180°C por +/- 40 minutos.',\n",
       "   '12 - Retire do forno.',\n",
       "   '13 - Cubra o brownie com papel manteiga.',\n",
       "   '14 - Coloque outra assadeira do mesmo tamanho pressionando levemente o brownie para que fique mais compacto e úmido',\n",
       "   '15 - Deixe por +/- 4 horas na geladeira.',\n",
       "   '16 - Retire a assadeira de cima do brownie, desenforme, corte em quadrados e sirva em seguida.',\n",
       "   '\\xa0'],\n",
       "  'nome': ' Modo de Preparo'},\n",
       " {'conteudo': ['Rendimento: 20 porções\\xa0'], 'nome': ' Outras informações'}]"
      ]
     },
     "execution_count": 88,
     "metadata": {},
     "output_type": "execute_result"
    }
   ],
   "source": [
    "teste"
   ]
  },
  {
   "cell_type": "code",
   "execution_count": 94,
   "metadata": {
    "ExecuteTime": {
     "end_time": "2019-07-29T01:44:07.940107Z",
     "start_time": "2019-07-29T01:44:07.932777Z"
    }
   },
   "outputs": [
    {
     "name": "stdout",
     "output_type": "stream",
     "text": [
      "{'nome': ' Ingredientes', 'conteudo': ['50 g farinha de milho fina', '10 g de cacau em pó', '250 g de chocolate meio amargo', '200 g de manteiga sem sal cortada em cubos', '20 ml de suco de gengibre', '5 ovos', '200 g de açúcar', '1 colher (chá) de fermento em pó', '100 g de nozes picadas grosseiramente', '\\xa0']}\n",
      "{'nome': ' Modo de Preparo', 'conteudo': ['1 - Coloque numa tigela a farinha de milho fina e o cacau em pó.', '2 - Misture e reserve.', '3 - Numa panela, em banho-maria, derreta o chocolate meio amargo picado com a manteiga sem sal cortada em cubos.', '4 - Retire do fogo.', '5 - Adicione o suco de gengibre e misture.', '6 - Acrescente a mistura de farinha com cacau em pó (reservada acima). Misture bem e reserve.', '7 - Numa batedeira, coloque os ovos e o açúcar. Bata bem até dobrar de volume.', '8 - Com a batedeira ainda ligada, adicione o fermento em pó e bata até misturar.', '9 - Desligue a batedeira. Acrescente a mistura de chocolate (reservada acima) e as nozes picadas. Misture.', '10 - Transfira a massa para uma assadeira retangular (18 cm X 30 cm) untada e forrada com papel manteiga.', '11 - Leve para assar em forno médio pré-aquecido a 180°C por +/- 40 minutos.', '12 - Retire do forno.', '13 - Cubra o brownie com papel manteiga.', '14 - Coloque outra assadeira do mesmo tamanho pressionando levemente o brownie para que fique mais compacto e úmido', '15 - Deixe por +/- 4 horas na geladeira.', '16 - Retire a assadeira de cima do brownie, desenforme, corte em quadrados e sirva em seguida.', '\\xa0']}\n",
      "{'nome': ' Outras informações', 'conteudo': ['Rendimento: 20 porções\\xa0']}\n"
     ]
    }
   ],
   "source": [
    "for item in teste:\n",
    "    print(item)"
   ]
  },
  {
   "cell_type": "code",
   "execution_count": null,
   "metadata": {},
   "outputs": [],
   "source": []
  },
  {
   "cell_type": "code",
   "execution_count": null,
   "metadata": {},
   "outputs": [],
   "source": []
  },
  {
   "cell_type": "code",
   "execution_count": null,
   "metadata": {},
   "outputs": [],
   "source": []
  },
  {
   "cell_type": "code",
   "execution_count": null,
   "metadata": {},
   "outputs": [],
   "source": []
  },
  {
   "cell_type": "code",
   "execution_count": null,
   "metadata": {},
   "outputs": [],
   "source": []
  },
  {
   "cell_type": "code",
   "execution_count": 26,
   "metadata": {
    "ExecuteTime": {
     "end_time": "2019-07-29T00:55:49.826638Z",
     "start_time": "2019-07-29T00:55:49.802252Z"
    }
   },
   "outputs": [
    {
     "data": {
      "text/html": [
       "<div>\n",
       "<style scoped>\n",
       "    .dataframe tbody tr th:only-of-type {\n",
       "        vertical-align: middle;\n",
       "    }\n",
       "\n",
       "    .dataframe tbody tr th {\n",
       "        vertical-align: top;\n",
       "    }\n",
       "\n",
       "    .dataframe thead th {\n",
       "        text-align: right;\n",
       "    }\n",
       "</style>\n",
       "<table border=\"1\" class=\"dataframe\">\n",
       "  <thead>\n",
       "    <tr style=\"text-align: right;\">\n",
       "      <th></th>\n",
       "      <th>_id</th>\n",
       "      <th>nome</th>\n",
       "      <th>secao</th>\n",
       "    </tr>\n",
       "  </thead>\n",
       "  <tbody>\n",
       "    <tr>\n",
       "      <th>0</th>\n",
       "      <td>{'$oid': '5744eff20ca7832b5c745a48'}</td>\n",
       "      <td>Brownie de Chocolate com Gengibre</td>\n",
       "      <td>[{'nome': ' Ingredientes', 'conteudo': ['50 g ...</td>\n",
       "    </tr>\n",
       "    <tr>\n",
       "      <th>1</th>\n",
       "      <td>{'$oid': '5744eff20ca7832b5c745a49'}</td>\n",
       "      <td>Hamburquibe</td>\n",
       "      <td>[{'nome': ' Ingredientes', 'conteudo': ['RECHE...</td>\n",
       "    </tr>\n",
       "    <tr>\n",
       "      <th>2</th>\n",
       "      <td>{'$oid': '5744eff20ca7832b5c745a4a'}</td>\n",
       "      <td>Peixe Delícia de Olinda da Eliane</td>\n",
       "      <td>[{'nome': ' Ingredientes', 'conteudo': ['4 fil...</td>\n",
       "    </tr>\n",
       "    <tr>\n",
       "      <th>3</th>\n",
       "      <td>{'$oid': '5744eff20ca7832b5c745a4b'}</td>\n",
       "      <td>Bombom de cerejas do Flavio Federico</td>\n",
       "      <td>[{'nome': ' Ingredientes', 'conteudo': ['100g ...</td>\n",
       "    </tr>\n",
       "    <tr>\n",
       "      <th>4</th>\n",
       "      <td>{'$oid': '5744eff20ca7832b5c745a4c'}</td>\n",
       "      <td>Paleta Assada</td>\n",
       "      <td>[{'nome': ' Ingredientes', 'conteudo': ['1 lit...</td>\n",
       "    </tr>\n",
       "  </tbody>\n",
       "</table>\n",
       "</div>"
      ],
      "text/plain": [
       "                                    _id                                  nome  \\\n",
       "0  {'$oid': '5744eff20ca7832b5c745a48'}     Brownie de Chocolate com Gengibre   \n",
       "1  {'$oid': '5744eff20ca7832b5c745a49'}                           Hamburquibe   \n",
       "2  {'$oid': '5744eff20ca7832b5c745a4a'}     Peixe Delícia de Olinda da Eliane   \n",
       "3  {'$oid': '5744eff20ca7832b5c745a4b'}  Bombom de cerejas do Flavio Federico   \n",
       "4  {'$oid': '5744eff20ca7832b5c745a4c'}                         Paleta Assada   \n",
       "\n",
       "                                               secao  \n",
       "0  [{'nome': ' Ingredientes', 'conteudo': ['50 g ...  \n",
       "1  [{'nome': ' Ingredientes', 'conteudo': ['RECHE...  \n",
       "2  [{'nome': ' Ingredientes', 'conteudo': ['4 fil...  \n",
       "3  [{'nome': ' Ingredientes', 'conteudo': ['100g ...  \n",
       "4  [{'nome': ' Ingredientes', 'conteudo': ['1 lit...  "
      ]
     },
     "execution_count": 26,
     "metadata": {},
     "output_type": "execute_result"
    }
   ],
   "source": [
    "dataframe.head()"
   ]
  },
  {
   "cell_type": "code",
   "execution_count": null,
   "metadata": {},
   "outputs": [],
   "source": []
  },
  {
   "cell_type": "code",
   "execution_count": null,
   "metadata": {},
   "outputs": [],
   "source": []
  },
  {
   "cell_type": "code",
   "execution_count": null,
   "metadata": {},
   "outputs": [],
   "source": []
  },
  {
   "cell_type": "code",
   "execution_count": null,
   "metadata": {},
   "outputs": [],
   "source": []
  },
  {
   "cell_type": "code",
   "execution_count": 61,
   "metadata": {
    "ExecuteTime": {
     "end_time": "2019-07-28T23:31:28.536434Z",
     "start_time": "2019-07-28T23:31:28.526960Z"
    }
   },
   "outputs": [
    {
     "data": {
      "text/plain": [
       "(8183, 3)"
      ]
     },
     "execution_count": 61,
     "metadata": {},
     "output_type": "execute_result"
    }
   ],
   "source": [
    "df.shape"
   ]
  },
  {
   "cell_type": "code",
   "execution_count": 62,
   "metadata": {
    "ExecuteTime": {
     "end_time": "2019-07-28T23:32:00.320253Z",
     "start_time": "2019-07-28T23:32:00.299185Z"
    }
   },
   "outputs": [
    {
     "name": "stdout",
     "output_type": "stream",
     "text": [
      "<class 'pandas.core.frame.DataFrame'>\n",
      "RangeIndex: 8183 entries, 0 to 8182\n",
      "Data columns (total 3 columns):\n",
      "_id      8183 non-null object\n",
      "nome     8183 non-null object\n",
      "secao    8183 non-null object\n",
      "dtypes: object(3)\n",
      "memory usage: 191.9+ KB\n"
     ]
    }
   ],
   "source": [
    "df.info()"
   ]
  },
  {
   "cell_type": "code",
   "execution_count": 63,
   "metadata": {
    "ExecuteTime": {
     "end_time": "2019-07-28T23:32:32.017593Z",
     "start_time": "2019-07-28T23:32:31.991703Z"
    }
   },
   "outputs": [
    {
     "data": {
      "text/html": [
       "<div>\n",
       "<style scoped>\n",
       "    .dataframe tbody tr th:only-of-type {\n",
       "        vertical-align: middle;\n",
       "    }\n",
       "\n",
       "    .dataframe tbody tr th {\n",
       "        vertical-align: top;\n",
       "    }\n",
       "\n",
       "    .dataframe thead th {\n",
       "        text-align: right;\n",
       "    }\n",
       "</style>\n",
       "<table border=\"1\" class=\"dataframe\">\n",
       "  <thead>\n",
       "    <tr style=\"text-align: right;\">\n",
       "      <th></th>\n",
       "      <th>_id</th>\n",
       "      <th>nome</th>\n",
       "      <th>secao</th>\n",
       "    </tr>\n",
       "  </thead>\n",
       "  <tbody>\n",
       "    <tr>\n",
       "      <th>0</th>\n",
       "      <td>{'$oid': '5744eff20ca7832b5c745a48'}</td>\n",
       "      <td>Brownie de Chocolate com Gengibre</td>\n",
       "      <td>[{'nome': ' Ingredientes', 'conteudo': ['50 g ...</td>\n",
       "    </tr>\n",
       "    <tr>\n",
       "      <th>1</th>\n",
       "      <td>{'$oid': '5744eff20ca7832b5c745a49'}</td>\n",
       "      <td>Hamburquibe</td>\n",
       "      <td>[{'nome': ' Ingredientes', 'conteudo': ['RECHE...</td>\n",
       "    </tr>\n",
       "    <tr>\n",
       "      <th>2</th>\n",
       "      <td>{'$oid': '5744eff20ca7832b5c745a4a'}</td>\n",
       "      <td>Peixe Delícia de Olinda da Eliane</td>\n",
       "      <td>[{'nome': ' Ingredientes', 'conteudo': ['4 fil...</td>\n",
       "    </tr>\n",
       "    <tr>\n",
       "      <th>3</th>\n",
       "      <td>{'$oid': '5744eff20ca7832b5c745a4b'}</td>\n",
       "      <td>Bombom de cerejas do Flavio Federico</td>\n",
       "      <td>[{'nome': ' Ingredientes', 'conteudo': ['100g ...</td>\n",
       "    </tr>\n",
       "    <tr>\n",
       "      <th>4</th>\n",
       "      <td>{'$oid': '5744eff20ca7832b5c745a4c'}</td>\n",
       "      <td>Paleta Assada</td>\n",
       "      <td>[{'nome': ' Ingredientes', 'conteudo': ['1 lit...</td>\n",
       "    </tr>\n",
       "  </tbody>\n",
       "</table>\n",
       "</div>"
      ],
      "text/plain": [
       "                                    _id                                  nome  \\\n",
       "0  {'$oid': '5744eff20ca7832b5c745a48'}     Brownie de Chocolate com Gengibre   \n",
       "1  {'$oid': '5744eff20ca7832b5c745a49'}                           Hamburquibe   \n",
       "2  {'$oid': '5744eff20ca7832b5c745a4a'}     Peixe Delícia de Olinda da Eliane   \n",
       "3  {'$oid': '5744eff20ca7832b5c745a4b'}  Bombom de cerejas do Flavio Federico   \n",
       "4  {'$oid': '5744eff20ca7832b5c745a4c'}                         Paleta Assada   \n",
       "\n",
       "                                               secao  \n",
       "0  [{'nome': ' Ingredientes', 'conteudo': ['50 g ...  \n",
       "1  [{'nome': ' Ingredientes', 'conteudo': ['RECHE...  \n",
       "2  [{'nome': ' Ingredientes', 'conteudo': ['4 fil...  \n",
       "3  [{'nome': ' Ingredientes', 'conteudo': ['100g ...  \n",
       "4  [{'nome': ' Ingredientes', 'conteudo': ['1 lit...  "
      ]
     },
     "execution_count": 63,
     "metadata": {},
     "output_type": "execute_result"
    }
   ],
   "source": [
    "df.head()"
   ]
  },
  {
   "cell_type": "code",
   "execution_count": 6,
   "metadata": {
    "ExecuteTime": {
     "end_time": "2019-07-28T22:04:34.160674Z",
     "start_time": "2019-07-28T22:04:34.147943Z"
    },
    "scrolled": false
   },
   "outputs": [
    {
     "data": {
      "text/plain": [
       "\"['Para o peixe', '4 lombos de abadejo de aproximadamente 150 g', '2 colheres (sopa) de azeite', '2 colheres (chá) de pimenta calabresa seca', 'sal e pimenta-do-reino a gosto', 'Para a crosta', '1 e 1/2 xícara de farinha de trigo', '2 claras de ovos ligeiramente batidas', '100 g de coco ralado seco', '100 g de coco em flocos seco', 'Para o molho', '1/2 xícara de folhas de manjericão picado', '1e 1/2 xícara de cebola ralada', '2 dentes de alho picado', '3 colheres (sopa) de azeite de dendê', '1 lata de tomate pelado em cubos', '1 e 1/2 colher (sopa) de farinha de trigo dissolvida em 100 ml de água fria', '200 ml de leite de coco', 'sal e pimenta-do-reino\\\\xa0 a gosto', 'Para o purê', '500 g de inhame', '2 colheres (sopa) de manteiga', '100 ml de creme de leite fresco', '1 colher de cheiro-verde', 'sal e pimenta-do-reino', 'noz moscada ralada a gosto']\""
      ]
     },
     "execution_count": 6,
     "metadata": {},
     "output_type": "execute_result"
    }
   ],
   "source": [
    "df['ingredientes'][2]"
   ]
  },
  {
   "cell_type": "code",
   "execution_count": 7,
   "metadata": {
    "ExecuteTime": {
     "end_time": "2019-07-28T22:04:34.184623Z",
     "start_time": "2019-07-28T22:04:34.169055Z"
    }
   },
   "outputs": [
    {
     "data": {
      "text/plain": [
       "(9819, 4)"
      ]
     },
     "execution_count": 7,
     "metadata": {},
     "output_type": "execute_result"
    }
   ],
   "source": [
    "eval_df = df[11000:]\n",
    "eval_df.shape"
   ]
  },
  {
   "cell_type": "code",
   "execution_count": 8,
   "metadata": {
    "ExecuteTime": {
     "end_time": "2019-07-28T22:04:34.202357Z",
     "start_time": "2019-07-28T22:04:34.188789Z"
    }
   },
   "outputs": [
    {
     "data": {
      "text/plain": [
       "(11000, 4)"
      ]
     },
     "execution_count": 8,
     "metadata": {},
     "output_type": "execute_result"
    }
   ],
   "source": [
    "df = df[:11000]\n",
    "df.shape"
   ]
  },
  {
   "cell_type": "code",
   "execution_count": 9,
   "metadata": {
    "ExecuteTime": {
     "end_time": "2019-07-28T22:04:35.797604Z",
     "start_time": "2019-07-28T22:04:34.206054Z"
    }
   },
   "outputs": [],
   "source": [
    "# import spacy\n",
    "# nlp = spacy.load('de_core_news_sm', disable=['parser', 'tagger', 'ner'])\n",
    "# nlp = spacy.load('pt')\n",
    "\n",
    "nlp = spacy.load('pt_core_news_sm', disable=['parser', 'tagger', 'ner'])"
   ]
  },
  {
   "cell_type": "code",
   "execution_count": 10,
   "metadata": {
    "ExecuteTime": {
     "end_time": "2019-07-28T22:04:51.841485Z",
     "start_time": "2019-07-28T22:04:35.800318Z"
    }
   },
   "outputs": [],
   "source": [
    "tokenized = [nlp(t) for t in df['ingredientes'].values]"
   ]
  },
  {
   "cell_type": "code",
   "execution_count": 11,
   "metadata": {
    "ExecuteTime": {
     "end_time": "2019-07-28T22:04:52.671008Z",
     "start_time": "2019-07-28T22:04:51.844357Z"
    }
   },
   "outputs": [
    {
     "name": "stdout",
     "output_type": "stream",
     "text": [
      "Number of unique tokens: 4553\n"
     ]
    }
   ],
   "source": [
    "vocab = {\"<UNK>\": 1, \"<PAD>\": 0}\n",
    "for txt in tokenized:\n",
    "    for token in txt:\n",
    "        if token.text not in vocab.keys():\n",
    "            vocab[token.text] = len(vocab)\n",
    "print(\"Number of unique tokens: {}\".format(len(vocab)))"
   ]
  },
  {
   "cell_type": "code",
   "execution_count": 12,
   "metadata": {
    "ExecuteTime": {
     "end_time": "2019-07-28T22:04:52.689585Z",
     "start_time": "2019-07-28T22:04:52.674527Z"
    }
   },
   "outputs": [
    {
     "data": {
      "text/plain": [
       "\"['1 lata de ', 'leite condensado', '60 ml de suco de limão', '2 caixas de ', 'creme de leite', 'biscoitos champanhe (quantidade vai depender do tamanho de seu recipiente)', 'leite', 'raspas de limão', 'raspas de chocolate']\""
      ]
     },
     "execution_count": 12,
     "metadata": {},
     "output_type": "execute_result"
    }
   ],
   "source": [
    "ingredients = df['ingredientes']\n",
    "ingredients[0]"
   ]
  },
  {
   "cell_type": "code",
   "execution_count": 13,
   "metadata": {
    "ExecuteTime": {
     "end_time": "2019-07-28T22:04:52.715731Z",
     "start_time": "2019-07-28T22:04:52.692900Z"
    }
   },
   "outputs": [],
   "source": [
    "def _filter(token):\n",
    "    if len(token) < 2:\n",
    "        return False\n",
    "    if token.is_stop:\n",
    "        return False\n",
    "    if token.text[0].islower():\n",
    "        return False\n",
    "    if token.is_digit:\n",
    "        return False\n",
    "    if token.like_num:\n",
    "        return False\n",
    "    return True"
   ]
  },
  {
   "cell_type": "code",
   "execution_count": 14,
   "metadata": {
    "ExecuteTime": {
     "end_time": "2019-07-28T22:04:52.732320Z",
     "start_time": "2019-07-28T22:04:52.723316Z"
    }
   },
   "outputs": [],
   "source": [
    "def _clean(text):\n",
    "    text = text.replace(\"(\", \"\")\n",
    "    text = text.split(\"/\")[0]\n",
    "    return text"
   ]
  },
  {
   "cell_type": "code",
   "execution_count": 15,
   "metadata": {
    "ExecuteTime": {
     "end_time": "2019-07-28T22:04:52.759222Z",
     "start_time": "2019-07-28T22:04:52.737621Z"
    }
   },
   "outputs": [
    {
     "data": {
      "text/plain": [
       "[]"
      ]
     },
     "execution_count": 15,
     "metadata": {},
     "output_type": "execute_result"
    }
   ],
   "source": [
    "clean = [_clean(t.text) for i in ingredients[0] for t in nlp(i) if _filter(t) and len(_clean(t.text)) >= 2]\n",
    "clean"
   ]
  },
  {
   "cell_type": "code",
   "execution_count": 16,
   "metadata": {
    "ExecuteTime": {
     "end_time": "2019-07-28T22:04:52.785667Z",
     "start_time": "2019-07-28T22:04:52.766115Z"
    }
   },
   "outputs": [],
   "source": [
    "def get_labels(ingredients, tokenized_instructions):\n",
    "    labels = []\n",
    "    for ing, ti in zip(ingredients, tokenized_instructions):\n",
    "        l_i = []\n",
    "        ci = [_clean(t.text) for i in ing for t in nlp(i) if _filter(t) and len(_clean(t.text)) >= 2]\n",
    "        label = []\n",
    "        for token in ti:\n",
    "            l_i.append(any((c == token.text or c == token.text[:-1] or c[:-1] == token.text) for c in ci))\n",
    "        labels.append(l_i)\n",
    "    return labels"
   ]
  },
  {
   "cell_type": "code",
   "execution_count": 17,
   "metadata": {
    "ExecuteTime": {
     "end_time": "2019-07-28T22:05:39.290884Z",
     "start_time": "2019-07-28T22:04:52.791437Z"
    }
   },
   "outputs": [],
   "source": [
    "labels = get_labels(ingredients, tokenized)"
   ]
  },
  {
   "cell_type": "code",
   "execution_count": 18,
   "metadata": {
    "ExecuteTime": {
     "end_time": "2019-07-28T22:05:39.305127Z",
     "start_time": "2019-07-28T22:05:39.293546Z"
    }
   },
   "outputs": [
    {
     "data": {
      "text/plain": [
       "set()"
      ]
     },
     "execution_count": 18,
     "metadata": {},
     "output_type": "execute_result"
    }
   ],
   "source": [
    "set([t.text for t, l in zip(tokenized[214], labels[214]) if l])"
   ]
  },
  {
   "cell_type": "code",
   "execution_count": 19,
   "metadata": {
    "ExecuteTime": {
     "end_time": "2019-07-28T22:05:39.963137Z",
     "start_time": "2019-07-28T22:05:39.310178Z"
    }
   },
   "outputs": [
    {
     "data": {
      "image/png": "[encoded data removed]",
      "text/plain": [
       "<Figure size 432x288 with 1 Axes>"
      ]
     },
     "metadata": {},
     "output_type": "display_data"
    }
   ],
   "source": [
    "import matplotlib.pyplot as plt\n",
    "%matplotlib inline\n",
    "\n",
    "plt.hist([len([t for t in tokens]) for tokens in tokenized], bins=20);"
   ]
  },
  {
   "cell_type": "code",
   "execution_count": 20,
   "metadata": {
    "ExecuteTime": {
     "end_time": "2019-07-28T22:05:39.981479Z",
     "start_time": "2019-07-28T22:05:39.971737Z"
    }
   },
   "outputs": [],
   "source": [
    "MAX_LEN = 200\n"
   ]
  },
  {
   "cell_type": "code",
   "execution_count": 21,
   "metadata": {
    "ExecuteTime": {
     "end_time": "2019-07-28T22:05:45.540467Z",
     "start_time": "2019-07-28T22:05:39.991683Z"
    }
   },
   "outputs": [
    {
     "name": "stderr",
     "output_type": "stream",
     "text": [
      "/Users/mattosoerick/anaconda3/lib/python3.6/site-packages/h5py/__init__.py:36: FutureWarning: Conversion of the second argument of issubdtype from `float` to `np.floating` is deprecated. In future, it will be treated as `np.float64 == np.dtype(float).type`.\n",
      "  from ._conv import register_converters as _register_converters\n",
      "Using TensorFlow backend.\n"
     ]
    }
   ],
   "source": [
    "from keras.preprocessing.sequence import pad_sequences\n",
    "\n",
    "def prepare_sequences(texts, max_len, vocab={\"<UNK>\": 1, \"<PAD>\": 0}):\n",
    "    X = [[vocab.get(w.text, vocab[\"<UNK>\"]) for w in s] for s in texts]\n",
    "    return pad_sequences(maxlen=max_len, sequences=X, padding=\"post\", value=vocab[\"<PAD>\"])"
   ]
  },
  {
   "cell_type": "code",
   "execution_count": 22,
   "metadata": {
    "ExecuteTime": {
     "end_time": "2019-07-28T22:05:46.674110Z",
     "start_time": "2019-07-28T22:05:45.543022Z"
    }
   },
   "outputs": [],
   "source": [
    "X_seq = prepare_sequences(tokenized, max_len=MAX_LEN, vocab=vocab)"
   ]
  },
  {
   "cell_type": "code",
   "execution_count": 23,
   "metadata": {
    "ExecuteTime": {
     "end_time": "2019-07-28T22:05:46.698383Z",
     "start_time": "2019-07-28T22:05:46.676693Z"
    }
   },
   "outputs": [
    {
     "data": {
      "text/plain": [
       "array([ 2,  3, 31, 32,  6,  3,  7,  3, 33, 34,  3,  7,  3, 35, 36,  3,  7,\n",
       "        3, 37, 38, 39,  3,  7,  3,  4,  3,  7,  3, 40,  3,  7,  3,  4, 16,\n",
       "        6,  8,  3,  7,  3,  4, 41, 42, 19, 43, 27,  3,  7,  3, 44, 45,  3,\n",
       "        7,  3, 14, 46,  6, 47, 48,  3,  7,  3, 49, 50,  6, 51, 52, 19, 53,\n",
       "       54, 55, 56, 27,  3,  7,  3, 57, 58,  6, 51, 59,  3,  7,  3, 60, 61,\n",
       "        6,  8, 62, 63,  3,  7,  3, 14, 61,  6, 64,  3,  7,  3, 65, 66, 67,\n",
       "       68,  3,  7,  3, 69, 70, 71, 72, 33,  3, 30,  0,  0,  0,  0,  0,  0,\n",
       "        0,  0,  0,  0,  0,  0,  0,  0,  0,  0,  0,  0,  0,  0,  0,  0,  0,\n",
       "        0,  0,  0,  0,  0,  0,  0,  0,  0,  0,  0,  0,  0,  0,  0,  0,  0,\n",
       "        0,  0,  0,  0,  0,  0,  0,  0,  0,  0,  0,  0,  0,  0,  0,  0,  0,\n",
       "        0,  0,  0,  0,  0,  0,  0,  0,  0,  0,  0,  0,  0,  0,  0,  0,  0,\n",
       "        0,  0,  0,  0,  0,  0,  0,  0,  0,  0,  0,  0,  0,  0,  0,  0,  0,\n",
       "        0,  0,  0,  0,  0,  0,  0,  0,  0,  0,  0,  0,  0,  0,  0,  0,  0,\n",
       "        0,  0,  0,  0,  0,  0,  0,  0,  0,  0,  0,  0,  0,  0,  0,  0,  0,\n",
       "        0,  0,  0,  0,  0,  0,  0,  0,  0,  0,  0,  0,  0,  0,  0,  0,  0,\n",
       "        0,  0,  0,  0,  0,  0,  0,  0,  0,  0,  0,  0,  0,  0,  0,  0,  0,\n",
       "        0,  0,  0,  0,  0,  0,  0,  0,  0,  0,  0,  0,  0,  0,  0,  0,  0,\n",
       "        0,  0,  0,  0,  0,  0,  0,  0,  0,  0,  0,  0,  0,  0,  0,  0,  0,\n",
       "        0,  0,  0,  0,  0,  0,  0,  0,  0,  0,  0,  0,  0,  0,  0,  0,  0,\n",
       "        0,  0,  0,  0,  0,  0,  0,  0,  0,  0,  0,  0,  0,  0,  0,  0,  0,\n",
       "        0,  0,  0,  0,  0,  0,  0,  0,  0,  0,  0,  0,  0,  0,  0,  0,  0,\n",
       "        0,  0,  0,  0,  0,  0,  0,  0,  0,  0,  0,  0,  0,  0,  0,  0,  0,\n",
       "        0,  0,  0,  0,  0,  0,  0,  0,  0,  0,  0,  0,  0,  0,  0,  0,  0,\n",
       "        0,  0,  0,  0,  0,  0,  0,  0,  0], dtype=int32)"
      ]
     },
     "execution_count": 23,
     "metadata": {},
     "output_type": "execute_result"
    }
   ],
   "source": [
    "X_seq[1]\n"
   ]
  },
  {
   "cell_type": "code",
   "execution_count": 24,
   "metadata": {
    "ExecuteTime": {
     "end_time": "2019-07-28T22:05:49.590689Z",
     "start_time": "2019-07-28T22:05:46.707451Z"
    }
   },
   "outputs": [],
   "source": [
    "y_seq = []\n",
    "for l in labels:\n",
    "    y_i = []\n",
    "    for i in range(MAX_LEN):\n",
    "        try:\n",
    "            y_i.append(float(l[i]))\n",
    "        except:\n",
    "            y_i.append(0.0)\n",
    "    y_seq.append(np.array(y_i))\n",
    "y_seq = np.array(y_seq)\n",
    "y_seq = y_seq.reshape(y_seq.shape[0], y_seq.shape[1], 1)"
   ]
  },
  {
   "cell_type": "code",
   "execution_count": 25,
   "metadata": {
    "ExecuteTime": {
     "end_time": "2019-07-28T22:05:49.615544Z",
     "start_time": "2019-07-28T22:05:49.593230Z"
    }
   },
   "outputs": [
    {
     "name": "stdout",
     "output_type": "stream",
     "text": [
      "1.14.0\n",
      "2.2.4-tf\n"
     ]
    }
   ],
   "source": [
    "import tensorflow as tf\n",
    "from tensorflow.keras import layers\n",
    "\n",
    "print(tf.VERSION)\n",
    "print(tf.keras.__version__)"
   ]
  },
  {
   "cell_type": "code",
   "execution_count": 26,
   "metadata": {
    "ExecuteTime": {
     "end_time": "2019-07-28T22:05:51.096762Z",
     "start_time": "2019-07-28T22:05:49.621148Z"
    }
   },
   "outputs": [
    {
     "name": "stderr",
     "output_type": "stream",
     "text": [
      "WARNING: Logging before flag parsing goes to stderr.\n",
      "W0728 19:05:49.681445 4642211264 deprecation.py:506] From /Users/mattosoerick/anaconda3/lib/python3.6/site-packages/tensorflow/python/keras/initializers.py:119: calling RandomUniform.__init__ (from tensorflow.python.ops.init_ops) with dtype is deprecated and will be removed in a future version.\n",
      "Instructions for updating:\n",
      "Call initializer instance with the dtype argument instead of passing it to the constructor\n",
      "W0728 19:05:49.757211 4642211264 deprecation.py:506] From /Users/mattosoerick/anaconda3/lib/python3.6/site-packages/tensorflow/python/ops/init_ops.py:1251: calling VarianceScaling.__init__ (from tensorflow.python.ops.init_ops) with dtype is deprecated and will be removed in a future version.\n",
      "Instructions for updating:\n",
      "Call initializer instance with the dtype argument instead of passing it to the constructor\n",
      "W0728 19:05:49.765471 4642211264 deprecation.py:506] From /Users/mattosoerick/anaconda3/lib/python3.6/site-packages/tensorflow/python/ops/init_ops.py:97: calling GlorotUniform.__init__ (from tensorflow.python.ops.init_ops) with dtype is deprecated and will be removed in a future version.\n",
      "Instructions for updating:\n",
      "Call initializer instance with the dtype argument instead of passing it to the constructor\n",
      "W0728 19:05:49.766947 4642211264 deprecation.py:506] From /Users/mattosoerick/anaconda3/lib/python3.6/site-packages/tensorflow/python/ops/init_ops.py:97: calling Orthogonal.__init__ (from tensorflow.python.ops.init_ops) with dtype is deprecated and will be removed in a future version.\n",
      "Instructions for updating:\n",
      "Call initializer instance with the dtype argument instead of passing it to the constructor\n",
      "W0728 19:05:49.768330 4642211264 deprecation.py:506] From /Users/mattosoerick/anaconda3/lib/python3.6/site-packages/tensorflow/python/ops/init_ops.py:97: calling Zeros.__init__ (from tensorflow.python.ops.init_ops) with dtype is deprecated and will be removed in a future version.\n",
      "Instructions for updating:\n",
      "Call initializer instance with the dtype argument instead of passing it to the constructor\n",
      "W0728 19:05:50.084734 4642211264 deprecation.py:323] From /Users/mattosoerick/anaconda3/lib/python3.6/site-packages/tensorflow/python/keras/backend.py:3794: add_dispatch_support.<locals>.wrapper (from tensorflow.python.ops.array_ops) is deprecated and will be removed in a future version.\n",
      "Instructions for updating:\n",
      "Use tf.where in 2.0, which has the same broadcast rule as np.where\n"
     ]
    }
   ],
   "source": [
    "model = tf.keras.Sequential()\n",
    "model.add(layers.Embedding(input_dim=len(vocab), mask_zero=True, output_dim=50))\n",
    "model.add(layers.SpatialDropout1D(0.2))\n",
    "model.add(layers.Bidirectional(layers.LSTM(units=64, return_sequences=True)))\n",
    "model.add(layers.SpatialDropout1D(0.2))\n",
    "model.add(layers.Bidirectional(layers.LSTM(units=64, return_sequences=True)))\n",
    "model.add(layers.TimeDistributed(layers.Dense(1, activation='sigmoid')))"
   ]
  },
  {
   "cell_type": "code",
   "execution_count": 27,
   "metadata": {
    "ExecuteTime": {
     "end_time": "2019-07-28T22:05:51.306144Z",
     "start_time": "2019-07-28T22:05:51.099377Z"
    }
   },
   "outputs": [],
   "source": [
    "model.compile(optimizer=tf.train.AdamOptimizer(0.001),\n",
    "              loss='binary_crossentropy',\n",
    "              metrics=['accuracy'])"
   ]
  },
  {
   "cell_type": "code",
   "execution_count": 28,
   "metadata": {
    "ExecuteTime": {
     "end_time": "2019-07-28T22:05:51.327015Z",
     "start_time": "2019-07-28T22:05:51.309280Z"
    }
   },
   "outputs": [
    {
     "name": "stdout",
     "output_type": "stream",
     "text": [
      "Model: \"sequential\"\n",
      "_________________________________________________________________\n",
      "Layer (type)                 Output Shape              Param #   \n",
      "=================================================================\n",
      "embedding (Embedding)        (None, None, 50)          227650    \n",
      "_________________________________________________________________\n",
      "spatial_dropout1d (SpatialDr (None, None, 50)          0         \n",
      "_________________________________________________________________\n",
      "bidirectional (Bidirectional (None, None, 128)         58880     \n",
      "_________________________________________________________________\n",
      "spatial_dropout1d_1 (Spatial (None, None, 128)         0         \n",
      "_________________________________________________________________\n",
      "bidirectional_1 (Bidirection (None, None, 128)         98816     \n",
      "_________________________________________________________________\n",
      "time_distributed (TimeDistri (None, None, 1)           129       \n",
      "=================================================================\n",
      "Total params: 385,475\n",
      "Trainable params: 385,475\n",
      "Non-trainable params: 0\n",
      "_________________________________________________________________\n"
     ]
    }
   ],
   "source": [
    "model.summary()\n"
   ]
  },
  {
   "cell_type": "code",
   "execution_count": 29,
   "metadata": {
    "ExecuteTime": {
     "end_time": "2019-07-28T22:58:49.547804Z",
     "start_time": "2019-07-28T22:05:51.330607Z"
    }
   },
   "outputs": [
    {
     "name": "stdout",
     "output_type": "stream",
     "text": [
      "Train on 9900 samples, validate on 1100 samples\n",
      "Epoch 1/10\n",
      "9900/9900 [==============================] - 444s 45ms/sample - loss: 0.0268 - acc: 0.9841 - val_loss: 1.2855e-06 - val_acc: 1.0000\n",
      "Epoch 2/10\n",
      "9900/9900 [==============================] - 368s 37ms/sample - loss: 8.2916e-07 - acc: 1.0000 - val_loss: 6.8343e-07 - val_acc: 1.0000\n",
      "Epoch 3/10\n",
      "9900/9900 [==============================] - 295s 30ms/sample - loss: 6.4772e-07 - acc: 1.0000 - val_loss: 6.1922e-07 - val_acc: 1.0000\n",
      "Epoch 4/10\n",
      "9900/9900 [==============================] - 334s 34ms/sample - loss: 5.8761e-07 - acc: 1.0000 - val_loss: 5.6313e-07 - val_acc: 1.0000\n",
      "Epoch 5/10\n",
      "9900/9900 [==============================] - 321s 32ms/sample - loss: 5.3677e-07 - acc: 1.0000 - val_loss: 5.1991e-07 - val_acc: 1.0000\n",
      "Epoch 6/10\n",
      "9900/9900 [==============================] - 282s 29ms/sample - loss: 4.9512e-07 - acc: 1.0000 - val_loss: 4.8274e-07 - val_acc: 1.0000\n",
      "Epoch 7/10\n",
      "9900/9900 [==============================] - 281s 28ms/sample - loss: 4.5946e-07 - acc: 1.0000 - val_loss: 4.4873e-07 - val_acc: 1.0000\n",
      "Epoch 8/10\n",
      "9900/9900 [==============================] - 276s 28ms/sample - loss: 4.2448e-07 - acc: 1.0000 - val_loss: 4.1851e-07 - val_acc: 1.0000\n",
      "Epoch 9/10\n",
      "9900/9900 [==============================] - 292s 29ms/sample - loss: 3.9180e-07 - acc: 1.0000 - val_loss: 3.9144e-07 - val_acc: 1.0000\n",
      "Epoch 10/10\n",
      "9900/9900 [==============================] - 281s 28ms/sample - loss: 3.6332e-07 - acc: 1.0000 - val_loss: 3.6447e-07 - val_acc: 1.0000\n"
     ]
    }
   ],
   "source": [
    "history = model.fit(X_seq, y_seq, epochs=10, batch_size=256, validation_split=0.1)"
   ]
  },
  {
   "cell_type": "code",
   "execution_count": 30,
   "metadata": {
    "ExecuteTime": {
     "end_time": "2019-07-28T22:58:50.142231Z",
     "start_time": "2019-07-28T22:58:49.581703Z"
    }
   },
   "outputs": [
    {
     "data": {
      "image/png": "[encoded data removed]",
      "text/plain": [
       "<Figure size 432x288 with 1 Axes>"
      ]
     },
     "metadata": {},
     "output_type": "display_data"
    }
   ],
   "source": [
    "plt.plot(history.history[\"loss\"], label=\"trn_loss\");\n",
    "plt.plot(history.history[\"val_loss\"], label=\"val_loss\");\n",
    "plt.legend();\n",
    "plt.title(\"Loss\");"
   ]
  },
  {
   "cell_type": "code",
   "execution_count": 31,
   "metadata": {
    "ExecuteTime": {
     "end_time": "2019-07-28T22:58:50.583002Z",
     "start_time": "2019-07-28T22:58:50.236426Z"
    }
   },
   "outputs": [
    {
     "data": {
      "image/png": "[encoded data removed]",
      "text/plain": [
       "<Figure size 432x288 with 1 Axes>"
      ]
     },
     "metadata": {},
     "output_type": "display_data"
    }
   ],
   "source": [
    "plt.plot(history.history[\"acc\"], label=\"trn_acc\");\n",
    "plt.plot(history.history[\"val_acc\"], label=\"val_acc\");\n",
    "plt.legend();\n",
    "plt.title(\"Accuracy\");"
   ]
  },
  {
   "cell_type": "code",
   "execution_count": 32,
   "metadata": {
    "ExecuteTime": {
     "end_time": "2019-07-28T22:59:55.154984Z",
     "start_time": "2019-07-28T22:58:50.587026Z"
    }
   },
   "outputs": [
    {
     "name": "stdout",
     "output_type": "stream",
     "text": [
      "11000/11000 [==============================] - 64s 6ms/sample\n"
     ]
    }
   ],
   "source": [
    "y_pred = model.predict(X_seq, verbose=1, batch_size=1024)\n"
   ]
  },
  {
   "cell_type": "code",
   "execution_count": 33,
   "metadata": {
    "ExecuteTime": {
     "end_time": "2019-07-28T22:59:55.171342Z",
     "start_time": "2019-07-28T22:59:55.158408Z"
    }
   },
   "outputs": [],
   "source": [
    "i = 3343\n",
    "pred_i = y_pred[i] > 0.05"
   ]
  },
  {
   "cell_type": "code",
   "execution_count": 34,
   "metadata": {
    "ExecuteTime": {
     "end_time": "2019-07-28T22:59:55.213547Z",
     "start_time": "2019-07-28T22:59:55.176330Z"
    }
   },
   "outputs": [
    {
     "data": {
      "text/plain": [
       "['20 g de fermento biológico seco ou 60 g de fermento biológico fresco', '350 ml de leite morno', '100 ml de óleo', '2 ovos', '4 colheres (sopa) de açúcar', '1/2 colher (sopa) de sal', '500 g de fubá', '500 g de farinha de trigo (aproximadamente)']"
      ]
     },
     "execution_count": 34,
     "metadata": {},
     "output_type": "execute_result"
    }
   ],
   "source": [
    "tokenized[i]\n"
   ]
  },
  {
   "cell_type": "code",
   "execution_count": 35,
   "metadata": {
    "ExecuteTime": {
     "end_time": "2019-07-28T22:59:55.231427Z",
     "start_time": "2019-07-28T22:59:55.219270Z"
    }
   },
   "outputs": [
    {
     "name": "stdout",
     "output_type": "stream",
     "text": [
      "set()\n"
     ]
    }
   ],
   "source": [
    "ingreds = [t.text for t, p in zip(tokenized[i], pred_i) if p]\n",
    "print(set(ingreds))"
   ]
  },
  {
   "cell_type": "code",
   "execution_count": 36,
   "metadata": {
    "ExecuteTime": {
     "end_time": "2019-07-28T22:59:55.247137Z",
     "start_time": "2019-07-28T22:59:55.235271Z"
    }
   },
   "outputs": [
    {
     "data": {
      "text/plain": [
       "set()"
      ]
     },
     "execution_count": 36,
     "metadata": {},
     "output_type": "execute_result"
    }
   ],
   "source": [
    "ingreds = [t.text for t, p in zip(tokenized[i], y_seq[i]) if p]\n",
    "set(ingreds)"
   ]
  },
  {
   "cell_type": "code",
   "execution_count": 47,
   "metadata": {
    "ExecuteTime": {
     "end_time": "2019-07-28T23:08:23.913906Z",
     "start_time": "2019-07-28T23:08:23.904674Z"
    }
   },
   "outputs": [
    {
     "data": {
      "text/plain": [
       "\"['2 ovos', 'cebolinha a gosto', '1 dente de alho', 'corante a gosto', '1 tablete de caldo de galinha', 'pimenta-do-reino a gosto', '1 copo de água', '1 cebola picada']\""
      ]
     },
     "execution_count": 47,
     "metadata": {},
     "output_type": "execute_result"
    }
   ],
   "source": [
    "ingredients[i]"
   ]
  },
  {
   "cell_type": "code",
   "execution_count": 48,
   "metadata": {
    "ExecuteTime": {
     "end_time": "2019-07-28T23:08:28.831743Z",
     "start_time": "2019-07-28T23:08:24.687046Z"
    }
   },
   "outputs": [],
   "source": [
    "new_labels = []\n",
    "for pred_i, ti in zip(y_pred, tokenized):\n",
    "    l_i = []\n",
    "    ci = [t.text for t, p in zip(tokenized[i], pred_i > 0.05) if p]\n",
    "    label = []\n",
    "    for token in ti:\n",
    "        l_i.append(any((c == token.text or c == token.text[:-1] or c[:-1] == token.text) for c in ci))\n",
    "    new_labels.append(l_i)"
   ]
  },
  {
   "cell_type": "code",
   "execution_count": null,
   "metadata": {
    "ExecuteTime": {
     "end_time": "2019-07-28T23:08:28.907332Z",
     "start_time": "2019-07-28T23:08:25.454Z"
    }
   },
   "outputs": [],
   "source": [
    "y_seq_new = []\n",
    "for l in new_labels:\n",
    "    y_i = []\n",
    "    for i in range(MAX_LEN):\n",
    "        try:\n",
    "            y_i.append(float(l[i]))\n",
    "        except:\n",
    "            y_i.append(0.0)\n",
    "    y_seq_new.append(np.array(y_i))\n",
    "y_seq_new = np.array(y_seq_new)\n",
    "y_seq_new = y_seq.reshape(y_seq_new.shape[0], y_seq_new.shape[1], 1)"
   ]
  },
  {
   "cell_type": "code",
   "execution_count": null,
   "metadata": {
    "ExecuteTime": {
     "end_time": "2019-07-28T23:08:28.955910Z",
     "start_time": "2019-07-28T23:08:26.312Z"
    }
   },
   "outputs": [],
   "source": [
    "history = model.fit(X_seq, y_seq_new, epochs=1, batch_size=256, validation_split=0.1)\n"
   ]
  },
  {
   "cell_type": "code",
   "execution_count": null,
   "metadata": {
    "ExecuteTime": {
     "end_time": "2019-07-28T23:08:28.997509Z",
     "start_time": "2019-07-28T23:08:27.630Z"
    }
   },
   "outputs": [],
   "source": [
    "eval_ingredients = eval_df['ingredientes'].values\n",
    "\n"
   ]
  },
  {
   "cell_type": "code",
   "execution_count": null,
   "metadata": {
    "ExecuteTime": {
     "end_time": "2019-07-28T23:08:29.039556Z",
     "start_time": "2019-07-28T23:08:28.639Z"
    }
   },
   "outputs": [],
   "source": [
    "eval_tokenized = [nlp(t) for t in eval_df['ingredientes'].values]\n",
    "\n",
    "X_seq_test = prepare_sequences(eval_tokenized, max_len=MAX_LEN, vocab=vocab)\n"
   ]
  },
  {
   "cell_type": "code",
   "execution_count": 49,
   "metadata": {
    "ExecuteTime": {
     "end_time": "2019-07-28T23:09:27.671477Z",
     "start_time": "2019-07-28T23:08:29.227366Z"
    }
   },
   "outputs": [
    {
     "name": "stdout",
     "output_type": "stream",
     "text": [
      "9819/9819 [==============================] - 58s 6ms/sample\n"
     ]
    }
   ],
   "source": [
    "y_pred_test = model.predict(X_seq_test, verbose=1, batch_size=1024)\n"
   ]
  },
  {
   "cell_type": "code",
   "execution_count": 50,
   "metadata": {
    "ExecuteTime": {
     "end_time": "2019-07-28T23:09:43.481505Z",
     "start_time": "2019-07-28T23:09:43.467938Z"
    }
   },
   "outputs": [
    {
     "name": "stdout",
     "output_type": "stream",
     "text": [
      "['1 pacote de biscoito maisena', 'manteiga', '1 leite condensado', '1 vidro de leite de coco (200 ml)', '1 pacote de coco fresco (300 ml)', '2 colheres de maisena', 'ameixa em calda (200 ml)', '2 xícaras de açúcar', '1 copo de água']\n",
      "\n",
      "['1 pacote de biscoito maisena', 'manteiga', '1 leite condensado', '1 vidro de leite de coco (200 ml)', '1 pacote de coco fresco (300 ml)', '2 colheres de maisena', 'ameixa em calda (200 ml)', '2 xícaras de açúcar', '1 copo de água']\n",
      "\n",
      "set()\n"
     ]
    }
   ],
   "source": [
    "i = 893\n",
    "pred_i = y_pred_test[i] > 0.05\n",
    "print(eval_tokenized[i])\n",
    "print()\n",
    "print(eval_ingredients[i])\n",
    "print()\n",
    "ingreds = [t.text for t, p in zip(eval_tokenized[i], pred_i) if p]\n",
    "print(set(ingreds))"
   ]
  },
  {
   "cell_type": "code",
   "execution_count": 51,
   "metadata": {
    "ExecuteTime": {
     "end_time": "2019-07-28T23:09:48.194290Z",
     "start_time": "2019-07-28T23:09:48.180403Z"
    }
   },
   "outputs": [
    {
     "name": "stdout",
     "output_type": "stream",
     "text": [
      "['1 lata de leite condensado', '1 caixinha  de creme de leite', 'caixa de leite (medida da caixa de creme de leite)', '1 caixinha de gelatina de morango', '1 caixinha de chantili']\n",
      "\n",
      "['1 lata de leite condensado', '1 caixinha  de creme de leite', 'caixa de leite (medida da caixa de creme de leite)', '1 caixinha de gelatina de morango', '1 caixinha de chantili']\n",
      "\n",
      "set()\n"
     ]
    }
   ],
   "source": [
    "i = 26\n",
    "pred_i = y_pred_test[i] > 0.05\n",
    "print(eval_tokenized[i])\n",
    "print()\n",
    "print(eval_ingredients[i])\n",
    "print()\n",
    "ingreds = [t.text for t, p in zip(eval_tokenized[i], pred_i) if p]\n",
    "print(set(ingreds))"
   ]
  },
  {
   "cell_type": "code",
   "execution_count": null,
   "metadata": {},
   "outputs": [],
   "source": []
  }
 ],
 "metadata": {
  "kernelspec": {
   "display_name": "Python 3",
   "language": "python",
   "name": "python3"
  },
  "language_info": {
   "codemirror_mode": {
    "name": "ipython",
    "version": 3
   },
   "file_extension": ".py",
   "mimetype": "text/x-python",
   "name": "python",
   "nbconvert_exporter": "python",
   "pygments_lexer": "ipython3",
   "version": "3.6.4"
  },
  "toc": {
   "base_numbering": 1,
   "nav_menu": {},
   "number_sections": true,
   "sideBar": true,
   "skip_h1_title": false,
   "title_cell": "Table of Contents",
   "title_sidebar": "Contents",
   "toc_cell": false,
   "toc_position": {},
   "toc_section_display": true,
   "toc_window_display": false
  },
  "varInspector": {
   "cols": {
    "lenName": 16,
    "lenType": 16,
    "lenVar": 40
   },
   "kernels_config": {
    "python": {
     "delete_cmd_postfix": "",
     "delete_cmd_prefix": "del ",
     "library": "var_list.py",
     "varRefreshCmd": "print(var_dic_list())"
    },
    "r": {
     "delete_cmd_postfix": ") ",
     "delete_cmd_prefix": "rm(",
     "library": "var_list.r",
     "varRefreshCmd": "cat(var_dic_list()) "
    }
   },
   "types_to_exclude": [
    "module",
    "function",
    "builtin_function_or_method",
    "instance",
    "_Feature"
   ],
   "window_display": false
  }
 },
 "nbformat": 4,
 "nbformat_minor": 2
}
