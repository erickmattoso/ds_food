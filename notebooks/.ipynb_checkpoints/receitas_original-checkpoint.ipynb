{
 "cells": [
  {
   "cell_type": "markdown",
   "metadata": {},
   "source": [
    "# Learn To Identify Ingredients With Neural Networks\n",
    "[Source](https://www.depends-on-the-definition.com/identify-ingredients-with-neural-networks/)\n"
   ]
  },
  {
   "cell_type": "code",
   "execution_count": 1,
   "metadata": {
    "ExecuteTime": {
     "end_time": "2019-07-23T01:08:21.419697Z",
     "start_time": "2019-07-23T01:08:14.346131Z"
    }
   },
   "outputs": [],
   "source": [
    "import numpy as np\n",
    "import pandas as pd\n",
    "import spacy\n",
    "import matplotlib.pyplot as plt\n",
    "%matplotlib inline"
   ]
  },
  {
   "cell_type": "code",
   "execution_count": 2,
   "metadata": {
    "ExecuteTime": {
     "end_time": "2019-07-23T01:08:21.904451Z",
     "start_time": "2019-07-23T01:08:21.422342Z"
    }
   },
   "outputs": [],
   "source": [
    "df = pd.read_json(\"../input/recipes.json\")"
   ]
  },
  {
   "cell_type": "code",
   "execution_count": 3,
   "metadata": {
    "ExecuteTime": {
     "end_time": "2019-07-23T01:08:21.917555Z",
     "start_time": "2019-07-23T01:08:21.907020Z"
    }
   },
   "outputs": [
    {
     "data": {
      "text/plain": [
       "(12190, 8)"
      ]
     },
     "execution_count": 3,
     "metadata": {},
     "output_type": "execute_result"
    }
   ],
   "source": [
    "df.shape"
   ]
  },
  {
   "cell_type": "code",
   "execution_count": 4,
   "metadata": {
    "ExecuteTime": {
     "end_time": "2019-07-23T01:08:21.981547Z",
     "start_time": "2019-07-23T01:08:21.923703Z"
    }
   },
   "outputs": [
    {
     "name": "stdout",
     "output_type": "stream",
     "text": [
      "<class 'pandas.core.frame.DataFrame'>\n",
      "RangeIndex: 12190 entries, 0 to 12189\n",
      "Data columns (total 8 columns):\n",
      "Day             12190 non-null int64\n",
      "Ingredients     12190 non-null object\n",
      "Instructions    12190 non-null object\n",
      "Month           12190 non-null object\n",
      "Name            12190 non-null object\n",
      "Url             12190 non-null object\n",
      "Weekday         12190 non-null object\n",
      "Year            12190 non-null int64\n",
      "dtypes: int64(2), object(6)\n",
      "memory usage: 762.0+ KB\n"
     ]
    }
   ],
   "source": [
    "df.info()"
   ]
  },
  {
   "cell_type": "code",
   "execution_count": 5,
   "metadata": {
    "ExecuteTime": {
     "end_time": "2019-07-23T01:08:22.100887Z",
     "start_time": "2019-07-23T01:08:21.984332Z"
    }
   },
   "outputs": [
    {
     "data": {
      "text/html": [
       "<div>\n",
       "<style scoped>\n",
       "    .dataframe tbody tr th:only-of-type {\n",
       "        vertical-align: middle;\n",
       "    }\n",
       "\n",
       "    .dataframe tbody tr th {\n",
       "        vertical-align: top;\n",
       "    }\n",
       "\n",
       "    .dataframe thead th {\n",
       "        text-align: right;\n",
       "    }\n",
       "</style>\n",
       "<table border=\"1\" class=\"dataframe\">\n",
       "  <thead>\n",
       "    <tr style=\"text-align: right;\">\n",
       "      <th></th>\n",
       "      <th>Day</th>\n",
       "      <th>Ingredients</th>\n",
       "      <th>Instructions</th>\n",
       "      <th>Month</th>\n",
       "      <th>Name</th>\n",
       "      <th>Url</th>\n",
       "      <th>Weekday</th>\n",
       "      <th>Year</th>\n",
       "    </tr>\n",
       "  </thead>\n",
       "  <tbody>\n",
       "    <tr>\n",
       "      <th>0</th>\n",
       "      <td>1</td>\n",
       "      <td>[600 g Hackfleisch, halb und halb, 800 g Sauer...</td>\n",
       "      <td>Die Eier hart kochen. Dann pellen und mit eine...</td>\n",
       "      <td>January</td>\n",
       "      <td>Gebratener Hasenrücken</td>\n",
       "      <td>https://www.chefkoch.de/rezepte/185441079701305/</td>\n",
       "      <td>Thursday</td>\n",
       "      <td>2009</td>\n",
       "    </tr>\n",
       "    <tr>\n",
       "      <th>1</th>\n",
       "      <td>1</td>\n",
       "      <td>[1 kg Strauchtomate(n), 1 Gemüsezwiebel(n), 1 ...</td>\n",
       "      <td>Vorab folgende Bemerkung: Alle Mengen sind Cir...</td>\n",
       "      <td>July</td>\n",
       "      <td>Pilz Stroganoff</td>\n",
       "      <td>https://www.chefkoch.de/rezepte/2718181424631245/</td>\n",
       "      <td>Saturday</td>\n",
       "      <td>2017</td>\n",
       "    </tr>\n",
       "    <tr>\n",
       "      <th>2</th>\n",
       "      <td>1</td>\n",
       "      <td>[1 Glas Kirsche(n), 1 Pck. Vanillepuddingpulve...</td>\n",
       "      <td>Die Kirschen abtropfen lassen, dabei den Saft ...</td>\n",
       "      <td>January</td>\n",
       "      <td>Kaninchen a la Gioff</td>\n",
       "      <td>https://www.chefkoch.de/rezepte/46341015661368/</td>\n",
       "      <td>Monday</td>\n",
       "      <td>2007</td>\n",
       "    </tr>\n",
       "    <tr>\n",
       "      <th>3</th>\n",
       "      <td>1</td>\n",
       "      <td>[500 g Spargel, grüner, 300 ml Brühe oder Fond...</td>\n",
       "      <td>Den Spargel säubern, die holzigen Enden abschn...</td>\n",
       "      <td>April</td>\n",
       "      <td>Spanisches Knoblauch-Kaninchen</td>\n",
       "      <td>https://www.chefkoch.de/rezepte/51051018014178/</td>\n",
       "      <td>Monday</td>\n",
       "      <td>2013</td>\n",
       "    </tr>\n",
       "    <tr>\n",
       "      <th>4</th>\n",
       "      <td>1</td>\n",
       "      <td>[250 g Kohlrabi, 150 ml Gemüsebrühe, 150 ml Mi...</td>\n",
       "      <td>Kohlrabi schälen und klein würfeln. Mit der Br...</td>\n",
       "      <td>August</td>\n",
       "      <td>Gnocchi - Hack - Pfanne mit Basilikum</td>\n",
       "      <td>https://www.chefkoch.de/rezepte/1555771262860408/</td>\n",
       "      <td>Tuesday</td>\n",
       "      <td>2017</td>\n",
       "    </tr>\n",
       "  </tbody>\n",
       "</table>\n",
       "</div>"
      ],
      "text/plain": [
       "   Day                                        Ingredients  \\\n",
       "0    1  [600 g Hackfleisch, halb und halb, 800 g Sauer...   \n",
       "1    1  [1 kg Strauchtomate(n), 1 Gemüsezwiebel(n), 1 ...   \n",
       "2    1  [1 Glas Kirsche(n), 1 Pck. Vanillepuddingpulve...   \n",
       "3    1  [500 g Spargel, grüner, 300 ml Brühe oder Fond...   \n",
       "4    1  [250 g Kohlrabi, 150 ml Gemüsebrühe, 150 ml Mi...   \n",
       "\n",
       "                                        Instructions    Month  \\\n",
       "0  Die Eier hart kochen. Dann pellen und mit eine...  January   \n",
       "1  Vorab folgende Bemerkung: Alle Mengen sind Cir...     July   \n",
       "2  Die Kirschen abtropfen lassen, dabei den Saft ...  January   \n",
       "3  Den Spargel säubern, die holzigen Enden abschn...    April   \n",
       "4  Kohlrabi schälen und klein würfeln. Mit der Br...   August   \n",
       "\n",
       "                                    Name  \\\n",
       "0                 Gebratener Hasenrücken   \n",
       "1                        Pilz Stroganoff   \n",
       "2                   Kaninchen a la Gioff   \n",
       "3         Spanisches Knoblauch-Kaninchen   \n",
       "4  Gnocchi - Hack - Pfanne mit Basilikum   \n",
       "\n",
       "                                                 Url   Weekday  Year  \n",
       "0   https://www.chefkoch.de/rezepte/185441079701305/  Thursday  2009  \n",
       "1  https://www.chefkoch.de/rezepte/2718181424631245/  Saturday  2017  \n",
       "2    https://www.chefkoch.de/rezepte/46341015661368/    Monday  2007  \n",
       "3    https://www.chefkoch.de/rezepte/51051018014178/    Monday  2013  \n",
       "4  https://www.chefkoch.de/rezepte/1555771262860408/   Tuesday  2017  "
      ]
     },
     "execution_count": 5,
     "metadata": {},
     "output_type": "execute_result"
    }
   ],
   "source": [
    "df.head()"
   ]
  },
  {
   "cell_type": "code",
   "execution_count": 6,
   "metadata": {
    "ExecuteTime": {
     "end_time": "2019-07-23T01:08:22.114088Z",
     "start_time": "2019-07-23T01:08:22.104725Z"
    },
    "scrolled": false
   },
   "outputs": [
    {
     "data": {
      "text/plain": [
       "'Die Kirschen abtropfen lassen, dabei den Saft auffangen. Das Puddingpulver mit dem Vanillezucker mischen und mit 6 EL Saft glatt rühren. Den übrigen Kirschsaft aufkochen und vom Herd nehmen. Das angerührte Puddingpulver einrühren und unter Rühren ca. eine Minute köcheln. Die Kirschen unter den angedickten Saft geben. Milch, 40 g Zucker, Vanillemark und Butter aufkochen. Den Topf vom Herd ziehen und den Grieß unter Rühren einstreuen. Unter Rühren einmal aufkochen lassen und zugedeckt ca. fünf Minuten quellen lassen.In der Zeit das Ei trennen. Das Eiweiß mit einer Prise Salz steif schlagen und dabei die restlichen 20 g Zucker einrieseln lassen. Das Eigelb unter den Brei rühren und dann das Eiweiß unterheben.Den Grießbrei mit dem Kompott servieren.'"
      ]
     },
     "execution_count": 6,
     "metadata": {},
     "output_type": "execute_result"
    }
   ],
   "source": [
    "df['Instructions'][2]"
   ]
  },
  {
   "cell_type": "code",
   "execution_count": 7,
   "metadata": {
    "ExecuteTime": {
     "end_time": "2019-07-23T01:08:22.129599Z",
     "start_time": "2019-07-23T01:08:22.120407Z"
    }
   },
   "outputs": [
    {
     "data": {
      "text/plain": [
       "(1190, 8)"
      ]
     },
     "execution_count": 7,
     "metadata": {},
     "output_type": "execute_result"
    }
   ],
   "source": [
    "eval_df = df[11000:]\n",
    "eval_df.shape"
   ]
  },
  {
   "cell_type": "code",
   "execution_count": 8,
   "metadata": {
    "ExecuteTime": {
     "end_time": "2019-07-23T01:08:22.144562Z",
     "start_time": "2019-07-23T01:08:22.133483Z"
    }
   },
   "outputs": [
    {
     "data": {
      "text/plain": [
       "(11000, 8)"
      ]
     },
     "execution_count": 8,
     "metadata": {},
     "output_type": "execute_result"
    }
   ],
   "source": [
    "df = df[:11000]\n",
    "df.shape"
   ]
  },
  {
   "cell_type": "code",
   "execution_count": 9,
   "metadata": {
    "ExecuteTime": {
     "end_time": "2019-07-23T01:08:23.336188Z",
     "start_time": "2019-07-23T01:08:22.148732Z"
    }
   },
   "outputs": [],
   "source": [
    "# import spacy\n",
    "nlp = spacy.load('de_core_news_sm', disable=['parser', 'tagger', 'ner'])"
   ]
  },
  {
   "cell_type": "code",
   "execution_count": 10,
   "metadata": {
    "ExecuteTime": {
     "end_time": "2019-07-23T01:09:06.748463Z",
     "start_time": "2019-07-23T01:08:23.338881Z"
    }
   },
   "outputs": [],
   "source": [
    "tokenized = [nlp(t) for t in df.Instructions.values]"
   ]
  },
  {
   "cell_type": "code",
   "execution_count": 11,
   "metadata": {
    "ExecuteTime": {
     "end_time": "2019-07-23T01:09:08.715723Z",
     "start_time": "2019-07-23T01:09:06.751414Z"
    }
   },
   "outputs": [
    {
     "name": "stdout",
     "output_type": "stream",
     "text": [
      "Number of unique tokens: 17687\n"
     ]
    }
   ],
   "source": [
    "vocab = {\"<UNK>\": 1, \"<PAD>\": 0}\n",
    "for txt in tokenized:\n",
    "    for token in txt:\n",
    "        if token.text not in vocab.keys():\n",
    "            vocab[token.text] = len(vocab)\n",
    "print(\"Number of unique tokens: {}\".format(len(vocab)))"
   ]
  },
  {
   "cell_type": "code",
   "execution_count": 12,
   "metadata": {
    "ExecuteTime": {
     "end_time": "2019-07-23T01:09:08.734437Z",
     "start_time": "2019-07-23T01:09:08.719695Z"
    }
   },
   "outputs": [
    {
     "data": {
      "text/plain": [
       "['600 g Hackfleisch, halb und halb',\n",
       " '800 g Sauerkraut',\n",
       " '200 g Wurst, geräucherte (Csabai Kolbász)',\n",
       " '150 g Speck, durchwachsener, geräucherter',\n",
       " '100 g Reis',\n",
       " '1 m.-große Zwiebel(n)',\n",
       " '1 Zehe/n Knoblauch',\n",
       " '2 Becher Schmand',\n",
       " '1/2TL Kümmel, ganzer',\n",
       " '2 Lorbeerblätter',\n",
       " 'Salz und Pfeffer',\n",
       " '4 Ei(er) (bei Bedarf)',\n",
       " 'Paprikapulver',\n",
       " 'etwas Wasser',\n",
       " 'Öl']"
      ]
     },
     "execution_count": 12,
     "metadata": {},
     "output_type": "execute_result"
    }
   ],
   "source": [
    "ingredients = df.Ingredients\n",
    "ingredients[0]"
   ]
  },
  {
   "cell_type": "code",
   "execution_count": 13,
   "metadata": {
    "ExecuteTime": {
     "end_time": "2019-07-23T01:09:08.758458Z",
     "start_time": "2019-07-23T01:09:08.741160Z"
    }
   },
   "outputs": [],
   "source": [
    "def _filter(token):\n",
    "    if len(token) < 2:\n",
    "        return False\n",
    "    if token.is_stop:\n",
    "        return False\n",
    "    if token.text[0].islower():\n",
    "        return False\n",
    "    if token.is_digit:\n",
    "        return False\n",
    "    if token.like_num:\n",
    "        return False\n",
    "    return True"
   ]
  },
  {
   "cell_type": "code",
   "execution_count": 14,
   "metadata": {
    "ExecuteTime": {
     "end_time": "2019-07-23T01:09:08.774651Z",
     "start_time": "2019-07-23T01:09:08.762347Z"
    }
   },
   "outputs": [],
   "source": [
    "def _clean(text):\n",
    "    text = text.replace(\"(\", \"\")\n",
    "    text = text.split(\"/\")[0]\n",
    "    return text"
   ]
  },
  {
   "cell_type": "code",
   "execution_count": 15,
   "metadata": {
    "ExecuteTime": {
     "end_time": "2019-07-23T01:09:08.800049Z",
     "start_time": "2019-07-23T01:09:08.779845Z"
    }
   },
   "outputs": [
    {
     "data": {
      "text/plain": [
       "['Hackfleisch',\n",
       " 'Sauerkraut',\n",
       " 'Wurst',\n",
       " 'Csabai',\n",
       " 'Kolbász',\n",
       " 'Speck',\n",
       " 'Reis',\n",
       " 'Zwiebeln',\n",
       " 'Zehe',\n",
       " 'Knoblauch',\n",
       " 'Becher',\n",
       " 'Schmand',\n",
       " 'Kümmel',\n",
       " 'Lorbeerblätter',\n",
       " 'Salz',\n",
       " 'Pfeffer',\n",
       " 'Eier',\n",
       " 'Bedarf',\n",
       " 'Paprikapulver',\n",
       " 'Wasser',\n",
       " 'Öl']"
      ]
     },
     "execution_count": 15,
     "metadata": {},
     "output_type": "execute_result"
    }
   ],
   "source": [
    "clean = [_clean(t.text) for i in ingredients[0] for t in nlp(i) if _filter(t) and len(_clean(t.text)) >= 2]\n",
    "clean"
   ]
  },
  {
   "cell_type": "code",
   "execution_count": 16,
   "metadata": {
    "ExecuteTime": {
     "end_time": "2019-07-23T01:09:08.825937Z",
     "start_time": "2019-07-23T01:09:08.804595Z"
    }
   },
   "outputs": [],
   "source": [
    "def get_labels(ingredients, tokenized_instructions):\n",
    "    labels = []\n",
    "    for ing, ti in zip(ingredients, tokenized_instructions):\n",
    "        l_i = []\n",
    "        ci = [_clean(t.text) for i in ing for t in nlp(i) if _filter(t) and len(_clean(t.text)) >= 2]\n",
    "        label = []\n",
    "        for token in ti:\n",
    "            l_i.append(any((c == token.text or c == token.text[:-1] or c[:-1] == token.text) for c in ci))\n",
    "        labels.append(l_i)\n",
    "    return labels"
   ]
  },
  {
   "cell_type": "code",
   "execution_count": 17,
   "metadata": {
    "ExecuteTime": {
     "end_time": "2019-07-23T01:10:26.482995Z",
     "start_time": "2019-07-23T01:09:08.829880Z"
    }
   },
   "outputs": [],
   "source": [
    "labels = get_labels(ingredients, tokenized)"
   ]
  },
  {
   "cell_type": "code",
   "execution_count": 18,
   "metadata": {
    "ExecuteTime": {
     "end_time": "2019-07-23T01:10:26.541873Z",
     "start_time": "2019-07-23T01:10:26.487039Z"
    }
   },
   "outputs": [
    {
     "data": {
      "text/plain": [
       "{'Crème', 'Hühnerbrühe', 'Milch', 'Rosenkohl', 'Schalotten', 'Speck'}"
      ]
     },
     "execution_count": 18,
     "metadata": {},
     "output_type": "execute_result"
    }
   ],
   "source": [
    "set([t.text for t, l in zip(tokenized[214], labels[214]) if l])"
   ]
  },
  {
   "cell_type": "code",
   "execution_count": 19,
   "metadata": {
    "ExecuteTime": {
     "end_time": "2019-07-23T01:10:27.422101Z",
     "start_time": "2019-07-23T01:10:26.548131Z"
    }
   },
   "outputs": [
    {
     "data": {
      "image/png": "[encoded data removed]",
      "text/plain": [
       "<Figure size 432x288 with 1 Axes>"
      ]
     },
     "metadata": {},
     "output_type": "display_data"
    }
   ],
   "source": [
    "import matplotlib.pyplot as plt\n",
    "%matplotlib inline\n",
    "\n",
    "plt.hist([len([t for t in tokens]) for tokens in tokenized], bins=20);"
   ]
  },
  {
   "cell_type": "code",
   "execution_count": 20,
   "metadata": {
    "ExecuteTime": {
     "end_time": "2019-07-23T01:10:27.432583Z",
     "start_time": "2019-07-23T01:10:27.426335Z"
    }
   },
   "outputs": [],
   "source": [
    "MAX_LEN = 400\n"
   ]
  },
  {
   "cell_type": "code",
   "execution_count": 21,
   "metadata": {
    "ExecuteTime": {
     "end_time": "2019-07-23T01:10:31.820912Z",
     "start_time": "2019-07-23T01:10:27.439860Z"
    }
   },
   "outputs": [
    {
     "name": "stderr",
     "output_type": "stream",
     "text": [
      "/Users/mattosoerick/anaconda3/lib/python3.6/site-packages/h5py/__init__.py:36: FutureWarning: Conversion of the second argument of issubdtype from `float` to `np.floating` is deprecated. In future, it will be treated as `np.float64 == np.dtype(float).type`.\n",
      "  from ._conv import register_converters as _register_converters\n",
      "Using TensorFlow backend.\n"
     ]
    }
   ],
   "source": [
    "from keras.preprocessing.sequence import pad_sequences\n",
    "\n",
    "def prepare_sequences(texts, max_len, vocab={\"<UNK>\": 1, \"<PAD>\": 0}):\n",
    "    X = [[vocab.get(w.text, vocab[\"<UNK>\"]) for w in s] for s in texts]\n",
    "    return pad_sequences(maxlen=max_len, sequences=X, padding=\"post\", value=vocab[\"<PAD>\"])"
   ]
  },
  {
   "cell_type": "code",
   "execution_count": 22,
   "metadata": {
    "ExecuteTime": {
     "end_time": "2019-07-23T01:10:34.249678Z",
     "start_time": "2019-07-23T01:10:31.823849Z"
    }
   },
   "outputs": [],
   "source": [
    "X_seq = prepare_sequences(tokenized, max_len=MAX_LEN, vocab=vocab)"
   ]
  },
  {
   "cell_type": "code",
   "execution_count": 23,
   "metadata": {
    "ExecuteTime": {
     "end_time": "2019-07-23T01:10:34.268033Z",
     "start_time": "2019-07-23T01:10:34.252156Z"
    }
   },
   "outputs": [
    {
     "data": {
      "text/plain": [
       "array([192, 193, 194, 183, 195, 196, 128, 197,   9, 198, 199, 200, 201,\n",
       "       202, 203,  60, 204, 205,   9,  13, 206,  15,  23,  98, 207, 208,\n",
       "        51, 209,  68, 202, 203,  25,   6, 195, 125, 202, 210, 211, 212,\n",
       "        33,  45, 213, 214, 100, 196,  13, 215, 216, 217,  33,   9,  68,\n",
       "       218, 219, 213, 169,  35,  82, 100, 220, 221, 202,   6, 222,  45,\n",
       "       223,  48, 224,  33,  67, 225, 100, 226,   6, 227, 228, 229, 130,\n",
       "        45,  92,  85, 230, 211, 231,   6, 232, 233, 234, 235, 145, 157,\n",
       "       236,   9, 237, 238, 104, 239, 210, 240, 157, 241,  54,   6, 109,\n",
       "       242, 243, 244, 245, 246, 187, 247,   6, 248, 183, 249, 250,  33,\n",
       "       129,  13, 251, 252, 101, 253,  33, 254,   9,  31, 255,  40, 172,\n",
       "         6,   2, 256, 257, 177, 258, 259, 260,  33,  42, 261, 262, 263,\n",
       "       131, 264, 265, 266,  33, 267,  74, 268, 269,  68, 270,   6,   0,\n",
       "         0,   0,   0,   0,   0,   0,   0,   0,   0,   0,   0,   0,   0,\n",
       "         0,   0,   0,   0,   0,   0,   0,   0,   0,   0,   0,   0,   0,\n",
       "         0,   0,   0,   0,   0,   0,   0,   0,   0,   0,   0,   0,   0,\n",
       "         0,   0,   0,   0,   0,   0,   0,   0,   0,   0,   0,   0,   0,\n",
       "         0,   0,   0,   0,   0,   0,   0,   0,   0,   0,   0,   0,   0,\n",
       "         0,   0,   0,   0,   0,   0,   0,   0,   0,   0,   0,   0,   0,\n",
       "         0,   0,   0,   0,   0,   0,   0,   0,   0,   0,   0,   0,   0,\n",
       "         0,   0,   0,   0,   0,   0,   0,   0,   0,   0,   0,   0,   0,\n",
       "         0,   0,   0,   0,   0,   0,   0,   0,   0,   0,   0,   0,   0,\n",
       "         0,   0,   0,   0,   0,   0,   0,   0,   0,   0,   0,   0,   0,\n",
       "         0,   0,   0,   0,   0,   0,   0,   0,   0,   0,   0,   0,   0,\n",
       "         0,   0,   0,   0,   0,   0,   0,   0,   0,   0,   0,   0,   0,\n",
       "         0,   0,   0,   0,   0,   0,   0,   0,   0,   0,   0,   0,   0,\n",
       "         0,   0,   0,   0,   0,   0,   0,   0,   0,   0,   0,   0,   0,\n",
       "         0,   0,   0,   0,   0,   0,   0,   0,   0,   0,   0,   0,   0,\n",
       "         0,   0,   0,   0,   0,   0,   0,   0,   0,   0,   0,   0,   0,\n",
       "         0,   0,   0,   0,   0,   0,   0,   0,   0,   0,   0,   0,   0,\n",
       "         0,   0,   0,   0,   0,   0,   0,   0,   0,   0,   0,   0,   0,\n",
       "         0,   0,   0,   0,   0,   0,   0,   0,   0,   0], dtype=int32)"
      ]
     },
     "execution_count": 23,
     "metadata": {},
     "output_type": "execute_result"
    }
   ],
   "source": [
    "X_seq[1]\n"
   ]
  },
  {
   "cell_type": "code",
   "execution_count": 24,
   "metadata": {
    "ExecuteTime": {
     "end_time": "2019-07-23T01:10:37.199552Z",
     "start_time": "2019-07-23T01:10:34.271903Z"
    }
   },
   "outputs": [],
   "source": [
    "y_seq = []\n",
    "for l in labels:\n",
    "    y_i = []\n",
    "    for i in range(MAX_LEN):\n",
    "        try:\n",
    "            y_i.append(float(l[i]))\n",
    "        except:\n",
    "            y_i.append(0.0)\n",
    "    y_seq.append(np.array(y_i))\n",
    "y_seq = np.array(y_seq)\n",
    "y_seq = y_seq.reshape(y_seq.shape[0], y_seq.shape[1], 1)"
   ]
  },
  {
   "cell_type": "code",
   "execution_count": 25,
   "metadata": {
    "ExecuteTime": {
     "end_time": "2019-07-23T01:10:37.214393Z",
     "start_time": "2019-07-23T01:10:37.202373Z"
    }
   },
   "outputs": [
    {
     "name": "stdout",
     "output_type": "stream",
     "text": [
      "1.14.0\n",
      "2.2.4-tf\n"
     ]
    }
   ],
   "source": [
    "import tensorflow as tf\n",
    "from tensorflow.keras import layers\n",
    "\n",
    "print(tf.VERSION)\n",
    "print(tf.keras.__version__)"
   ]
  },
  {
   "cell_type": "code",
   "execution_count": 26,
   "metadata": {
    "ExecuteTime": {
     "end_time": "2019-07-23T01:10:39.120800Z",
     "start_time": "2019-07-23T01:10:37.220465Z"
    }
   },
   "outputs": [
    {
     "name": "stderr",
     "output_type": "stream",
     "text": [
      "WARNING: Logging before flag parsing goes to stderr.\n",
      "W0722 22:10:37.275779 4580128192 deprecation.py:506] From /Users/mattosoerick/anaconda3/lib/python3.6/site-packages/tensorflow/python/keras/initializers.py:119: calling RandomUniform.__init__ (from tensorflow.python.ops.init_ops) with dtype is deprecated and will be removed in a future version.\n",
      "Instructions for updating:\n",
      "Call initializer instance with the dtype argument instead of passing it to the constructor\n",
      "W0722 22:10:37.384159 4580128192 deprecation.py:506] From /Users/mattosoerick/anaconda3/lib/python3.6/site-packages/tensorflow/python/ops/init_ops.py:1251: calling VarianceScaling.__init__ (from tensorflow.python.ops.init_ops) with dtype is deprecated and will be removed in a future version.\n",
      "Instructions for updating:\n",
      "Call initializer instance with the dtype argument instead of passing it to the constructor\n",
      "W0722 22:10:37.392474 4580128192 deprecation.py:506] From /Users/mattosoerick/anaconda3/lib/python3.6/site-packages/tensorflow/python/ops/init_ops.py:97: calling GlorotUniform.__init__ (from tensorflow.python.ops.init_ops) with dtype is deprecated and will be removed in a future version.\n",
      "Instructions for updating:\n",
      "Call initializer instance with the dtype argument instead of passing it to the constructor\n",
      "W0722 22:10:37.394627 4580128192 deprecation.py:506] From /Users/mattosoerick/anaconda3/lib/python3.6/site-packages/tensorflow/python/ops/init_ops.py:97: calling Orthogonal.__init__ (from tensorflow.python.ops.init_ops) with dtype is deprecated and will be removed in a future version.\n",
      "Instructions for updating:\n",
      "Call initializer instance with the dtype argument instead of passing it to the constructor\n",
      "W0722 22:10:37.398655 4580128192 deprecation.py:506] From /Users/mattosoerick/anaconda3/lib/python3.6/site-packages/tensorflow/python/ops/init_ops.py:97: calling Zeros.__init__ (from tensorflow.python.ops.init_ops) with dtype is deprecated and will be removed in a future version.\n",
      "Instructions for updating:\n",
      "Call initializer instance with the dtype argument instead of passing it to the constructor\n",
      "W0722 22:10:37.796967 4580128192 deprecation.py:323] From /Users/mattosoerick/anaconda3/lib/python3.6/site-packages/tensorflow/python/keras/backend.py:3794: add_dispatch_support.<locals>.wrapper (from tensorflow.python.ops.array_ops) is deprecated and will be removed in a future version.\n",
      "Instructions for updating:\n",
      "Use tf.where in 2.0, which has the same broadcast rule as np.where\n"
     ]
    }
   ],
   "source": [
    "model = tf.keras.Sequential()\n",
    "model.add(layers.Embedding(input_dim=len(vocab), mask_zero=True, output_dim=50))\n",
    "model.add(layers.SpatialDropout1D(0.2))\n",
    "model.add(layers.Bidirectional(layers.LSTM(units=64, return_sequences=True)))\n",
    "model.add(layers.SpatialDropout1D(0.2))\n",
    "model.add(layers.Bidirectional(layers.LSTM(units=64, return_sequences=True)))\n",
    "model.add(layers.TimeDistributed(layers.Dense(1, activation='sigmoid')))"
   ]
  },
  {
   "cell_type": "code",
   "execution_count": 27,
   "metadata": {
    "ExecuteTime": {
     "end_time": "2019-07-23T01:10:39.471815Z",
     "start_time": "2019-07-23T01:10:39.123741Z"
    }
   },
   "outputs": [],
   "source": [
    "model.compile(optimizer=tf.train.AdamOptimizer(0.001),\n",
    "              loss='binary_crossentropy',\n",
    "              metrics=['accuracy'])"
   ]
  },
  {
   "cell_type": "code",
   "execution_count": 28,
   "metadata": {
    "ExecuteTime": {
     "end_time": "2019-07-23T01:10:39.507967Z",
     "start_time": "2019-07-23T01:10:39.476238Z"
    }
   },
   "outputs": [
    {
     "name": "stdout",
     "output_type": "stream",
     "text": [
      "Model: \"sequential\"\n",
      "_________________________________________________________________\n",
      "Layer (type)                 Output Shape              Param #   \n",
      "=================================================================\n",
      "embedding (Embedding)        (None, None, 50)          884350    \n",
      "_________________________________________________________________\n",
      "spatial_dropout1d (SpatialDr (None, None, 50)          0         \n",
      "_________________________________________________________________\n",
      "bidirectional (Bidirectional (None, None, 128)         58880     \n",
      "_________________________________________________________________\n",
      "spatial_dropout1d_1 (Spatial (None, None, 128)         0         \n",
      "_________________________________________________________________\n",
      "bidirectional_1 (Bidirection (None, None, 128)         98816     \n",
      "_________________________________________________________________\n",
      "time_distributed (TimeDistri (None, None, 1)           129       \n",
      "=================================================================\n",
      "Total params: 1,042,175\n",
      "Trainable params: 1,042,175\n",
      "Non-trainable params: 0\n",
      "_________________________________________________________________\n"
     ]
    }
   ],
   "source": [
    "model.summary()\n"
   ]
  },
  {
   "cell_type": "code",
   "execution_count": 29,
   "metadata": {
    "ExecuteTime": {
     "end_time": "2019-07-23T01:56:56.726773Z",
     "start_time": "2019-07-23T01:10:39.514541Z"
    }
   },
   "outputs": [
    {
     "name": "stdout",
     "output_type": "stream",
     "text": [
      "Train on 9900 samples, validate on 1100 samples\n",
      "Epoch 1/10\n",
      "9900/9900 [==============================] - 295s 30ms/sample - loss: 0.1355 - acc: 0.9012 - val_loss: 0.1030 - val_acc: 0.9108\n",
      "Epoch 2/10\n",
      "9900/9900 [==============================] - 283s 29ms/sample - loss: 0.0988 - acc: 0.9105 - val_loss: 0.0904 - val_acc: 0.9106\n",
      "Epoch 3/10\n",
      "9900/9900 [==============================] - 286s 29ms/sample - loss: 0.0834 - acc: 0.9113 - val_loss: 0.0684 - val_acc: 0.9165\n",
      "Epoch 4/10\n",
      "9900/9900 [==============================] - 295s 30ms/sample - loss: 0.0453 - acc: 0.9494 - val_loss: 0.0257 - val_acc: 0.9747\n",
      "Epoch 5/10\n",
      "9900/9900 [==============================] - 275s 28ms/sample - loss: 0.0237 - acc: 0.9752 - val_loss: 0.0238 - val_acc: 0.9756\n",
      "Epoch 6/10\n",
      "9900/9900 [==============================] - 268s 27ms/sample - loss: 0.0219 - acc: 0.9770 - val_loss: 0.0226 - val_acc: 0.9770\n",
      "Epoch 7/10\n",
      "9900/9900 [==============================] - 267s 27ms/sample - loss: 0.0209 - acc: 0.9783 - val_loss: 0.0219 - val_acc: 0.9781\n",
      "Epoch 8/10\n",
      "9900/9900 [==============================] - 266s 27ms/sample - loss: 0.0202 - acc: 0.9792 - val_loss: 0.0212 - val_acc: 0.9790\n",
      "Epoch 9/10\n",
      "9900/9900 [==============================] - 268s 27ms/sample - loss: 0.0193 - acc: 0.9804 - val_loss: 0.0205 - val_acc: 0.9797\n",
      "Epoch 10/10\n",
      "9900/9900 [==============================] - 269s 27ms/sample - loss: 0.0183 - acc: 0.9816 - val_loss: 0.0199 - val_acc: 0.9806\n"
     ]
    }
   ],
   "source": [
    "history = model.fit(X_seq, y_seq, epochs=10, batch_size=256, validation_split=0.1)\n"
   ]
  },
  {
   "cell_type": "code",
   "execution_count": 30,
   "metadata": {
    "ExecuteTime": {
     "end_time": "2019-07-23T01:56:57.115332Z",
     "start_time": "2019-07-23T01:56:56.730097Z"
    }
   },
   "outputs": [
    {
     "data": {
      "image/png": "[encoded data removed]",
      "text/plain": [
       "<Figure size 432x288 with 1 Axes>"
      ]
     },
     "metadata": {},
     "output_type": "display_data"
    }
   ],
   "source": [
    "plt.plot(history.history[\"loss\"], label=\"trn_loss\");\n",
    "plt.plot(history.history[\"val_loss\"], label=\"val_loss\");\n",
    "plt.legend();\n",
    "plt.title(\"Loss\");"
   ]
  },
  {
   "cell_type": "code",
   "execution_count": 31,
   "metadata": {
    "ExecuteTime": {
     "end_time": "2019-07-23T01:56:57.523674Z",
     "start_time": "2019-07-23T01:56:57.119596Z"
    }
   },
   "outputs": [
    {
     "data": {
      "image/png": "[encoded data removed]",
      "text/plain": [
       "<Figure size 432x288 with 1 Axes>"
      ]
     },
     "metadata": {},
     "output_type": "display_data"
    }
   ],
   "source": [
    "plt.plot(history.history[\"acc\"], label=\"trn_acc\");\n",
    "plt.plot(history.history[\"val_acc\"], label=\"val_acc\");\n",
    "plt.legend();\n",
    "plt.title(\"Accuracy\");"
   ]
  },
  {
   "cell_type": "code",
   "execution_count": 32,
   "metadata": {
    "ExecuteTime": {
     "end_time": "2019-07-23T01:58:03.568333Z",
     "start_time": "2019-07-23T01:56:57.527570Z"
    }
   },
   "outputs": [
    {
     "name": "stdout",
     "output_type": "stream",
     "text": [
      "11000/11000 [==============================] - 66s 6ms/sample\n"
     ]
    }
   ],
   "source": [
    "y_pred = model.predict(X_seq, verbose=1, batch_size=1024)\n"
   ]
  },
  {
   "cell_type": "code",
   "execution_count": 33,
   "metadata": {
    "ExecuteTime": {
     "end_time": "2019-07-23T01:58:03.581291Z",
     "start_time": "2019-07-23T01:58:03.571724Z"
    }
   },
   "outputs": [],
   "source": [
    "i = 3343\n",
    "pred_i = y_pred[i] > 0.05"
   ]
  },
  {
   "cell_type": "code",
   "execution_count": 34,
   "metadata": {
    "ExecuteTime": {
     "end_time": "2019-07-23T01:58:03.598240Z",
     "start_time": "2019-07-23T01:58:03.586369Z"
    }
   },
   "outputs": [
    {
     "data": {
      "text/plain": [
       "Kohlrabi schälen, waschen und in Stifte schneiden. Brühe und Milch ankochen, Kohlrabi dazugeben, aufkochen lassen und 10 Minuten kochen. Dann herausnehmen und abtropfen lassen, die Brühe aufheben.Butter erhitzen, das Mehl darin anschwitzen, mit Kohlrabibrühe ablöschen und aufkochen lassen. Mit den Gewürzen abschmecken. Kohlrabi wieder dazugeben.Hähnchenbrust schnetzeln, kräftig anbraten und würzen. Das Fleisch in eine Auflaufform geben, die Speckwürfel darüber verteilen. Mit Käse bestreuen. Nun das Gemüse darüber schichten und alles bei 180 °C ca. 25 Minuten überbacken.Tipp:Man kann auch gut gekochte, in Würfel geschnittene Kartoffeln unter die Kohlrabi mischen. Ebenso kann man auch Kohlrabi und Möhren für den Auflauf nehmen. Schmeckt auch sehr lecker!"
      ]
     },
     "execution_count": 34,
     "metadata": {},
     "output_type": "execute_result"
    }
   ],
   "source": [
    "tokenized[i]\n"
   ]
  },
  {
   "cell_type": "code",
   "execution_count": 35,
   "metadata": {
    "ExecuteTime": {
     "end_time": "2019-07-23T01:58:03.617213Z",
     "start_time": "2019-07-23T01:58:03.602660Z"
    }
   },
   "outputs": [
    {
     "name": "stdout",
     "output_type": "stream",
     "text": [
      "{'Brühe', 'Kohlrabi', 'Milch', 'Speckwürfel', 'Mehl', 'Käse', 'Möhren', 'Butter', 'Kartoffeln', 'Gemüse'}\n"
     ]
    }
   ],
   "source": [
    "ingreds = [t.text for t, p in zip(tokenized[i], pred_i) if p]\n",
    "print(set(ingreds))"
   ]
  },
  {
   "cell_type": "code",
   "execution_count": 36,
   "metadata": {
    "ExecuteTime": {
     "end_time": "2019-07-23T01:58:03.632562Z",
     "start_time": "2019-07-23T01:58:03.621379Z"
    }
   },
   "outputs": [
    {
     "data": {
      "text/plain": [
       "{'Butter', 'Kohlrabi', 'Käse', 'Mehl', 'Milch'}"
      ]
     },
     "execution_count": 36,
     "metadata": {},
     "output_type": "execute_result"
    }
   ],
   "source": [
    "ingreds = [t.text for t, p in zip(tokenized[i], y_seq[i]) if p]\n",
    "set(ingreds)"
   ]
  },
  {
   "cell_type": "code",
   "execution_count": 37,
   "metadata": {
    "ExecuteTime": {
     "end_time": "2019-07-23T01:58:03.653503Z",
     "start_time": "2019-07-23T01:58:03.636830Z"
    }
   },
   "outputs": [
    {
     "data": {
      "text/plain": [
       "['500 g Kohlrabi',\n",
       " '1/4Liter Hühnerbrühe',\n",
       " '1/4Liter Milch',\n",
       " '1 EL Butter',\n",
       " '30 g Mehl',\n",
       " '300 g Hähnchenbrustfilet(s)',\n",
       " 'Salz und Pfeffer',\n",
       " 'Muskat',\n",
       " '50 g Käse, gerieben',\n",
       " '50 g Speck, gewürfelt']"
      ]
     },
     "execution_count": 37,
     "metadata": {},
     "output_type": "execute_result"
    }
   ],
   "source": [
    "ingredients[i]\n"
   ]
  },
  {
   "cell_type": "code",
   "execution_count": 38,
   "metadata": {
    "ExecuteTime": {
     "end_time": "2019-07-23T01:59:09.545445Z",
     "start_time": "2019-07-23T01:58:03.660831Z"
    }
   },
   "outputs": [],
   "source": [
    "new_labels = []\n",
    "for pred_i, ti in zip(y_pred, tokenized):\n",
    "    l_i = []\n",
    "    ci = [t.text for t, p in zip(tokenized[i], pred_i > 0.05) if p]\n",
    "    label = []\n",
    "    for token in ti:\n",
    "        l_i.append(any((c == token.text or c == token.text[:-1] or c[:-1] == token.text) for c in ci))\n",
    "    new_labels.append(l_i)"
   ]
  },
  {
   "cell_type": "code",
   "execution_count": 39,
   "metadata": {
    "ExecuteTime": {
     "end_time": "2019-07-23T01:59:12.125070Z",
     "start_time": "2019-07-23T01:59:09.548285Z"
    }
   },
   "outputs": [],
   "source": [
    "y_seq_new = []\n",
    "for l in new_labels:\n",
    "    y_i = []\n",
    "    for i in range(MAX_LEN):\n",
    "        try:\n",
    "            y_i.append(float(l[i]))\n",
    "        except:\n",
    "            y_i.append(0.0)\n",
    "    y_seq_new.append(np.array(y_i))\n",
    "y_seq_new = np.array(y_seq_new)\n",
    "y_seq_new = y_seq.reshape(y_seq_new.shape[0], y_seq_new.shape[1], 1)"
   ]
  },
  {
   "cell_type": "code",
   "execution_count": 40,
   "metadata": {
    "ExecuteTime": {
     "end_time": "2019-07-23T02:03:46.087468Z",
     "start_time": "2019-07-23T01:59:12.127510Z"
    }
   },
   "outputs": [
    {
     "name": "stdout",
     "output_type": "stream",
     "text": [
      "Train on 9900 samples, validate on 1100 samples\n",
      "9900/9900 [==============================] - 274s 28ms/sample - loss: 0.0171 - acc: 0.9832 - val_loss: 0.0189 - val_acc: 0.9822\n"
     ]
    }
   ],
   "source": [
    "history = model.fit(X_seq, y_seq_new, epochs=1, batch_size=256, validation_split=0.1)\n"
   ]
  },
  {
   "cell_type": "code",
   "execution_count": 41,
   "metadata": {
    "ExecuteTime": {
     "end_time": "2019-07-23T02:03:46.095489Z",
     "start_time": "2019-07-23T02:03:46.091508Z"
    }
   },
   "outputs": [],
   "source": [
    "eval_ingredients = eval_df.Ingredients.values\n"
   ]
  },
  {
   "cell_type": "code",
   "execution_count": 42,
   "metadata": {
    "ExecuteTime": {
     "end_time": "2019-07-23T02:03:51.126283Z",
     "start_time": "2019-07-23T02:03:46.102920Z"
    }
   },
   "outputs": [],
   "source": [
    "eval_tokenized = [nlp(t) for t in eval_df.Instructions.values]\n",
    "\n",
    "X_seq_test = prepare_sequences(eval_tokenized, max_len=MAX_LEN, vocab=vocab)\n"
   ]
  },
  {
   "cell_type": "code",
   "execution_count": 43,
   "metadata": {
    "ExecuteTime": {
     "end_time": "2019-07-23T02:03:58.354984Z",
     "start_time": "2019-07-23T02:03:51.129055Z"
    }
   },
   "outputs": [
    {
     "name": "stdout",
     "output_type": "stream",
     "text": [
      "1190/1190 [==============================] - 7s 6ms/sample\n"
     ]
    }
   ],
   "source": [
    "y_pred_test = model.predict(X_seq_test, verbose=1, batch_size=1024)\n"
   ]
  },
  {
   "cell_type": "code",
   "execution_count": 44,
   "metadata": {
    "ExecuteTime": {
     "end_time": "2019-07-23T02:03:58.372970Z",
     "start_time": "2019-07-23T02:03:58.358259Z"
    }
   },
   "outputs": [
    {
     "name": "stdout",
     "output_type": "stream",
     "text": [
      "Den Quark durch ein Sieb in eine tiefe Schüssel streichen.Das Mehl, den Zucker, Salz, Vanillezucker und das rohe Ei/er gut verrühren.Diese Masse auf einem mit Mehl bestreuten Backbrett zu einer dicken Wurst rollen und in 10 gleichgroße Scheiben schneiden. In heißer Butter von beiden Seiten goldbraun braten.Die fertigen Tworoshniki werden mit Puderzucker bestreut oder warm mit saurer Sahne oder Obstsirup zu Tisch gebracht.\n",
      "\n",
      "['500 g Quark, sehr trockenen', '80 g Mehl', '2 EL Zucker', '1 Pck. Vanillezucker', 'Salz', '1 Ei(er), evt. 2', '4 EL Butter oder Margarine', 'Puderzucker', '125 ml Sirup (Obstsirup) oder saure Sahne', 'Mehl für die Arbeitsfläche']\n",
      "\n",
      "{'Salz', 'Puderzucker', 'Obstsirup', 'Sahne', 'Mehl', 'Quark', 'Vanillezucker', 'Wurst', 'Butter', 'Zucker'}\n"
     ]
    }
   ],
   "source": [
    "i = 893\n",
    "pred_i = y_pred_test[i] > 0.05\n",
    "print(eval_tokenized[i])\n",
    "print()\n",
    "print(eval_ingredients[i])\n",
    "print()\n",
    "ingreds = [t.text for t, p in zip(eval_tokenized[i], pred_i) if p]\n",
    "print(set(ingreds))"
   ]
  },
  {
   "cell_type": "code",
   "execution_count": 45,
   "metadata": {
    "ExecuteTime": {
     "end_time": "2019-07-23T02:03:58.397488Z",
     "start_time": "2019-07-23T02:03:58.377112Z"
    }
   },
   "outputs": [
    {
     "name": "stdout",
     "output_type": "stream",
     "text": [
      "Spargel putzen und bissfest garen. Herausnehmen, abschrecken und warm stellen.Fisch mit Salz und Pfeffer würzen. Öl in einer Pfanne erhitzen und den Lachs darin 3-4 Min. je Seite braten. Butter schmelzen, Mandeln hinzufügen und leicht bräunen. Schale der Limette mit einem Zestenreißer abziehen, den Saft auspressen, beides in die Butter geben. Mit Salz und Pfeffer würzen.Spargel abtropfen lassen, mit Lachs anrichten und mit Mandelbutter beträufeln.Dazu passen Salzkartoffeln.\n",
      "\n",
      "['500 g Spargel, weißer', '500 g Spargel, grüner', 'Salz und Pfeffer', '4 Scheibe/n Lachsfilet(s) (à ca. 200g)', '2 EL Öl', '100 g Butter', '30 g Mandel(n) in Blättchen', '1 Limette(n), unbehandelt']\n",
      "\n",
      "{'Salz', 'Mandeln', 'Lachs', 'Spargel', 'Limette', 'Pfeffer', 'Öl', 'Butter', 'Saft', 'Fisch'}\n"
     ]
    }
   ],
   "source": [
    "i = 26\n",
    "pred_i = y_pred_test[i] > 0.05\n",
    "print(eval_tokenized[i])\n",
    "print()\n",
    "print(eval_ingredients[i])\n",
    "print()\n",
    "ingreds = [t.text for t, p in zip(eval_tokenized[i], pred_i) if p]\n",
    "print(set(ingreds))"
   ]
  }
 ],
 "metadata": {
  "kernelspec": {
   "display_name": "Python 3",
   "language": "python",
   "name": "python3"
  },
  "language_info": {
   "codemirror_mode": {
    "name": "ipython",
    "version": 3
   },
   "file_extension": ".py",
   "mimetype": "text/x-python",
   "name": "python",
   "nbconvert_exporter": "python",
   "pygments_lexer": "ipython3",
   "version": "3.6.4"
  },
  "toc": {
   "base_numbering": 1,
   "nav_menu": {},
   "number_sections": true,
   "sideBar": true,
   "skip_h1_title": false,
   "title_cell": "Table of Contents",
   "title_sidebar": "Contents",
   "toc_cell": false,
   "toc_position": {},
   "toc_section_display": true,
   "toc_window_display": false
  },
  "varInspector": {
   "cols": {
    "lenName": 16,
    "lenType": 16,
    "lenVar": 40
   },
   "kernels_config": {
    "python": {
     "delete_cmd_postfix": "",
     "delete_cmd_prefix": "del ",
     "library": "var_list.py",
     "varRefreshCmd": "print(var_dic_list())"
    },
    "r": {
     "delete_cmd_postfix": ") ",
     "delete_cmd_prefix": "rm(",
     "library": "var_list.r",
     "varRefreshCmd": "cat(var_dic_list()) "
    }
   },
   "types_to_exclude": [
    "module",
    "function",
    "builtin_function_or_method",
    "instance",
    "_Feature"
   ],
   "window_display": false
  }
 },
 "nbformat": 4,
 "nbformat_minor": 2
}
