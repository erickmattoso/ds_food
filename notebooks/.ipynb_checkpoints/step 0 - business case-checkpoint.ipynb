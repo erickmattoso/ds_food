{
 "cells": [
  {
   "cell_type": "markdown",
   "metadata": {},
   "source": [
    "# Features meu app"
   ]
  },
  {
   "cell_type": "markdown",
   "metadata": {},
   "source": [
    "## Principal"
   ]
  },
  {
   "cell_type": "markdown",
   "metadata": {},
   "source": [
    "1. Selecionar receitas que mais gosta.\n",
    "1. Gerar lista do mercado.\n",
    "1. Gerar tag de tipo de ingrediente (isso para facilitar na busca no mercado).\n",
    "1. Gerar tag de tipo de cozinha.\n",
    "1. Gerar tag de tipo de quantidade.\n",
    "1. Opção de imprimir a lista do mercado."
   ]
  },
  {
   "cell_type": "markdown",
   "metadata": {},
   "source": [
    "## Personalizado"
   ]
  },
  {
   "cell_type": "markdown",
   "metadata": {},
   "source": [
    "1. Gerar lista de utensilhos.\n",
    "1. Escolher receita com base ao ingredientes, escolhendo os ingredientes ele me joga a receita mais adequada"
   ]
  },
  {
   "cell_type": "markdown",
   "metadata": {},
   "source": [
    "# Banco de dados"
   ]
  },
  {
   "cell_type": "markdown",
   "metadata": {},
   "source": [
    "1. http://receitas.folha.com.br/buscar?cmpid=menulate (3000)\n",
    "1. https://www.tudogostoso.com.br/receita/301608-bolo-de-limao-do-herivelto.html (193.272)"
   ]
  },
  {
   "cell_type": "markdown",
   "metadata": {},
   "source": [
    "# bibliografia"
   ]
  },
  {
   "cell_type": "markdown",
   "metadata": {},
   "source": [
    "## Referências técnica"
   ]
  },
  {
   "cell_type": "markdown",
   "metadata": {
    "ExecuteTime": {
     "start_time": "2019-07-23T16:19:01.347Z"
    }
   },
   "source": [
    "1. https://hackernoon.com/this-ai-is-hungry-b2a8655528be\n",
    "1. PDF\n",
    "1. https://github.com/fabriziomello/receitas-refatoracao-banco-de-dados/blob/master/manuscript/receitas.md\n",
    "1. http://www.inf.ufrgs.br/~ceramisch/download_files/courses/Undergraduate_BRAZIL/UFRGS_2007_1/Engenharia_de_Software_N_-_INF01127/Trabalho_pratico_analise_e_projeto_UML_-_SOGRA.pdf\n",
    "1. https://medium.com/ensina-ai/como-entender-machine-learning-atrav%C3%A9s-da-comida-122bf6f84b35\n",
    "1. https://medium.com/@arthurlambletvaz/classificando-o-paladar-das-receitas-svm-bf0fbb185b10"
   ]
  },
  {
   "cell_type": "code",
   "execution_count": 1,
   "metadata": {
    "ExecuteTime": {
     "end_time": "2019-07-28T02:19:35.301505Z",
     "start_time": "2019-07-28T02:19:35.291875Z"
    }
   },
   "outputs": [],
   "source": [
    "# https://github.com/VinzSpring/Chefkoch-API/blob/master/recipe_aquire/chefkoch.py\n",
    "# https://towardsdatascience.com/this-ai-is-hungry-b2a8655528be\n",
    "# http://www.romanklinger.de/publications/kicherer2017-nldb.pdf    "
   ]
  },
  {
   "cell_type": "markdown",
   "metadata": {},
   "source": [
    "## Referências app"
   ]
  },
  {
   "cell_type": "markdown",
   "metadata": {},
   "source": [
    "1. https://homechefs.com.br/#linhas\n",
    "1. https://developers.whisk.com/\n",
    "1. https://www.welcome.ai/tech/food/ibm-chef-watson"
   ]
  },
  {
   "cell_type": "markdown",
   "metadata": {},
   "source": [
    "# Step by Step"
   ]
  },
  {
   "cell_type": "markdown",
   "metadata": {},
   "source": [
    "1. Gerar banco de dados em português\n",
    "1. Fazer app"
   ]
  },
  {
   "cell_type": "code",
   "execution_count": 83,
   "metadata": {
    "ExecuteTime": {
     "end_time": "2019-07-24T02:30:15.625570Z",
     "start_time": "2019-07-24T02:30:14.130192Z"
    }
   },
   "outputs": [
    {
     "name": "stdout",
     "output_type": "stream",
     "text": [
      "break\n"
     ]
    }
   ],
   "source": [
    "for i in range(1, 10):\n",
    "\n",
    "    url = ('https://www.tudoreceitas.com/*-8466.html')\n",
    "    req = requests.get(url)\n",
    "    soup = BeautifulSoup(req.text, \"lxml\")\n",
    "    class_html = 'padding-left-0 double-column'\n",
    "\n",
    "    try:\n",
    "        working = soup.find('ul', {'class': class_html}).text\n",
    "        print('Página',url)\n",
    "\n",
    "    except AttributeError:\n",
    "        print('break')\n",
    "        break"
   ]
  },
  {
   "cell_type": "code",
   "execution_count": null,
   "metadata": {},
   "outputs": [],
   "source": [
    "https://www.tudoreceitas.com/receita-de-almondegas-com-batatas-no-forno-8426.html\n",
    "https://www.tudoreceitas.com/receita-de-carne-ao-molho-teriyaki-8466.html\n",
    "\n"
   ]
  }
 ],
 "metadata": {
  "kernelspec": {
   "display_name": "Python 3",
   "language": "python",
   "name": "python3"
  },
  "language_info": {
   "codemirror_mode": {
    "name": "ipython",
    "version": 3
   },
   "file_extension": ".py",
   "mimetype": "text/x-python",
   "name": "python",
   "nbconvert_exporter": "python",
   "pygments_lexer": "ipython3",
   "version": "3.6.4"
  },
  "toc": {
   "base_numbering": 1,
   "nav_menu": {},
   "number_sections": true,
   "sideBar": true,
   "skip_h1_title": false,
   "title_cell": "Table of Contents",
   "title_sidebar": "Contents",
   "toc_cell": false,
   "toc_position": {
    "height": "calc(100% - 180px)",
    "left": "10px",
    "top": "150px",
    "width": "165px"
   },
   "toc_section_display": true,
   "toc_window_display": true
  },
  "varInspector": {
   "cols": {
    "lenName": 16,
    "lenType": 16,
    "lenVar": 40
   },
   "kernels_config": {
    "python": {
     "delete_cmd_postfix": "",
     "delete_cmd_prefix": "del ",
     "library": "var_list.py",
     "varRefreshCmd": "print(var_dic_list())"
    },
    "r": {
     "delete_cmd_postfix": ") ",
     "delete_cmd_prefix": "rm(",
     "library": "var_list.r",
     "varRefreshCmd": "cat(var_dic_list()) "
    }
   },
   "types_to_exclude": [
    "module",
    "function",
    "builtin_function_or_method",
    "instance",
    "_Feature"
   ],
   "window_display": false
  }
 },
 "nbformat": 4,
 "nbformat_minor": 2
}
