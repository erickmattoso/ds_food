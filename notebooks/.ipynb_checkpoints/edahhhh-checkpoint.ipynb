{
 "cells": [
  {
   "cell_type": "markdown",
   "metadata": {},
   "source": [
    "# Learn To Identify Ingredients With Neural Networks\n",
    "[Source](https://www.depends-on-the-definition.com/identify-ingredients-with-neural-networks/)\n"
   ]
  },
  {
   "cell_type": "code",
   "execution_count": 2,
   "metadata": {
    "ExecuteTime": {
     "end_time": "2019-08-04T16:43:11.208698Z",
     "start_time": "2019-08-04T16:43:09.849282Z"
    }
   },
   "outputs": [],
   "source": [
    "import spacy\n",
    "import pandas as pd\n",
    "import numpy as np\n",
    "import matplotlib.pyplot as plt\n",
    "import itertools\n",
    "import ast\n",
    "from ast import literal_eval\n",
    "%matplotlib inline\n",
    "from spacy.lang.pt.examples import sentences \n"
   ]
  },
  {
   "cell_type": "code",
   "execution_count": null,
   "metadata": {
    "ExecuteTime": {
     "start_time": "2019-08-04T16:43:10.499Z"
    }
   },
   "outputs": [],
   "source": [
    "data = pd.read_csv('recipes.json')"
   ]
  },
  {
   "cell_type": "code",
   "execution_count": null,
   "metadata": {
    "ExecuteTime": {
     "start_time": "2019-08-04T16:43:13.678Z"
    }
   },
   "outputs": [],
   "source": [
    "data.shape"
   ]
  },
  {
   "cell_type": "code",
   "execution_count": 5,
   "metadata": {
    "ExecuteTime": {
     "end_time": "2019-08-04T16:36:28.428787Z",
     "start_time": "2019-08-04T16:36:28.387982Z"
    }
   },
   "outputs": [
    {
     "data": {
      "text/html": [
       "<div>\n",
       "<style scoped>\n",
       "    .dataframe tbody tr th:only-of-type {\n",
       "        vertical-align: middle;\n",
       "    }\n",
       "\n",
       "    .dataframe tbody tr th {\n",
       "        vertical-align: top;\n",
       "    }\n",
       "\n",
       "    .dataframe thead th {\n",
       "        text-align: right;\n",
       "    }\n",
       "</style>\n",
       "<table border=\"1\" class=\"dataframe\">\n",
       "  <thead>\n",
       "    <tr style=\"text-align: right;\">\n",
       "      <th></th>\n",
       "      <th>id</th>\n",
       "      <th>receita</th>\n",
       "      <th>tipo</th>\n",
       "      <th>caracteristicas</th>\n",
       "      <th>descricao</th>\n",
       "      <th>ingredientes</th>\n",
       "      <th>instrucoes</th>\n",
       "      <th>veggie</th>\n",
       "      <th>keyword</th>\n",
       "    </tr>\n",
       "  </thead>\n",
       "  <tbody>\n",
       "    <tr>\n",
       "      <th>0</th>\n",
       "      <td>2950</td>\n",
       "      <td>['Caipirinha de Jabuticaba']</td>\n",
       "      <td>['brasileira | bebidas']</td>\n",
       "      <td>['Fácil','Até meia hora','1 drinque']</td>\n",
       "      <td>['Receita de \"Caipirinha de Jabuticaba\" elabor...</td>\n",
       "      <td>[['5 unidades de jabuticaba'], ['50ml de cacha...</td>\n",
       "      <td>[['- Colocar no copo as jabuticabas e o açúcar...</td>\n",
       "      <td>[]</td>\n",
       "      <td>['Palavras-chave: veloso, bar, caipirinha, cai...</td>\n",
       "    </tr>\n",
       "    <tr>\n",
       "      <th>1</th>\n",
       "      <td>2949</td>\n",
       "      <td>['Caipirinha Onça Pintada']</td>\n",
       "      <td>['brasileira | bebidas']</td>\n",
       "      <td>['Fácil','Até meia hora','1 drinque']</td>\n",
       "      <td>['Receita da \"Caipirinha Onça Pintada\", servid...</td>\n",
       "      <td>[['1 unidade de tangerina'], ['1 colher de pol...</td>\n",
       "      <td>[['- Em um copo, macere a polpa de maracujá, a...</td>\n",
       "      <td>[]</td>\n",
       "      <td>['Palavras-chave: bar da dona onça, caipirinha']</td>\n",
       "    </tr>\n",
       "    <tr>\n",
       "      <th>2</th>\n",
       "      <td>2947</td>\n",
       "      <td>['Caipirinha tradicional']</td>\n",
       "      <td>['brasileira | bebidas']</td>\n",
       "      <td>['Médio','Até meia hora','1 porção']</td>\n",
       "      <td>['Receita de caipirinha tradicional, elaborada...</td>\n",
       "      <td>[['60ml de cachaça (1 dose + 1 colher de sopa)...</td>\n",
       "      <td>[['- Em uma tábua, tire as duas pontinhas do l...</td>\n",
       "      <td>[]</td>\n",
       "      <td>['Palavras-chave: caipirinha, jean ponce']</td>\n",
       "    </tr>\n",
       "    <tr>\n",
       "      <th>3</th>\n",
       "      <td>2946</td>\n",
       "      <td>['Cajurina']</td>\n",
       "      <td>['brasileira | bebidas']</td>\n",
       "      <td>['Fácil','Até meia hora','1 porção']</td>\n",
       "      <td>['Receita de Cajurina, um tipo de caipirinha, ...</td>\n",
       "      <td>[['50ml de cachaça'], ['2 cubos de tangerina']...</td>\n",
       "      <td>[['- Em um copo baixo, coloque o caju, a tange...</td>\n",
       "      <td>[]</td>\n",
       "      <td>['Palavras-chave: bar numero, derivan, caipiri...</td>\n",
       "    </tr>\n",
       "    <tr>\n",
       "      <th>4</th>\n",
       "      <td>2945</td>\n",
       "      <td>['Arroz de porco com folhas de mostarda']</td>\n",
       "      <td>['brasileira | outros']</td>\n",
       "      <td>['Médio','Mais de uma hora','4 porções']</td>\n",
       "      <td>['O arroz de porco com folhas de mostarda é um...</td>\n",
       "      <td>[['2 xícaras arroz cru'], ['4 xícaras caldo es...</td>\n",
       "      <td>[['- Para o caldo, doure a sobrepaleta, bacon ...</td>\n",
       "      <td>[]</td>\n",
       "      <td>['Palavras-chave: arroz de porco, marcelo tanu...</td>\n",
       "    </tr>\n",
       "  </tbody>\n",
       "</table>\n",
       "</div>"
      ],
      "text/plain": [
       "     id                                    receita                      tipo  \\\n",
       "0  2950               ['Caipirinha de Jabuticaba']  ['brasileira | bebidas']   \n",
       "1  2949                ['Caipirinha Onça Pintada']  ['brasileira | bebidas']   \n",
       "2  2947                 ['Caipirinha tradicional']  ['brasileira | bebidas']   \n",
       "3  2946                               ['Cajurina']  ['brasileira | bebidas']   \n",
       "4  2945  ['Arroz de porco com folhas de mostarda']   ['brasileira | outros']   \n",
       "\n",
       "                            caracteristicas  \\\n",
       "0     ['Fácil','Até meia hora','1 drinque']   \n",
       "1     ['Fácil','Até meia hora','1 drinque']   \n",
       "2      ['Médio','Até meia hora','1 porção']   \n",
       "3      ['Fácil','Até meia hora','1 porção']   \n",
       "4  ['Médio','Mais de uma hora','4 porções']   \n",
       "\n",
       "                                           descricao  \\\n",
       "0  ['Receita de \"Caipirinha de Jabuticaba\" elabor...   \n",
       "1  ['Receita da \"Caipirinha Onça Pintada\", servid...   \n",
       "2  ['Receita de caipirinha tradicional, elaborada...   \n",
       "3  ['Receita de Cajurina, um tipo de caipirinha, ...   \n",
       "4  ['O arroz de porco com folhas de mostarda é um...   \n",
       "\n",
       "                                        ingredientes  \\\n",
       "0  [['5 unidades de jabuticaba'], ['50ml de cacha...   \n",
       "1  [['1 unidade de tangerina'], ['1 colher de pol...   \n",
       "2  [['60ml de cachaça (1 dose + 1 colher de sopa)...   \n",
       "3  [['50ml de cachaça'], ['2 cubos de tangerina']...   \n",
       "4  [['2 xícaras arroz cru'], ['4 xícaras caldo es...   \n",
       "\n",
       "                                          instrucoes veggie  \\\n",
       "0  [['- Colocar no copo as jabuticabas e o açúcar...     []   \n",
       "1  [['- Em um copo, macere a polpa de maracujá, a...     []   \n",
       "2  [['- Em uma tábua, tire as duas pontinhas do l...     []   \n",
       "3  [['- Em um copo baixo, coloque o caju, a tange...     []   \n",
       "4  [['- Para o caldo, doure a sobrepaleta, bacon ...     []   \n",
       "\n",
       "                                             keyword  \n",
       "0  ['Palavras-chave: veloso, bar, caipirinha, cai...  \n",
       "1   ['Palavras-chave: bar da dona onça, caipirinha']  \n",
       "2         ['Palavras-chave: caipirinha, jean ponce']  \n",
       "3  ['Palavras-chave: bar numero, derivan, caipiri...  \n",
       "4  ['Palavras-chave: arroz de porco, marcelo tanu...  "
      ]
     },
     "execution_count": 5,
     "metadata": {},
     "output_type": "execute_result"
    }
   ],
   "source": [
    "data.head()"
   ]
  },
  {
   "cell_type": "code",
   "execution_count": 6,
   "metadata": {
    "ExecuteTime": {
     "end_time": "2019-08-04T16:36:28.457539Z",
     "start_time": "2019-08-04T16:36:28.435996Z"
    }
   },
   "outputs": [
    {
     "name": "stdout",
     "output_type": "stream",
     "text": [
      "<class 'pandas.core.frame.DataFrame'>\n",
      "Int64Index: 2896 entries, 0 to 2895\n",
      "Data columns (total 9 columns):\n",
      "id                 2896 non-null int64\n",
      "receita            2896 non-null object\n",
      "tipo               2896 non-null object\n",
      "caracteristicas    2896 non-null object\n",
      "descricao          2896 non-null object\n",
      "ingredientes       2896 non-null object\n",
      "instrucoes         2896 non-null object\n",
      "veggie             2896 non-null object\n",
      "keyword            2896 non-null object\n",
      "dtypes: int64(1), object(8)\n",
      "memory usage: 226.2+ KB\n"
     ]
    }
   ],
   "source": [
    "data.info()"
   ]
  },
  {
   "cell_type": "code",
   "execution_count": 7,
   "metadata": {
    "ExecuteTime": {
     "end_time": "2019-08-04T16:36:28.902507Z",
     "start_time": "2019-08-04T16:36:28.462540Z"
    }
   },
   "outputs": [],
   "source": [
    "intrucoes = data['instrucoes'  ].apply(lambda x: literal_eval(str(x)))\n",
    "ingredien = data['ingredientes'].apply(lambda x: literal_eval(str(x)))\n",
    "intrucoes = intrucoes.apply(lambda intrucoes: list(itertools.chain(*intrucoes)))\n",
    "ingredien = ingredien.apply(lambda ingredien: list(itertools.chain(*ingredien)))"
   ]
  },
  {
   "cell_type": "code",
   "execution_count": 11,
   "metadata": {
    "ExecuteTime": {
     "end_time": "2019-08-04T16:38:00.473758Z",
     "start_time": "2019-08-04T16:38:00.466824Z"
    }
   },
   "outputs": [
    {
     "data": {
      "text/plain": [
       "\"[['5 unidades de jabuticaba'], ['50ml de cachaça (1 dose)'], ['gelo à gosto']]\""
      ]
     },
     "execution_count": 11,
     "metadata": {},
     "output_type": "execute_result"
    }
   ],
   "source": [
    "(data['ingredientes'][0])"
   ]
  },
  {
   "cell_type": "code",
   "execution_count": 17,
   "metadata": {
    "ExecuteTime": {
     "end_time": "2019-08-04T16:39:28.633098Z",
     "start_time": "2019-08-04T16:39:28.624907Z"
    }
   },
   "outputs": [
    {
     "data": {
      "text/plain": [
       "numpy.ndarray"
      ]
     },
     "execution_count": 17,
     "metadata": {},
     "output_type": "execute_result"
    }
   ],
   "source": [
    "type((data['instrucoes'].values))"
   ]
  },
  {
   "cell_type": "code",
   "execution_count": 8,
   "metadata": {
    "ExecuteTime": {
     "end_time": "2019-08-04T16:30:40.389152Z",
     "start_time": "2019-08-04T16:30:40.376529Z"
    }
   },
   "outputs": [
    {
     "data": {
      "text/plain": [
       "(283, 9)"
      ]
     },
     "execution_count": 8,
     "metadata": {},
     "output_type": "execute_result"
    }
   ],
   "source": [
    "eval_df = data[2613:]\n",
    "eval_df.shape"
   ]
  },
  {
   "cell_type": "code",
   "execution_count": 9,
   "metadata": {
    "ExecuteTime": {
     "end_time": "2019-08-04T16:30:40.404851Z",
     "start_time": "2019-08-04T16:30:40.393611Z"
    }
   },
   "outputs": [
    {
     "data": {
      "text/plain": [
       "(2613, 9)"
      ]
     },
     "execution_count": 9,
     "metadata": {},
     "output_type": "execute_result"
    }
   ],
   "source": [
    "data = data[:2613]\n",
    "data.shape"
   ]
  },
  {
   "cell_type": "code",
   "execution_count": 10,
   "metadata": {
    "ExecuteTime": {
     "end_time": "2019-08-04T16:30:40.885156Z",
     "start_time": "2019-08-04T16:30:40.408360Z"
    }
   },
   "outputs": [],
   "source": [
    "nlp = spacy.load('pt_core_news_sm', disable=['parser', 'tagger', 'ner'])"
   ]
  },
  {
   "cell_type": "markdown",
   "metadata": {
    "ExecuteTime": {
     "end_time": "2019-08-04T14:31:26.702891Z",
     "start_time": "2019-08-04T14:31:26.695987Z"
    }
   },
   "source": [
    "sndkjahskdjhaskjdhaksjdhakjshdjkashdjksahdjksahdsndkjahskdjhaskjdhaksjdhakjshdjkashdjksahdjksahd"
   ]
  },
  {
   "cell_type": "markdown",
   "metadata": {},
   "source": [
    "sndkjahskdjhaskjdhaksjdhakjshdjkashdjksahdjksahdsndkjahskdjhaskjdhaksjdhakjshdjkashdjksahdjksahd"
   ]
  },
  {
   "cell_type": "code",
   "execution_count": 11,
   "metadata": {
    "ExecuteTime": {
     "end_time": "2019-08-04T16:31:04.075894Z",
     "start_time": "2019-08-04T16:30:40.889122Z"
    }
   },
   "outputs": [],
   "source": [
    "tokenized = [nlp(t) for t in data['instrucoes'].values]"
   ]
  },
  {
   "cell_type": "code",
   "execution_count": 12,
   "metadata": {
    "ExecuteTime": {
     "end_time": "2019-08-04T16:31:05.695375Z",
     "start_time": "2019-08-04T16:31:04.080235Z"
    }
   },
   "outputs": [
    {
     "name": "stdout",
     "output_type": "stream",
     "text": [
      "Number of unique tokens: 10737\n"
     ]
    }
   ],
   "source": [
    "vocab = {\"<UNK>\": 1, \"<PAD>\": 0}\n",
    "for txt in tokenized:\n",
    "    for token in txt:\n",
    "        if token.text not in vocab.keys():\n",
    "            vocab[token.text] = len(vocab)\n",
    "print(\"Number of unique tokens: {}\".format(len(vocab)))"
   ]
  },
  {
   "cell_type": "code",
   "execution_count": 13,
   "metadata": {
    "ExecuteTime": {
     "end_time": "2019-08-04T16:31:05.813957Z",
     "start_time": "2019-08-04T16:31:05.716613Z"
    }
   },
   "outputs": [],
   "source": [
    "def _filter(token):\n",
    "    if len(token) < 2:\n",
    "        return False\n",
    "    if token.is_stop:\n",
    "        return False\n",
    "    if token.text[0].islower():\n",
    "        return False\n",
    "    if token.is_digit:\n",
    "        return False\n",
    "    if token.like_num:\n",
    "        return False\n",
    "    return True"
   ]
  },
  {
   "cell_type": "code",
   "execution_count": 14,
   "metadata": {
    "ExecuteTime": {
     "end_time": "2019-08-04T16:31:05.870083Z",
     "start_time": "2019-08-04T16:31:05.831609Z"
    }
   },
   "outputs": [],
   "source": [
    "def _clean(text):\n",
    "    text = text.replace(\"(\", \"\")\n",
    "    text = text.replace(\"[\", \"\")\n",
    "    text = text.replace(\"]\", \"\")\n",
    "    text = text.split(\"/\")[0]\n",
    "    return text"
   ]
  },
  {
   "cell_type": "code",
   "execution_count": 15,
   "metadata": {
    "ExecuteTime": {
     "end_time": "2019-08-04T16:31:05.971773Z",
     "start_time": "2019-08-04T16:31:05.942973Z"
    }
   },
   "outputs": [
    {
     "data": {
      "text/plain": [
       "['50ml']"
      ]
     },
     "execution_count": 15,
     "metadata": {},
     "output_type": "execute_result"
    }
   ],
   "source": [
    "clean = [_clean(t.text) for i in ingredien[0] for t in nlp(i) if _filter(t) and len(_clean(t.text)) >= 2]\n",
    "clean"
   ]
  },
  {
   "cell_type": "code",
   "execution_count": 16,
   "metadata": {
    "ExecuteTime": {
     "end_time": "2019-08-04T16:31:06.004294Z",
     "start_time": "2019-08-04T16:31:05.990664Z"
    }
   },
   "outputs": [
    {
     "data": {
      "text/plain": [
       "['5 unidades de jabuticaba', '50ml de cachaça (1 dose)', 'gelo à gosto']"
      ]
     },
     "execution_count": 16,
     "metadata": {},
     "output_type": "execute_result"
    }
   ],
   "source": [
    "ingredien[0]"
   ]
  },
  {
   "cell_type": "code",
   "execution_count": null,
   "metadata": {},
   "outputs": [],
   "source": []
  }
 ],
 "metadata": {
  "kernelspec": {
   "display_name": "Python 3",
   "language": "python",
   "name": "python3"
  },
  "language_info": {
   "codemirror_mode": {
    "name": "ipython",
    "version": 3
   },
   "file_extension": ".py",
   "mimetype": "text/x-python",
   "name": "python",
   "nbconvert_exporter": "python",
   "pygments_lexer": "ipython3",
   "version": "3.6.4"
  },
  "toc": {
   "base_numbering": 1,
   "nav_menu": {},
   "number_sections": true,
   "sideBar": true,
   "skip_h1_title": false,
   "title_cell": "Table of Contents",
   "title_sidebar": "Contents",
   "toc_cell": false,
   "toc_position": {},
   "toc_section_display": true,
   "toc_window_display": false
  },
  "varInspector": {
   "cols": {
    "lenName": 16,
    "lenType": 16,
    "lenVar": 40
   },
   "kernels_config": {
    "python": {
     "delete_cmd_postfix": "",
     "delete_cmd_prefix": "del ",
     "library": "var_list.py",
     "varRefreshCmd": "print(var_dic_list())"
    },
    "r": {
     "delete_cmd_postfix": ") ",
     "delete_cmd_prefix": "rm(",
     "library": "var_list.r",
     "varRefreshCmd": "cat(var_dic_list()) "
    }
   },
   "types_to_exclude": [
    "module",
    "function",
    "builtin_function_or_method",
    "instance",
    "_Feature"
   ],
   "window_display": false
  }
 },
 "nbformat": 4,
 "nbformat_minor": 2
}
