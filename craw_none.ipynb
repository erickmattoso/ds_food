{
 "cells": [
  {
   "cell_type": "code",
   "execution_count": 1,
   "metadata": {
    "ExecuteTime": {
     "end_time": "2019-07-29T21:43:55.310254Z",
     "start_time": "2019-07-29T21:43:55.065837Z"
    }
   },
   "outputs": [],
   "source": [
    "from http.client import HTTPConnection # Importing HTTPConnection from http.client.\n",
    "from bs4 import BeautifulSoup\n",
    "import requests\n",
    "from requests.adapters import HTTPAdapter\n",
    "from requests.packages.urllib3.util.retry import Retry"
   ]
  },
  {
   "cell_type": "code",
   "execution_count": 2,
   "metadata": {
    "ExecuteTime": {
     "end_time": "2019-07-29T21:43:55.350407Z",
     "start_time": "2019-07-29T21:43:55.315523Z"
    }
   },
   "outputs": [
    {
     "data": {
      "text/plain": [
       "22"
      ]
     },
     "execution_count": 2,
     "metadata": {},
     "output_type": "execute_result"
    }
   ],
   "source": [
    "list_sites = [\n",
    "    'https://www.tudogostoso.com.br',\n",
    "    'https://www.receitasetemperos.com.br',\n",
    "    'https://www.tastemade.com.br/',\n",
    "    'https://www.papogula.com.br/',\n",
    "    'https://www.yeswecook.com.br',\n",
    "    'https://www.comerparacrescer.com/',\n",
    "    'http://www.panelaterapia.com.br',\n",
    "    'https://chubbyvegan.net/blog/',\n",
    "    'https://guiadacozinha.com.br/',\n",
    "    'http://www.aquinacozinha.com/',\n",
    "    'https://obagastronomia.com.br/',\n",
    "    'http://www.sofisticado.com.br/',\n",
    "    'http://www.boacomida.com.br/',\n",
    "    'https://www.cuecasnacozinha.com.br/',\n",
    "    'http://gastronomianobrasil.com.br/',\n",
    "    'http://www.deliciadereceita.com.br/',\n",
    "    'https://www.cheftv.com.br/',\n",
    "    'http://www.milacozzi.com.br/',\n",
    "    'http://www.neka.com.br/',\n",
    "    'http://www.paganinigastronomia.com.br/',\n",
    "    'https://paladar.estadao.com.br/receitas',\n",
    "    'https://gshow.globo.com/receitas-gshow/'\n",
    "]\n",
    "len(list_sites)"
   ]
  },
  {
   "cell_type": "code",
   "execution_count": 3,
   "metadata": {
    "ExecuteTime": {
     "end_time": "2019-07-29T21:43:55.385535Z",
     "start_time": "2019-07-29T21:43:55.357408Z"
    }
   },
   "outputs": [],
   "source": [
    "def httpadapter(url):\n",
    "    session = requests.Session()\n",
    "    retry = Retry(connect=3, backoff_factor=0.5)\n",
    "    adapter = HTTPAdapter(max_retries=retry)\n",
    "    session.mount('http://', adapter)\n",
    "    session.mount('https://', adapter)\n",
    "    print(session.get(url))"
   ]
  },
  {
   "cell_type": "code",
   "execution_count": null,
   "metadata": {
    "ExecuteTime": {
     "start_time": "2019-07-29T21:43:54.967Z"
    },
    "scrolled": false
   },
   "outputs": [
    {
     "name": "stdout",
     "output_type": "stream",
     "text": [
      "<Response [403]>\n",
      "https://www.tudogostoso.com.br\n",
      "\n",
      "<Response [200]>\n",
      "https://www.receitasetemperos.com.br\n",
      "\n",
      "error\n",
      "https://www.tastemade.com.br/\n",
      "\n",
      "<Response [200]>\n",
      "https://www.papogula.com.br/\n",
      "\n",
      "<Response [200]>\n",
      "https://www.yeswecook.com.br\n",
      "\n",
      "<Response [200]>\n",
      "https://www.comerparacrescer.com/\n",
      "\n",
      "<Response [200]>\n",
      "http://www.panelaterapia.com.br\n",
      "\n",
      "<Response [200]>\n",
      "https://chubbyvegan.net/blog/\n",
      "\n",
      "<Response [200]>\n",
      "https://guiadacozinha.com.br/\n",
      "\n",
      "<Response [200]>\n",
      "http://www.aquinacozinha.com/\n",
      "\n",
      "<Response [200]>\n",
      "https://obagastronomia.com.br/\n",
      "\n",
      "<Response [500]>\n",
      "http://www.sofisticado.com.br/\n",
      "\n",
      "<Response [200]>\n",
      "http://www.boacomida.com.br/\n",
      "\n",
      "<Response [200]>\n",
      "https://www.cuecasnacozinha.com.br/\n",
      "\n"
     ]
    }
   ],
   "source": [
    "for i in range(len(list_sites)):\n",
    "    try:\n",
    "        httpadapter(list_sites[i])\n",
    "        print(list_sites[i])\n",
    "        print('')\n",
    "    except:\n",
    "        print('error')\n",
    "        print(list_sites[i])\n",
    "        print('')"
   ]
  },
  {
   "cell_type": "code",
   "execution_count": null,
   "metadata": {},
   "outputs": [],
   "source": []
  }
 ],
 "metadata": {
  "kernelspec": {
   "display_name": "Python 3",
   "language": "python",
   "name": "python3"
  },
  "language_info": {
   "codemirror_mode": {
    "name": "ipython",
    "version": 3
   },
   "file_extension": ".py",
   "mimetype": "text/x-python",
   "name": "python",
   "nbconvert_exporter": "python",
   "pygments_lexer": "ipython3",
   "version": "3.6.4"
  },
  "toc": {
   "base_numbering": 1,
   "nav_menu": {},
   "number_sections": true,
   "sideBar": true,
   "skip_h1_title": false,
   "title_cell": "Table of Contents",
   "title_sidebar": "Contents",
   "toc_cell": false,
   "toc_position": {},
   "toc_section_display": true,
   "toc_window_display": false
  },
  "varInspector": {
   "cols": {
    "lenName": 16,
    "lenType": 16,
    "lenVar": 40
   },
   "kernels_config": {
    "python": {
     "delete_cmd_postfix": "",
     "delete_cmd_prefix": "del ",
     "library": "var_list.py",
     "varRefreshCmd": "print(var_dic_list())"
    },
    "r": {
     "delete_cmd_postfix": ") ",
     "delete_cmd_prefix": "rm(",
     "library": "var_list.r",
     "varRefreshCmd": "cat(var_dic_list()) "
    }
   },
   "types_to_exclude": [
    "module",
    "function",
    "builtin_function_or_method",
    "instance",
    "_Feature"
   ],
   "window_display": false
  }
 },
 "nbformat": 4,
 "nbformat_minor": 2
}
